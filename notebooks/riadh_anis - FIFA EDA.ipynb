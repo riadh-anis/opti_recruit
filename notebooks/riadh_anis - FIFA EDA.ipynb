{
 "cells": [
  {
   "cell_type": "markdown",
   "id": "7afa360e",
   "metadata": {},
   "source": [
    "## FIFA EDA "
   ]
  },
  {
   "cell_type": "markdown",
   "id": "9e3e185c",
   "metadata": {},
   "source": [
    "### Libraries"
   ]
  },
  {
   "cell_type": "code",
   "execution_count": 66,
   "id": "91ade103",
   "metadata": {},
   "outputs": [],
   "source": [
    "%matplotlib inline\n",
    "\n",
    "import numpy as np\n",
    "import pandas as pd\n",
    "import matplotlib.pyplot as plt\n",
    "import seaborn as sns\n",
    "\n",
    "sns.set_theme()\n",
    "\n",
    "from sklearn import set_config; set_config(display='diagram')\n",
    "from sklearn.pipeline import make_pipeline\n",
    "from sklearn.pipeline import make_union\n",
    "from sklearn.compose import make_column_transformer, make_column_selector,ColumnTransformer\n",
    "from sklearn.pipeline import FeatureUnion\n",
    "from sklearn.preprocessing import FunctionTransformer\n",
    "from sklearn.preprocessing import OneHotEncoder,StandardScaler,MinMaxScaler\n",
    "from sklearn.impute import SimpleImputer\n",
    "from sklearn.pipeline import Pipeline\n",
    "from sklearn.linear_model import LinearRegression\n",
    "from sklearn.model_selection import train_test_split, cross_validate"
   ]
  },
  {
   "cell_type": "markdown",
   "id": "7424948b",
   "metadata": {},
   "source": [
    "### Data\n"
   ]
  },
  {
   "cell_type": "code",
   "execution_count": 67,
   "id": "f9e54f5d",
   "metadata": {},
   "outputs": [
    {
     "name": "stderr",
     "output_type": "stream",
     "text": [
      "/var/folders/tc/0tkkgmdd25n0rh3_pjfhw6mw0000gp/T/ipykernel_90078/2846777655.py:1: DtypeWarning: Columns (25,108) have mixed types. Specify dtype option on import or set low_memory=False.\n",
      "  df = pd.read_csv('../raw_data/fifa22/players_22.csv')\n"
     ]
    }
   ],
   "source": [
    "df = pd.read_csv('../raw_data/fifa22/players_22.csv')"
   ]
  },
  {
   "cell_type": "code",
   "execution_count": 69,
   "id": "1661ed20",
   "metadata": {},
   "outputs": [
    {
     "data": {
      "text/plain": [
       "0    2023.0\n",
       "1    2023.0\n",
       "2    2023.0\n",
       "3    2025.0\n",
       "4    2025.0\n",
       "Name: club_contract_valid_until, dtype: float64"
      ]
     },
     "execution_count": 69,
     "metadata": {},
     "output_type": "execute_result"
    }
   ],
   "source": [
    "df.club_contract_valid_until.head()"
   ]
  },
  {
   "cell_type": "code",
   "execution_count": 68,
   "id": "ab8925af",
   "metadata": {},
   "outputs": [
    {
     "name": "stdout",
     "output_type": "stream",
     "text": [
      "sofifa_id                  | player_url                 | short_name                 | \n",
      "long_name                  | player_positions           | overall                    | \n",
      "potential                  | value_eur                  | wage_eur                   | \n",
      "age                        | dob                        | height_cm                  | \n",
      "weight_kg                  | club_team_id               | club_name                  | \n",
      "league_name                | league_level               | club_position              | \n",
      "club_jersey_number         | club_loaned_from           | club_joined                | \n",
      "club_contract_valid_until  | nationality_id             | nationality_name           | \n",
      "nation_team_id             | nation_position            | nation_jersey_number       | \n",
      "preferred_foot             | weak_foot                  | skill_moves                | \n",
      "international_reputation   | work_rate                  | body_type                  | \n",
      "real_face                  | release_clause_eur         | player_tags                | \n",
      "player_traits              | pace                       | shooting                   | \n",
      "passing                    | dribbling                  | defending                  | \n",
      "physic                     | attacking_crossing         | attacking_finishing        | \n",
      "attacking_heading_accuracy | attacking_short_passing    | attacking_volleys          | \n",
      "skill_dribbling            | skill_curve                | skill_fk_accuracy          | \n",
      "skill_long_passing         | skill_ball_control         | movement_acceleration      | \n",
      "movement_sprint_speed      | movement_agility           | movement_reactions         | \n",
      "movement_balance           | power_shot_power           | power_jumping              | \n",
      "power_stamina              | power_strength             | power_long_shots           | \n",
      "mentality_aggression       | mentality_interceptions    | mentality_positioning      | \n",
      "mentality_vision           | mentality_penalties        | mentality_composure        | \n",
      "defending_marking_awareness | defending_standing_tackle  | defending_sliding_tackle   | \n",
      "goalkeeping_diving         | goalkeeping_handling       | goalkeeping_kicking        | \n",
      "goalkeeping_positioning    | goalkeeping_reflexes       | goalkeeping_speed          | \n",
      "ls                         | st                         | rs                         | \n",
      "lw                         | lf                         | cf                         | \n",
      "rf                         | rw                         | lam                        | \n",
      "cam                        | ram                        | lm                         | \n",
      "lcm                        | cm                         | rcm                        | \n",
      "rm                         | lwb                        | ldm                        | \n",
      "cdm                        | rdm                        | rwb                        | \n",
      "lb                         | lcb                        | cb                         | \n",
      "rcb                        | rb                         | gk                         | \n",
      "player_face_url            | club_logo_url              | club_flag_url              | \n",
      "nation_logo_url            | nation_flag_url            | "
     ]
    }
   ],
   "source": [
    "for index, col in enumerate(df.columns):\n",
    "    print(f\"{col:<26} | \", end=\"\")\n",
    "    if (index % 3 == 2):\n",
    "        print(\"\\n\", end=\"\")"
   ]
  },
  {
   "cell_type": "code",
   "execution_count": null,
   "id": "d6168d93",
   "metadata": {},
   "outputs": [],
   "source": [
    "to_drop = ['club_logo_url','nation_flag_url','club_flag_url','nation_logo_url','player_face_url','dob','player_url',\n",
    "           'real_face','nation_jersey_number','nation_position']\n",
    "\n",
    "df2 = df.drop(to_drop, axis = 1)"
   ]
  },
  {
   "cell_type": "code",
   "execution_count": null,
   "id": "58a55fd0",
   "metadata": {},
   "outputs": [],
   "source": [
    "positions = ['ls','st','rs','lw','lf','cf','rf','rw','lam','cam','ram','lm','lcm','cm','rcm',\n",
    "           'rm','lwb','ldm', 'cdm','rdm','rwb','lb','lcb','cb','rcb','rb']\n",
    "for col in positions:\n",
    "  df2[col] = df2[col].str.split('+',n=1,expand = True)[0]"
   ]
  },
  {
   "cell_type": "markdown",
   "id": "c25cb4d9",
   "metadata": {},
   "source": [
    "### Descriptive Stats"
   ]
  },
  {
   "cell_type": "code",
   "execution_count": null,
   "id": "9803064d",
   "metadata": {
    "scrolled": true
   },
   "outputs": [],
   "source": [
    "df.info()"
   ]
  },
  {
   "cell_type": "code",
   "execution_count": null,
   "id": "e9bd60f0",
   "metadata": {},
   "outputs": [],
   "source": [
    "df.shape"
   ]
  },
  {
   "cell_type": "code",
   "execution_count": null,
   "id": "751b4fb8",
   "metadata": {},
   "outputs": [],
   "source": [
    "df.isnull().sum()"
   ]
  },
  {
   "cell_type": "code",
   "execution_count": null,
   "id": "923aa6c0",
   "metadata": {
    "scrolled": true
   },
   "outputs": [],
   "source": [
    "df2.describe()"
   ]
  },
  {
   "cell_type": "code",
   "execution_count": null,
   "id": "121cbb7f",
   "metadata": {},
   "outputs": [],
   "source": [
    "val = df2['player_positions']\n",
    "pref_pos = []\n",
    "\n",
    "for i in val:\n",
    "    a = i.split(',')\n",
    "    pref_pos.append(a[0])\n",
    "\n",
    "df2['prefered_pos'] = pref_pos\n"
   ]
  },
  {
   "cell_type": "code",
   "execution_count": null,
   "id": "478e8cde",
   "metadata": {
    "scrolled": true
   },
   "outputs": [],
   "source": [
    "df2.head()"
   ]
  },
  {
   "cell_type": "code",
   "execution_count": null,
   "id": "cad3174a",
   "metadata": {},
   "outputs": [],
   "source": [
    "df2['expected_imporvement'] = df2.potential - df2.overall "
   ]
  },
  {
   "cell_type": "code",
   "execution_count": null,
   "id": "beec1860",
   "metadata": {},
   "outputs": [],
   "source": [
    "df2[df2['expected_imporvement'] < 0].shape"
   ]
  },
  {
   "cell_type": "code",
   "execution_count": null,
   "id": "e024ace5",
   "metadata": {},
   "outputs": [],
   "source": [
    "df_growth = df2[df2['expected_imporvement'] > 0]\n",
    "\n",
    "df_growth.describe()"
   ]
  },
  {
   "cell_type": "markdown",
   "id": "503fa99f",
   "metadata": {},
   "source": [
    "### Viz"
   ]
  },
  {
   "cell_type": "code",
   "execution_count": null,
   "id": "05b1b3f5",
   "metadata": {
    "scrolled": true
   },
   "outputs": [],
   "source": [
    "sns.set(rc={'figure.figsize':(15,8)})\n",
    "sns.boxplot(x='prefered_pos',y='overall',data=df2)\n",
    "plt.ticklabel_format(style='plain', axis='y')"
   ]
  },
  {
   "cell_type": "code",
   "execution_count": null,
   "id": "caa18704",
   "metadata": {
    "scrolled": false
   },
   "outputs": [],
   "source": [
    "sns.set(rc={'figure.figsize':(15,8)})\n",
    "sns.boxplot(x='prefered_pos',y='value_eur',data=df2)\n",
    "plt.ticklabel_format(style='plain', axis='y')"
   ]
  },
  {
   "cell_type": "code",
   "execution_count": null,
   "id": "a1ebd24b",
   "metadata": {},
   "outputs": [],
   "source": [
    "sns.relplot(x='overall',y='value_eur',hue='age',palette = 'viridis', sizes=(15, 200),aspect=2,data=df2)\n",
    "plt.title('Overall Rating vs Value in Euros',fontsize = 20)\n",
    "plt.xlabel('Overall Rating')\n",
    "plt.ylabel('Value in Euros')\n",
    "plt.show()"
   ]
  },
  {
   "cell_type": "code",
   "execution_count": null,
   "id": "8e9126b6",
   "metadata": {},
   "outputs": [],
   "source": [
    "sns.relplot(x='potential',y='value_eur',hue='age',palette = 'viridis', sizes=(15, 200),aspect=2,data=df2)\n",
    "plt.title('Potential Rating vs Value in Euros',fontsize = 20)\n",
    "plt.xlabel('Potential Rating')\n",
    "plt.ylabel('Value in Euros')\n",
    "plt.show()"
   ]
  },
  {
   "cell_type": "code",
   "execution_count": null,
   "id": "34c28b38",
   "metadata": {},
   "outputs": [],
   "source": [
    "df['value_eur'].hist()"
   ]
  },
  {
   "cell_type": "code",
   "execution_count": null,
   "id": "963d6a07",
   "metadata": {},
   "outputs": [],
   "source": [
    "physical_attributes = [\n",
    "    \"height_cm\",\n",
    "    \"weight_kg\",\n",
    "    \"power_strength\",\n",
    "    \"pace\",\n",
    "    \"movement_sprint_speed\",\n",
    "    \"physic\"\n",
    "    ]\n",
    "\n",
    "f = plt.figure(figsize=(20, 9))\n",
    "gs = f.add_gridspec(2, 4)\n",
    "\n",
    "with sns.axes_style(\"white\"):\n",
    "    sns.set_style(\"ticks\")\n",
    "    x = 0\n",
    "    y = 0\n",
    "    for attr in physical_attributes:\n",
    "        ax = f.add_subplot(gs[x, y])\n",
    "        # sns.histplot(data=df, x=attr, bins=25, kde=True);\n",
    "        sns.kdeplot(data=df, x=attr, cut=0, fill=True, palette=\"crest\", linewidth=0, alpha=.5);\n",
    "        plt.title(f\"Distribution of {attr}\");\n",
    "        plt.axvline(x=np.mean(df[attr]),c='red',label=f'Mean {attr}')\n",
    "        plt.xlabel(attr);\n",
    "        plt.ylabel(\"Frequency\");\n",
    "        plt.legend(loc=\"upper left\")\n",
    "        sns.despine(trim=True, offset=5)\n",
    "        y+=1\n",
    "        if (y % 3) == 0:\n",
    "            y = 0\n",
    "            x +=1\n",
    "\n",
    "f.tight_layout()"
   ]
  },
  {
   "cell_type": "code",
   "execution_count": null,
   "id": "a87bdb93",
   "metadata": {},
   "outputs": [],
   "source": [
    "sns.set(rc={'figure.figsize':(15,8)})\n",
    "sns.boxplot(x='league_level',y='expected_imporvement',data=df_growth)\n",
    "plt.ticklabel_format(style='plain', axis='y')"
   ]
  },
  {
   "cell_type": "code",
   "execution_count": null,
   "id": "4fafb9c2",
   "metadata": {},
   "outputs": [],
   "source": [
    "df_growth.league_level.value_counts()"
   ]
  },
  {
   "cell_type": "code",
   "execution_count": null,
   "id": "8eff9a19",
   "metadata": {},
   "outputs": [],
   "source": [
    "df_growth.groupby('league_level')[['expected_imporvement']].max()"
   ]
  },
  {
   "cell_type": "code",
   "execution_count": null,
   "id": "ffe113d7",
   "metadata": {
    "scrolled": true
   },
   "outputs": [],
   "source": [
    "sns.displot(\n",
    "  data=df_growth,\n",
    "  x=\"overall\",\n",
    "  col=\"league_level\",\n",
    "  kind=\"hist\",\n",
    "  aspect=1.4,\n",
    "  log_scale=10,\n",
    "  bins=20\n",
    ")\n",
    "plt.ticklabel_format(style='plain', axis='y')"
   ]
  },
  {
   "cell_type": "code",
   "execution_count": null,
   "id": "98316d15",
   "metadata": {},
   "outputs": [],
   "source": [
    "df_growth.groupby('league_level')[['potential']].max()"
   ]
  },
  {
   "cell_type": "code",
   "execution_count": null,
   "id": "561eec7d",
   "metadata": {},
   "outputs": [],
   "source": [
    "df_growth[(df_growth['league_level']==3) &(df_growth['potential']==84)]"
   ]
  },
  {
   "cell_type": "code",
   "execution_count": null,
   "id": "04c3a390",
   "metadata": {
    "scrolled": false
   },
   "outputs": [],
   "source": [
    "df_growth[(df_growth['league_level']==4) &(df_growth['expected_imporvement']==23)]"
   ]
  },
  {
   "cell_type": "code",
   "execution_count": 70,
   "id": "522df623",
   "metadata": {},
   "outputs": [
    {
     "data": {
      "text/plain": [
       "SUB    8299\n",
       "RES    3168\n",
       "RCB     701\n",
       "GK      701\n",
       "LCB     701\n",
       "RB      515\n",
       "LB      515\n",
       "ST      476\n",
       "RCM     470\n",
       "LCM     470\n",
       "LM      410\n",
       "RM      410\n",
       "CAM     292\n",
       "LDM     223\n",
       "RDM     223\n",
       "LS      223\n",
       "RS      223\n",
       "CB      186\n",
       "RW      185\n",
       "LW      185\n",
       "CDM     168\n",
       "RWB     116\n",
       "LWB     116\n",
       "CM       83\n",
       "RF       35\n",
       "LF       35\n",
       "LAM      21\n",
       "RAM      21\n",
       "CF        7\n",
       "Name: club_position, dtype: int64"
      ]
     },
     "execution_count": 70,
     "metadata": {},
     "output_type": "execute_result"
    }
   ],
   "source": [
    "df.club_position.value_counts()"
   ]
  },
  {
   "cell_type": "code",
   "execution_count": null,
   "id": "f52d75d8",
   "metadata": {},
   "outputs": [],
   "source": [
    "\n",
    "def is_bench(d):\n",
    "    if d in (\"SUB\", \"RES\", \"\"):\n",
    "        return True \n",
    "    return False\n",
    "\n",
    "df2['is_bench']=df2['club_position'].apply(is_bench)\n",
    "\n",
    "df2.head()"
   ]
  },
  {
   "cell_type": "code",
   "execution_count": null,
   "id": "9d8f324f",
   "metadata": {},
   "outputs": [],
   "source": [
    "df2['club_position'].value_counts()"
   ]
  },
  {
   "cell_type": "markdown",
   "id": "db15b289",
   "metadata": {},
   "source": [
    "## Baseline Model\n"
   ]
  },
  {
   "cell_type": "code",
   "execution_count": null,
   "id": "668cc1a4",
   "metadata": {},
   "outputs": [],
   "source": [
    "# positions = ['ls','st','rs','lw','lf','cf','rf','rw','lam','cam','ram','lm','lcm','cm','rcm',\n",
    "#            'rm','lwb','ldm', 'cdm','rdm','rwb','lb','lcb','cb','rcb','rb']\n",
    "\n",
    "# for col in positions:\n",
    "#     df22[col] = df22[col].str.split('+',n=1,expand = True)[0]\n",
    "#     df22[col].astype('int32')\n",
    "    \n",
    "#     df21[col] = df21[col].str.split('+',n=1,expand = True)[0]\n",
    "#     df21[col].astype('int32')\n",
    "    \n",
    "#     df20[col] = df20[col].str.split('+',n=1,expand = True)[0]\n",
    "#     df20[col].astype('int32')\n",
    "    \n",
    "#     df19[col] = df19[col].str.split('+',n=1,expand = True)[0]\n",
    "#     df19[col].astype('int32')\n",
    "    \n",
    "#     df18[col] = df18[col].str.split('+',n=1,expand = True)[0]\n",
    "#     df18[col].astype('int32')"
   ]
  },
  {
   "cell_type": "markdown",
   "id": "7ab2c053",
   "metadata": {},
   "source": [
    "### Data Load"
   ]
  },
  {
   "cell_type": "code",
   "execution_count": 2,
   "id": "7ff8adac",
   "metadata": {},
   "outputs": [],
   "source": [
    "def is_bench(d):\n",
    "    if d in (\"SUB\", \"RES\", \"\"):\n",
    "        return True \n",
    "    return False\n"
   ]
  },
  {
   "cell_type": "code",
   "execution_count": 3,
   "id": "97cf8f7e",
   "metadata": {},
   "outputs": [
    {
     "name": "stderr",
     "output_type": "stream",
     "text": [
      "/var/folders/tc/0tkkgmdd25n0rh3_pjfhw6mw0000gp/T/ipykernel_90078/982689103.py:1: DtypeWarning: Columns (25,108) have mixed types. Specify dtype option on import or set low_memory=False.\n",
      "  df_22 = pd.read_csv('../raw_data/fifa22/players_22.csv')\n",
      "/var/folders/tc/0tkkgmdd25n0rh3_pjfhw6mw0000gp/T/ipykernel_90078/982689103.py:5: DtypeWarning: Columns (81,82,83,84,85) have mixed types. Specify dtype option on import or set low_memory=False.\n",
      "  df_18 = pd.read_csv('../raw_data/fifa22/players_18.csv')\n"
     ]
    }
   ],
   "source": [
    "df_22 = pd.read_csv('../raw_data/fifa22/players_22.csv')\n",
    "df_21 = pd.read_csv('../raw_data/fifa22/players_21.csv')\n",
    "df_20 = pd.read_csv('../raw_data/fifa22/players_20.csv')\n",
    "df_19 = pd.read_csv('../raw_data/fifa22/players_19.csv')\n",
    "df_18 = pd.read_csv('../raw_data/fifa22/players_18.csv')"
   ]
  },
  {
   "cell_type": "code",
   "execution_count": 4,
   "id": "92d1c791",
   "metadata": {},
   "outputs": [],
   "source": [
    "to_drop = ['club_logo_url','nation_flag_url','club_flag_url','nation_logo_url','player_face_url','dob','player_url',\n",
    "           'real_face','nation_jersey_number','nation_position','club_loaned_from','long_name','player_url'\n",
    "          ,'ls','st','rs','lw','lf','cf','rf','rw','lam','cam','ram','lm','lcm','cm','rcm',\n",
    "           'rm','lwb','ldm', 'cdm','rdm','rwb','lb','lcb','cb','rcb','rb','gk','club_jersey_number','nation_jersey_number']\n",
    "\n"
   ]
  },
  {
   "cell_type": "code",
   "execution_count": 5,
   "id": "b163e1e2",
   "metadata": {},
   "outputs": [],
   "source": [
    "df22 = df_22.drop(to_drop, axis = 1)\n",
    "df21 = df_21.drop(to_drop, axis = 1)\n",
    "df20 = df_20.drop(to_drop, axis = 1)\n",
    "df19 = df_19.drop(to_drop, axis = 1)\n",
    "df18 = df_18.drop(to_drop, axis = 1)"
   ]
  },
  {
   "cell_type": "code",
   "execution_count": 6,
   "id": "d3f1b535",
   "metadata": {},
   "outputs": [],
   "source": [
    "dfs = [df18, df19, df20, df21,df22]\n",
    "\n",
    "for frame in dfs:\n",
    "    frame['is_bench'] = frame['club_position'].apply(is_bench)"
   ]
  },
  {
   "cell_type": "markdown",
   "id": "2f4d46f0",
   "metadata": {},
   "source": [
    "### data types"
   ]
  },
  {
   "cell_type": "code",
   "execution_count": 7,
   "id": "c5580d1a",
   "metadata": {
    "collapsed": true
   },
   "outputs": [
    {
     "ename": "NameError",
     "evalue": "name 'df_all' is not defined",
     "output_type": "error",
     "traceback": [
      "\u001b[0;31m---------------------------------------------------------------------------\u001b[0m",
      "\u001b[0;31mNameError\u001b[0m                                 Traceback (most recent call last)",
      "Input \u001b[0;32mIn [7]\u001b[0m, in \u001b[0;36m<module>\u001b[0;34m\u001b[0m\n\u001b[0;32m----> 1\u001b[0m \u001b[43mdf_all\u001b[49m\u001b[38;5;241m.\u001b[39mselect_dtypes(\u001b[38;5;124m\"\u001b[39m\u001b[38;5;124mbool\u001b[39m\u001b[38;5;124m\"\u001b[39m)\u001b[38;5;241m.\u001b[39mnunique()\n",
      "\u001b[0;31mNameError\u001b[0m: name 'df_all' is not defined"
     ]
    }
   ],
   "source": [
    "df_all.select_dtypes(\"bool\").nunique()"
   ]
  },
  {
   "cell_type": "code",
   "execution_count": 8,
   "id": "b3386fb8",
   "metadata": {},
   "outputs": [
    {
     "data": {
      "text/plain": [
       "int64      44\n",
       "float64    14\n",
       "object     12\n",
       "bool        1\n",
       "dtype: int64"
      ]
     },
     "execution_count": 8,
     "metadata": {},
     "output_type": "execute_result"
    }
   ],
   "source": [
    "# df21.dtypes\n",
    "df21.dtypes.value_counts()"
   ]
  },
  {
   "cell_type": "code",
   "execution_count": 71,
   "id": "6a2c9524",
   "metadata": {},
   "outputs": [
    {
     "data": {
      "text/plain": [
       "CB              2423\n",
       "GK              2132\n",
       "ST              1770\n",
       "CDM, CM          953\n",
       "CM               726\n",
       "                ... \n",
       "CAM, CDM, ST       1\n",
       "CDM, RWB, CB       1\n",
       "ST, CAM, RW        1\n",
       "ST, CF, RM         1\n",
       "CDM, LM, LB        1\n",
       "Name: player_positions, Length: 674, dtype: int64"
      ]
     },
     "execution_count": 71,
     "metadata": {},
     "output_type": "execute_result"
    }
   ],
   "source": [
    "df.player_positions.value_counts()"
   ]
  },
  {
   "cell_type": "code",
   "execution_count": 9,
   "id": "a223a050",
   "metadata": {},
   "outputs": [],
   "source": [
    "pos22 = df22['player_positions']\n",
    "pos21 = df21['player_positions']\n",
    "pos20 = df20['player_positions']\n",
    "pos19 = df19['player_positions']\n",
    "pos18 = df18['player_positions']"
   ]
  },
  {
   "cell_type": "code",
   "execution_count": 10,
   "id": "1078420d",
   "metadata": {},
   "outputs": [],
   "source": [
    "\n",
    "pref_pos_22 = []\n",
    "pref_pos_21 = []\n",
    "pref_pos_20 = []\n",
    "pref_pos_19 = []\n",
    "pref_pos_18 = []\n",
    "\n",
    "for i in pos22:\n",
    "    a = i.split(',')\n",
    "    pref_pos_22.append(a[0])\n",
    "df22['prefered_pos'] = pref_pos_22\n",
    "\n",
    "for i in pos21:\n",
    "    a = i.split(',')\n",
    "    pref_pos_21.append(a[0])\n",
    "df21['prefered_pos'] = pref_pos_21\n",
    "\n",
    "\n",
    "for i in pos20:\n",
    "    a = i.split(',')\n",
    "    pref_pos_20.append(a[0])\n",
    "df20['prefered_pos'] = pref_pos_20\n",
    "\n",
    "for i in pos19:\n",
    "    a = i.split(',')\n",
    "    pref_pos_19.append(a[0])\n",
    "df19['prefered_pos'] = pref_pos_19\n",
    "\n",
    "for i in pos18:\n",
    "    a = i.split(',')\n",
    "    pref_pos_18.append(a[0])\n",
    "df18['prefered_pos'] = pref_pos_18"
   ]
  },
  {
   "cell_type": "code",
   "execution_count": 11,
   "id": "8e7ba070",
   "metadata": {},
   "outputs": [],
   "source": [
    "df22 = df22.drop('player_positions', axis = 1)\n",
    "df21 = df21.drop('player_positions', axis = 1)\n",
    "df20 = df20.drop('player_positions', axis = 1)\n",
    "df19 = df19.drop('player_positions', axis = 1)\n",
    "df18 = df18.drop('player_positions', axis = 1)"
   ]
  },
  {
   "cell_type": "code",
   "execution_count": 12,
   "id": "828a1398",
   "metadata": {},
   "outputs": [],
   "source": [
    "\n",
    "df22['prefered_pos'] = df22['prefered_pos'].astype('category')\n",
    "df21['prefered_pos'] = df21['prefered_pos'].astype('category')\n",
    "df20['prefered_pos'] = df20['prefered_pos'].astype('category')\n",
    "df19['prefered_pos'] = df19['prefered_pos'].astype('category')\n",
    "df18['prefered_pos'] = df18['prefered_pos'].astype('category')\n"
   ]
  },
  {
   "cell_type": "code",
   "execution_count": 13,
   "id": "262ce009",
   "metadata": {
    "collapsed": true
   },
   "outputs": [
    {
     "data": {
      "text/plain": [
       "int64       44\n",
       "float64     14\n",
       "object      11\n",
       "bool         1\n",
       "category     1\n",
       "dtype: int64"
      ]
     },
     "execution_count": 13,
     "metadata": {},
     "output_type": "execute_result"
    }
   ],
   "source": [
    "df20.dtypes.value_counts()"
   ]
  },
  {
   "cell_type": "markdown",
   "id": "dc209533",
   "metadata": {},
   "source": [
    "### Join Dataframes"
   ]
  },
  {
   "cell_type": "code",
   "execution_count": 24,
   "id": "6db78a31",
   "metadata": {},
   "outputs": [],
   "source": [
    "\n",
    "df_all = df22.join(df21, rsuffix='_21')\n",
    "df_all = df_all.join(df20, rsuffix='_20')\n",
    "df_all = df_all.join(df19, rsuffix='_19')\n",
    "df_all = df_all.join(df18, rsuffix='_18')\n",
    "\n"
   ]
  },
  {
   "cell_type": "code",
   "execution_count": 22,
   "id": "4f85918f",
   "metadata": {},
   "outputs": [],
   "source": [
    "\n",
    "df21_mod = df21.add_suffix('_21')\n",
    "df_mod = df21_mod.join(df20, rsuffix=f'_20')\n",
    "df_mod = df_mod.join(df19, rsuffix='_19')\n",
    "# df_model = df_model.join(df18, rsuffix='_18')\n"
   ]
  },
  {
   "cell_type": "code",
   "execution_count": 25,
   "id": "a687d7e3",
   "metadata": {
    "collapsed": true
   },
   "outputs": [
    {
     "data": {
      "text/plain": [
       "prefered_pos       15\n",
       "prefered_pos_21    15\n",
       "prefered_pos_20    15\n",
       "prefered_pos_19    15\n",
       "prefered_pos_18    15\n",
       "dtype: int64"
      ]
     },
     "execution_count": 25,
     "metadata": {},
     "output_type": "execute_result"
    }
   ],
   "source": [
    "df_all.select_dtypes(\"category\").nunique()"
   ]
  },
  {
   "cell_type": "code",
   "execution_count": 34,
   "id": "36474c78",
   "metadata": {},
   "outputs": [],
   "source": [
    "df_all['is_bench_21'] = df_all['is_bench_21'].astype('bool')\n",
    "df_all['is_bench_20'] = df_all['is_bench_20'].astype('bool')\n",
    "df_all['is_bench_19'] = df_all['is_bench_19'].astype('bool')\n",
    "df_all['is_bench_18'] = df_all['is_bench_18'].astype('bool')\n"
   ]
  },
  {
   "cell_type": "markdown",
   "id": "ada6117c",
   "metadata": {},
   "source": [
    "#### Check distinct values for Bool / object types"
   ]
  },
  {
   "cell_type": "code",
   "execution_count": 35,
   "id": "b8b5fced",
   "metadata": {
    "collapsed": true
   },
   "outputs": [
    {
     "data": {
      "text/plain": [
       "is_bench       2\n",
       "is_bench_21    2\n",
       "is_bench_20    2\n",
       "is_bench_19    2\n",
       "is_bench_18    2\n",
       "dtype: int64"
      ]
     },
     "execution_count": 35,
     "metadata": {},
     "output_type": "execute_result"
    }
   ],
   "source": [
    "df_all.select_dtypes(\"bool\").nunique()"
   ]
  },
  {
   "cell_type": "code",
   "execution_count": 26,
   "id": "fd562616",
   "metadata": {
    "collapsed": true
   },
   "outputs": [
    {
     "data": {
      "text/plain": [
       "#Strength                                                                   494\n",
       "#Acrobat                                                                    235\n",
       "#Engine                                                                     203\n",
       "#Speedster                                                                  146\n",
       "#Aerial Threat, #Strength                                                    58\n",
       "                                                                           ... \n",
       "#Aerial Threat, #Distance Shooter, #Clinical Finisher, #Complete Forward      1\n",
       "#Tactician, #Strength                                                         1\n",
       "#Dribbler, #Engine                                                            1\n",
       "#Dribbler, #Acrobat, #Clinical Finisher, #Complete Forward                    1\n",
       "#Aerial Threat, #Clinical Finisher, #Complete Forward                         1\n",
       "Name: player_tags, Length: 71, dtype: int64"
      ]
     },
     "execution_count": 26,
     "metadata": {},
     "output_type": "execute_result"
    }
   ],
   "source": [
    "df_all['player_tags'].value_counts()"
   ]
  },
  {
   "cell_type": "markdown",
   "id": "10d3f7c1",
   "metadata": {},
   "source": [
    "#### Create set of cat features with less than 10 values per feature"
   ]
  },
  {
   "cell_type": "code",
   "execution_count": 36,
   "id": "cf720cee",
   "metadata": {},
   "outputs": [],
   "source": [
    "feat_categorical_nunique = df_all.select_dtypes(\"object\").nunique()\n",
    "# feat_categorical_nunique.sum()\n",
    "# print(feat_categorical_nunique.keys())"
   ]
  },
  {
   "cell_type": "code",
   "execution_count": 37,
   "id": "b07b787c",
   "metadata": {},
   "outputs": [
    {
     "data": {
      "text/plain": [
       "preferred_foot       2\n",
       "work_rate            9\n",
       "preferred_foot_21    2\n",
       "work_rate_21         9\n",
       "preferred_foot_20    2\n",
       "work_rate_20         9\n",
       "preferred_foot_19    2\n",
       "work_rate_19         9\n",
       "preferred_foot_18    2\n",
       "work_rate_18         9\n",
       "dtype: int64"
      ]
     },
     "execution_count": 37,
     "metadata": {},
     "output_type": "execute_result"
    }
   ],
   "source": [
    "feat_categorical_small = feat_categorical_nunique[feat_categorical_nunique < 10]\n",
    "feat_categorical_small"
   ]
  },
  {
   "cell_type": "code",
   "execution_count": null,
   "id": "3d3a2595",
   "metadata": {},
   "outputs": [],
   "source": [
    "for index, col in enumerate(feat_categorical_nunique.keys()):\n",
    "    print(f\"{col:<26} | \", end=\"\")\n",
    "    if (index % 3 == 2):\n",
    "        print(\"\\n\", end=\"\")"
   ]
  },
  {
   "cell_type": "markdown",
   "id": "a988be43",
   "metadata": {},
   "source": [
    "### Preprocessing "
   ]
  },
  {
   "cell_type": "code",
   "execution_count": 38,
   "id": "8c9456ee",
   "metadata": {},
   "outputs": [
    {
     "data": {
      "text/plain": [
       "Index(['preferred_foot', 'work_rate', 'preferred_foot_21', 'work_rate_21',\n",
       "       'preferred_foot_20', 'work_rate_20', 'preferred_foot_19',\n",
       "       'work_rate_19', 'preferred_foot_18', 'work_rate_18'],\n",
       "      dtype='object')"
      ]
     },
     "execution_count": 38,
     "metadata": {},
     "output_type": "execute_result"
    }
   ],
   "source": [
    "feat_categorical_small.keys()\n"
   ]
  },
  {
   "cell_type": "code",
   "execution_count": 62,
   "id": "3d555d87",
   "metadata": {},
   "outputs": [
    {
     "data": {
      "text/html": [
       "<style>#sk-22ba9127-ccd4-4370-8d35-2f9dec9ccc7e {color: black;background-color: white;}#sk-22ba9127-ccd4-4370-8d35-2f9dec9ccc7e pre{padding: 0;}#sk-22ba9127-ccd4-4370-8d35-2f9dec9ccc7e div.sk-toggleable {background-color: white;}#sk-22ba9127-ccd4-4370-8d35-2f9dec9ccc7e label.sk-toggleable__label {cursor: pointer;display: block;width: 100%;margin-bottom: 0;padding: 0.3em;box-sizing: border-box;text-align: center;}#sk-22ba9127-ccd4-4370-8d35-2f9dec9ccc7e label.sk-toggleable__label-arrow:before {content: \"▸\";float: left;margin-right: 0.25em;color: #696969;}#sk-22ba9127-ccd4-4370-8d35-2f9dec9ccc7e label.sk-toggleable__label-arrow:hover:before {color: black;}#sk-22ba9127-ccd4-4370-8d35-2f9dec9ccc7e div.sk-estimator:hover label.sk-toggleable__label-arrow:before {color: black;}#sk-22ba9127-ccd4-4370-8d35-2f9dec9ccc7e div.sk-toggleable__content {max-height: 0;max-width: 0;overflow: hidden;text-align: left;background-color: #f0f8ff;}#sk-22ba9127-ccd4-4370-8d35-2f9dec9ccc7e div.sk-toggleable__content pre {margin: 0.2em;color: black;border-radius: 0.25em;background-color: #f0f8ff;}#sk-22ba9127-ccd4-4370-8d35-2f9dec9ccc7e input.sk-toggleable__control:checked~div.sk-toggleable__content {max-height: 200px;max-width: 100%;overflow: auto;}#sk-22ba9127-ccd4-4370-8d35-2f9dec9ccc7e input.sk-toggleable__control:checked~label.sk-toggleable__label-arrow:before {content: \"▾\";}#sk-22ba9127-ccd4-4370-8d35-2f9dec9ccc7e div.sk-estimator input.sk-toggleable__control:checked~label.sk-toggleable__label {background-color: #d4ebff;}#sk-22ba9127-ccd4-4370-8d35-2f9dec9ccc7e div.sk-label input.sk-toggleable__control:checked~label.sk-toggleable__label {background-color: #d4ebff;}#sk-22ba9127-ccd4-4370-8d35-2f9dec9ccc7e input.sk-hidden--visually {border: 0;clip: rect(1px 1px 1px 1px);clip: rect(1px, 1px, 1px, 1px);height: 1px;margin: -1px;overflow: hidden;padding: 0;position: absolute;width: 1px;}#sk-22ba9127-ccd4-4370-8d35-2f9dec9ccc7e div.sk-estimator {font-family: monospace;background-color: #f0f8ff;border: 1px dotted black;border-radius: 0.25em;box-sizing: border-box;margin-bottom: 0.5em;}#sk-22ba9127-ccd4-4370-8d35-2f9dec9ccc7e div.sk-estimator:hover {background-color: #d4ebff;}#sk-22ba9127-ccd4-4370-8d35-2f9dec9ccc7e div.sk-parallel-item::after {content: \"\";width: 100%;border-bottom: 1px solid gray;flex-grow: 1;}#sk-22ba9127-ccd4-4370-8d35-2f9dec9ccc7e div.sk-label:hover label.sk-toggleable__label {background-color: #d4ebff;}#sk-22ba9127-ccd4-4370-8d35-2f9dec9ccc7e div.sk-serial::before {content: \"\";position: absolute;border-left: 1px solid gray;box-sizing: border-box;top: 2em;bottom: 0;left: 50%;}#sk-22ba9127-ccd4-4370-8d35-2f9dec9ccc7e div.sk-serial {display: flex;flex-direction: column;align-items: center;background-color: white;padding-right: 0.2em;padding-left: 0.2em;}#sk-22ba9127-ccd4-4370-8d35-2f9dec9ccc7e div.sk-item {z-index: 1;}#sk-22ba9127-ccd4-4370-8d35-2f9dec9ccc7e div.sk-parallel {display: flex;align-items: stretch;justify-content: center;background-color: white;}#sk-22ba9127-ccd4-4370-8d35-2f9dec9ccc7e div.sk-parallel::before {content: \"\";position: absolute;border-left: 1px solid gray;box-sizing: border-box;top: 2em;bottom: 0;left: 50%;}#sk-22ba9127-ccd4-4370-8d35-2f9dec9ccc7e div.sk-parallel-item {display: flex;flex-direction: column;position: relative;background-color: white;}#sk-22ba9127-ccd4-4370-8d35-2f9dec9ccc7e div.sk-parallel-item:first-child::after {align-self: flex-end;width: 50%;}#sk-22ba9127-ccd4-4370-8d35-2f9dec9ccc7e div.sk-parallel-item:last-child::after {align-self: flex-start;width: 50%;}#sk-22ba9127-ccd4-4370-8d35-2f9dec9ccc7e div.sk-parallel-item:only-child::after {width: 0;}#sk-22ba9127-ccd4-4370-8d35-2f9dec9ccc7e div.sk-dashed-wrapped {border: 1px dashed gray;margin: 0 0.4em 0.5em 0.4em;box-sizing: border-box;padding-bottom: 0.4em;background-color: white;position: relative;}#sk-22ba9127-ccd4-4370-8d35-2f9dec9ccc7e div.sk-label label {font-family: monospace;font-weight: bold;background-color: white;display: inline-block;line-height: 1.2em;}#sk-22ba9127-ccd4-4370-8d35-2f9dec9ccc7e div.sk-label-container {position: relative;z-index: 2;text-align: center;}#sk-22ba9127-ccd4-4370-8d35-2f9dec9ccc7e div.sk-container {/* jupyter's `normalize.less` sets `[hidden] { display: none; }` but bootstrap.min.css set `[hidden] { display: none !important; }` so we also need the `!important` here to be able to override the default hidden behavior on the sphinx rendered scikit-learn.org. See: https://github.com/scikit-learn/scikit-learn/issues/21755 */display: inline-block !important;position: relative;}#sk-22ba9127-ccd4-4370-8d35-2f9dec9ccc7e div.sk-text-repr-fallback {display: none;}</style><div id=\"sk-22ba9127-ccd4-4370-8d35-2f9dec9ccc7e\" class=\"sk-top-container\"><div class=\"sk-text-repr-fallback\"><pre>ColumnTransformer(transformers=[(&#x27;num_tr&#x27;,\n",
       "                                 Pipeline(steps=[(&#x27;imputer&#x27;, SimpleImputer()),\n",
       "                                                 (&#x27;scaler&#x27;, MinMaxScaler())]),\n",
       "                                 &lt;sklearn.compose._column_transformer.make_column_selector object at 0x142022130&gt;),\n",
       "                                (&#x27;cat_tr&#x27;,\n",
       "                                 Pipeline(steps=[(&#x27;imputer&#x27;,\n",
       "                                                  SimpleImputer(strategy=&#x27;most_frequent&#x27;)),\n",
       "                                                 (&#x27;ohe&#x27;,\n",
       "                                                  OneHotEncoder(handle_unknown=&#x27;ignore&#x27;,\n",
       "                                                                sparse=False))]),\n",
       "                                 [Index([&#x27;preferred_foot&#x27;, &#x27;work_rate&#x27;, &#x27;preferred_foot_21&#x27;, &#x27;work_rate_21&#x27;,\n",
       "       &#x27;preferred_foot_20&#x27;, &#x27;work_rate_20&#x27;, &#x27;preferred_foot_19&#x27;,\n",
       "       &#x27;work_rate_19&#x27;, &#x27;preferred_foot_18&#x27;, &#x27;work_rate_18&#x27;],\n",
       "      dtype=&#x27;object&#x27;)])])</pre><b>Please rerun this cell to show the HTML repr or trust the notebook.</b></div><div class=\"sk-container\" hidden><div class=\"sk-item sk-dashed-wrapped\"><div class=\"sk-label-container\"><div class=\"sk-label sk-toggleable\"><input class=\"sk-toggleable__control sk-hidden--visually\" id=\"7b0296ab-cb30-4870-b2a7-d5a4f8f28711\" type=\"checkbox\" ><label for=\"7b0296ab-cb30-4870-b2a7-d5a4f8f28711\" class=\"sk-toggleable__label sk-toggleable__label-arrow\">ColumnTransformer</label><div class=\"sk-toggleable__content\"><pre>ColumnTransformer(transformers=[(&#x27;num_tr&#x27;,\n",
       "                                 Pipeline(steps=[(&#x27;imputer&#x27;, SimpleImputer()),\n",
       "                                                 (&#x27;scaler&#x27;, MinMaxScaler())]),\n",
       "                                 &lt;sklearn.compose._column_transformer.make_column_selector object at 0x142022130&gt;),\n",
       "                                (&#x27;cat_tr&#x27;,\n",
       "                                 Pipeline(steps=[(&#x27;imputer&#x27;,\n",
       "                                                  SimpleImputer(strategy=&#x27;most_frequent&#x27;)),\n",
       "                                                 (&#x27;ohe&#x27;,\n",
       "                                                  OneHotEncoder(handle_unknown=&#x27;ignore&#x27;,\n",
       "                                                                sparse=False))]),\n",
       "                                 [Index([&#x27;preferred_foot&#x27;, &#x27;work_rate&#x27;, &#x27;preferred_foot_21&#x27;, &#x27;work_rate_21&#x27;,\n",
       "       &#x27;preferred_foot_20&#x27;, &#x27;work_rate_20&#x27;, &#x27;preferred_foot_19&#x27;,\n",
       "       &#x27;work_rate_19&#x27;, &#x27;preferred_foot_18&#x27;, &#x27;work_rate_18&#x27;],\n",
       "      dtype=&#x27;object&#x27;)])])</pre></div></div></div><div class=\"sk-parallel\"><div class=\"sk-parallel-item\"><div class=\"sk-item\"><div class=\"sk-label-container\"><div class=\"sk-label sk-toggleable\"><input class=\"sk-toggleable__control sk-hidden--visually\" id=\"245fc49e-5f08-47e9-bb03-6f69ce2088c9\" type=\"checkbox\" ><label for=\"245fc49e-5f08-47e9-bb03-6f69ce2088c9\" class=\"sk-toggleable__label sk-toggleable__label-arrow\">num_tr</label><div class=\"sk-toggleable__content\"><pre>&lt;sklearn.compose._column_transformer.make_column_selector object at 0x142022130&gt;</pre></div></div></div><div class=\"sk-serial\"><div class=\"sk-item\"><div class=\"sk-serial\"><div class=\"sk-item\"><div class=\"sk-estimator sk-toggleable\"><input class=\"sk-toggleable__control sk-hidden--visually\" id=\"6368ea02-8ac8-4a5f-8da1-a9706a99e4ed\" type=\"checkbox\" ><label for=\"6368ea02-8ac8-4a5f-8da1-a9706a99e4ed\" class=\"sk-toggleable__label sk-toggleable__label-arrow\">SimpleImputer</label><div class=\"sk-toggleable__content\"><pre>SimpleImputer()</pre></div></div></div><div class=\"sk-item\"><div class=\"sk-estimator sk-toggleable\"><input class=\"sk-toggleable__control sk-hidden--visually\" id=\"8e2602f8-8e92-4ee7-8214-7b3e6a8d802d\" type=\"checkbox\" ><label for=\"8e2602f8-8e92-4ee7-8214-7b3e6a8d802d\" class=\"sk-toggleable__label sk-toggleable__label-arrow\">MinMaxScaler</label><div class=\"sk-toggleable__content\"><pre>MinMaxScaler()</pre></div></div></div></div></div></div></div></div><div class=\"sk-parallel-item\"><div class=\"sk-item\"><div class=\"sk-label-container\"><div class=\"sk-label sk-toggleable\"><input class=\"sk-toggleable__control sk-hidden--visually\" id=\"81440af2-452b-46a9-a97e-e63e09ac7002\" type=\"checkbox\" ><label for=\"81440af2-452b-46a9-a97e-e63e09ac7002\" class=\"sk-toggleable__label sk-toggleable__label-arrow\">cat_tr</label><div class=\"sk-toggleable__content\"><pre>[Index([&#x27;preferred_foot&#x27;, &#x27;work_rate&#x27;, &#x27;preferred_foot_21&#x27;, &#x27;work_rate_21&#x27;,\n",
       "       &#x27;preferred_foot_20&#x27;, &#x27;work_rate_20&#x27;, &#x27;preferred_foot_19&#x27;,\n",
       "       &#x27;work_rate_19&#x27;, &#x27;preferred_foot_18&#x27;, &#x27;work_rate_18&#x27;],\n",
       "      dtype=&#x27;object&#x27;)]</pre></div></div></div><div class=\"sk-serial\"><div class=\"sk-item\"><div class=\"sk-serial\"><div class=\"sk-item\"><div class=\"sk-estimator sk-toggleable\"><input class=\"sk-toggleable__control sk-hidden--visually\" id=\"c7c19af7-9eee-428f-bbf3-5c0e1895c3e3\" type=\"checkbox\" ><label for=\"c7c19af7-9eee-428f-bbf3-5c0e1895c3e3\" class=\"sk-toggleable__label sk-toggleable__label-arrow\">SimpleImputer</label><div class=\"sk-toggleable__content\"><pre>SimpleImputer(strategy=&#x27;most_frequent&#x27;)</pre></div></div></div><div class=\"sk-item\"><div class=\"sk-estimator sk-toggleable\"><input class=\"sk-toggleable__control sk-hidden--visually\" id=\"83fbbefb-e802-4db8-aca5-cf3743dbb015\" type=\"checkbox\" ><label for=\"83fbbefb-e802-4db8-aca5-cf3743dbb015\" class=\"sk-toggleable__label sk-toggleable__label-arrow\">OneHotEncoder</label><div class=\"sk-toggleable__content\"><pre>OneHotEncoder(handle_unknown=&#x27;ignore&#x27;, sparse=False)</pre></div></div></div></div></div></div></div></div></div></div></div></div>"
      ],
      "text/plain": [
       "ColumnTransformer(transformers=[('num_tr',\n",
       "                                 Pipeline(steps=[('imputer', SimpleImputer()),\n",
       "                                                 ('scaler', MinMaxScaler())]),\n",
       "                                 <sklearn.compose._column_transformer.make_column_selector object at 0x142022130>),\n",
       "                                ('cat_tr',\n",
       "                                 Pipeline(steps=[('imputer',\n",
       "                                                  SimpleImputer(strategy='most_frequent')),\n",
       "                                                 ('ohe',\n",
       "                                                  OneHotEncoder(handle_unknown='ignore',\n",
       "                                                                sparse=False))]),\n",
       "                                 [Index(['preferred_foot', 'work_rate', 'preferred_foot_21', 'work_rate_21',\n",
       "       'preferred_foot_20', 'work_rate_20', 'preferred_foot_19',\n",
       "       'work_rate_19', 'preferred_foot_18', 'work_rate_18'],\n",
       "      dtype='object')])])"
      ]
     },
     "execution_count": 62,
     "metadata": {},
     "output_type": "execute_result"
    }
   ],
   "source": [
    "num_transformer = Pipeline([\n",
    "    ('imputer', SimpleImputer()),\n",
    "    ('scaler', MinMaxScaler())\n",
    "])\n",
    "\n",
    "num_col = make_column_selector(dtype_include=['int64','float64'])\n",
    "cat_col = [feat_categorical_small.keys()] \n",
    "# ,\"is_bench\",\"is_bench_21\",\"is_bench_20\",\"is_bench_19\",\"is_bench_18\"]\n",
    "\n",
    "# cat_col\n",
    "\n",
    "cat_transformer = Pipeline([\n",
    "    ('imputer',SimpleImputer(strategy = 'most_frequent')),\n",
    "    ('ohe',OneHotEncoder(handle_unknown='ignore', sparse=False))])\n",
    "\n",
    "# cat_transformer\n",
    "preprocessor = ColumnTransformer([\n",
    "    ('num_tr', num_transformer, num_col),\n",
    "#     ('cat_tr', cat_transformer, feat_categorical_small.keys())],\n",
    "    ('cat_tr', cat_transformer, cat_col)],\n",
    "    remainder='drop')\n",
    "\n",
    "preprocessor\n"
   ]
  },
  {
   "cell_type": "code",
   "execution_count": 45,
   "id": "e0395073",
   "metadata": {},
   "outputs": [],
   "source": [
    "clf = make_pipeline(\n",
    "    steps=[(\"preprocessor\", preprocessor), (\"classifier\", LinearRegression())]\n",
    ")"
   ]
  },
  {
   "cell_type": "code",
   "execution_count": 63,
   "id": "10c014c1",
   "metadata": {},
   "outputs": [
    {
     "data": {
      "text/html": [
       "<style>#sk-cc408605-6d79-4f9e-8a1b-3b384c3bb9e1 {color: black;background-color: white;}#sk-cc408605-6d79-4f9e-8a1b-3b384c3bb9e1 pre{padding: 0;}#sk-cc408605-6d79-4f9e-8a1b-3b384c3bb9e1 div.sk-toggleable {background-color: white;}#sk-cc408605-6d79-4f9e-8a1b-3b384c3bb9e1 label.sk-toggleable__label {cursor: pointer;display: block;width: 100%;margin-bottom: 0;padding: 0.3em;box-sizing: border-box;text-align: center;}#sk-cc408605-6d79-4f9e-8a1b-3b384c3bb9e1 label.sk-toggleable__label-arrow:before {content: \"▸\";float: left;margin-right: 0.25em;color: #696969;}#sk-cc408605-6d79-4f9e-8a1b-3b384c3bb9e1 label.sk-toggleable__label-arrow:hover:before {color: black;}#sk-cc408605-6d79-4f9e-8a1b-3b384c3bb9e1 div.sk-estimator:hover label.sk-toggleable__label-arrow:before {color: black;}#sk-cc408605-6d79-4f9e-8a1b-3b384c3bb9e1 div.sk-toggleable__content {max-height: 0;max-width: 0;overflow: hidden;text-align: left;background-color: #f0f8ff;}#sk-cc408605-6d79-4f9e-8a1b-3b384c3bb9e1 div.sk-toggleable__content pre {margin: 0.2em;color: black;border-radius: 0.25em;background-color: #f0f8ff;}#sk-cc408605-6d79-4f9e-8a1b-3b384c3bb9e1 input.sk-toggleable__control:checked~div.sk-toggleable__content {max-height: 200px;max-width: 100%;overflow: auto;}#sk-cc408605-6d79-4f9e-8a1b-3b384c3bb9e1 input.sk-toggleable__control:checked~label.sk-toggleable__label-arrow:before {content: \"▾\";}#sk-cc408605-6d79-4f9e-8a1b-3b384c3bb9e1 div.sk-estimator input.sk-toggleable__control:checked~label.sk-toggleable__label {background-color: #d4ebff;}#sk-cc408605-6d79-4f9e-8a1b-3b384c3bb9e1 div.sk-label input.sk-toggleable__control:checked~label.sk-toggleable__label {background-color: #d4ebff;}#sk-cc408605-6d79-4f9e-8a1b-3b384c3bb9e1 input.sk-hidden--visually {border: 0;clip: rect(1px 1px 1px 1px);clip: rect(1px, 1px, 1px, 1px);height: 1px;margin: -1px;overflow: hidden;padding: 0;position: absolute;width: 1px;}#sk-cc408605-6d79-4f9e-8a1b-3b384c3bb9e1 div.sk-estimator {font-family: monospace;background-color: #f0f8ff;border: 1px dotted black;border-radius: 0.25em;box-sizing: border-box;margin-bottom: 0.5em;}#sk-cc408605-6d79-4f9e-8a1b-3b384c3bb9e1 div.sk-estimator:hover {background-color: #d4ebff;}#sk-cc408605-6d79-4f9e-8a1b-3b384c3bb9e1 div.sk-parallel-item::after {content: \"\";width: 100%;border-bottom: 1px solid gray;flex-grow: 1;}#sk-cc408605-6d79-4f9e-8a1b-3b384c3bb9e1 div.sk-label:hover label.sk-toggleable__label {background-color: #d4ebff;}#sk-cc408605-6d79-4f9e-8a1b-3b384c3bb9e1 div.sk-serial::before {content: \"\";position: absolute;border-left: 1px solid gray;box-sizing: border-box;top: 2em;bottom: 0;left: 50%;}#sk-cc408605-6d79-4f9e-8a1b-3b384c3bb9e1 div.sk-serial {display: flex;flex-direction: column;align-items: center;background-color: white;padding-right: 0.2em;padding-left: 0.2em;}#sk-cc408605-6d79-4f9e-8a1b-3b384c3bb9e1 div.sk-item {z-index: 1;}#sk-cc408605-6d79-4f9e-8a1b-3b384c3bb9e1 div.sk-parallel {display: flex;align-items: stretch;justify-content: center;background-color: white;}#sk-cc408605-6d79-4f9e-8a1b-3b384c3bb9e1 div.sk-parallel::before {content: \"\";position: absolute;border-left: 1px solid gray;box-sizing: border-box;top: 2em;bottom: 0;left: 50%;}#sk-cc408605-6d79-4f9e-8a1b-3b384c3bb9e1 div.sk-parallel-item {display: flex;flex-direction: column;position: relative;background-color: white;}#sk-cc408605-6d79-4f9e-8a1b-3b384c3bb9e1 div.sk-parallel-item:first-child::after {align-self: flex-end;width: 50%;}#sk-cc408605-6d79-4f9e-8a1b-3b384c3bb9e1 div.sk-parallel-item:last-child::after {align-self: flex-start;width: 50%;}#sk-cc408605-6d79-4f9e-8a1b-3b384c3bb9e1 div.sk-parallel-item:only-child::after {width: 0;}#sk-cc408605-6d79-4f9e-8a1b-3b384c3bb9e1 div.sk-dashed-wrapped {border: 1px dashed gray;margin: 0 0.4em 0.5em 0.4em;box-sizing: border-box;padding-bottom: 0.4em;background-color: white;position: relative;}#sk-cc408605-6d79-4f9e-8a1b-3b384c3bb9e1 div.sk-label label {font-family: monospace;font-weight: bold;background-color: white;display: inline-block;line-height: 1.2em;}#sk-cc408605-6d79-4f9e-8a1b-3b384c3bb9e1 div.sk-label-container {position: relative;z-index: 2;text-align: center;}#sk-cc408605-6d79-4f9e-8a1b-3b384c3bb9e1 div.sk-container {/* jupyter's `normalize.less` sets `[hidden] { display: none; }` but bootstrap.min.css set `[hidden] { display: none !important; }` so we also need the `!important` here to be able to override the default hidden behavior on the sphinx rendered scikit-learn.org. See: https://github.com/scikit-learn/scikit-learn/issues/21755 */display: inline-block !important;position: relative;}#sk-cc408605-6d79-4f9e-8a1b-3b384c3bb9e1 div.sk-text-repr-fallback {display: none;}</style><div id=\"sk-cc408605-6d79-4f9e-8a1b-3b384c3bb9e1\" class=\"sk-top-container\"><div class=\"sk-text-repr-fallback\"><pre>Pipeline(steps=[(&#x27;columntransformer&#x27;,\n",
       "                 ColumnTransformer(transformers=[(&#x27;num_tr&#x27;,\n",
       "                                                  Pipeline(steps=[(&#x27;imputer&#x27;,\n",
       "                                                                   SimpleImputer()),\n",
       "                                                                  (&#x27;scaler&#x27;,\n",
       "                                                                   MinMaxScaler())]),\n",
       "                                                  &lt;sklearn.compose._column_transformer.make_column_selector object at 0x142022130&gt;),\n",
       "                                                 (&#x27;cat_tr&#x27;,\n",
       "                                                  Pipeline(steps=[(&#x27;imputer&#x27;,\n",
       "                                                                   SimpleImputer(strategy=&#x27;most_frequent&#x27;)),\n",
       "                                                                  (&#x27;ohe&#x27;,\n",
       "                                                                   OneHotEncoder(handle_unknown=&#x27;ignore&#x27;,\n",
       "                                                                                 sparse=False))]),\n",
       "                                                  [Index([&#x27;preferred_foot&#x27;, &#x27;work_rate&#x27;, &#x27;preferred_foot_21&#x27;, &#x27;work_rate_21&#x27;,\n",
       "       &#x27;preferred_foot_20&#x27;, &#x27;work_rate_20&#x27;, &#x27;preferred_foot_19&#x27;,\n",
       "       &#x27;work_rate_19&#x27;, &#x27;preferred_foot_18&#x27;, &#x27;work_rate_18&#x27;],\n",
       "      dtype=&#x27;object&#x27;)])])),\n",
       "                (&#x27;linearregression&#x27;, LinearRegression())])</pre><b>Please rerun this cell to show the HTML repr or trust the notebook.</b></div><div class=\"sk-container\" hidden><div class=\"sk-item sk-dashed-wrapped\"><div class=\"sk-label-container\"><div class=\"sk-label sk-toggleable\"><input class=\"sk-toggleable__control sk-hidden--visually\" id=\"8324b2a9-ece7-45ca-9f46-3eec7d2eb550\" type=\"checkbox\" ><label for=\"8324b2a9-ece7-45ca-9f46-3eec7d2eb550\" class=\"sk-toggleable__label sk-toggleable__label-arrow\">Pipeline</label><div class=\"sk-toggleable__content\"><pre>Pipeline(steps=[(&#x27;columntransformer&#x27;,\n",
       "                 ColumnTransformer(transformers=[(&#x27;num_tr&#x27;,\n",
       "                                                  Pipeline(steps=[(&#x27;imputer&#x27;,\n",
       "                                                                   SimpleImputer()),\n",
       "                                                                  (&#x27;scaler&#x27;,\n",
       "                                                                   MinMaxScaler())]),\n",
       "                                                  &lt;sklearn.compose._column_transformer.make_column_selector object at 0x142022130&gt;),\n",
       "                                                 (&#x27;cat_tr&#x27;,\n",
       "                                                  Pipeline(steps=[(&#x27;imputer&#x27;,\n",
       "                                                                   SimpleImputer(strategy=&#x27;most_frequent&#x27;)),\n",
       "                                                                  (&#x27;ohe&#x27;,\n",
       "                                                                   OneHotEncoder(handle_unknown=&#x27;ignore&#x27;,\n",
       "                                                                                 sparse=False))]),\n",
       "                                                  [Index([&#x27;preferred_foot&#x27;, &#x27;work_rate&#x27;, &#x27;preferred_foot_21&#x27;, &#x27;work_rate_21&#x27;,\n",
       "       &#x27;preferred_foot_20&#x27;, &#x27;work_rate_20&#x27;, &#x27;preferred_foot_19&#x27;,\n",
       "       &#x27;work_rate_19&#x27;, &#x27;preferred_foot_18&#x27;, &#x27;work_rate_18&#x27;],\n",
       "      dtype=&#x27;object&#x27;)])])),\n",
       "                (&#x27;linearregression&#x27;, LinearRegression())])</pre></div></div></div><div class=\"sk-serial\"><div class=\"sk-item sk-dashed-wrapped\"><div class=\"sk-label-container\"><div class=\"sk-label sk-toggleable\"><input class=\"sk-toggleable__control sk-hidden--visually\" id=\"a0944e18-a81b-4544-8dfd-9c1a37125b23\" type=\"checkbox\" ><label for=\"a0944e18-a81b-4544-8dfd-9c1a37125b23\" class=\"sk-toggleable__label sk-toggleable__label-arrow\">columntransformer: ColumnTransformer</label><div class=\"sk-toggleable__content\"><pre>ColumnTransformer(transformers=[(&#x27;num_tr&#x27;,\n",
       "                                 Pipeline(steps=[(&#x27;imputer&#x27;, SimpleImputer()),\n",
       "                                                 (&#x27;scaler&#x27;, MinMaxScaler())]),\n",
       "                                 &lt;sklearn.compose._column_transformer.make_column_selector object at 0x142022130&gt;),\n",
       "                                (&#x27;cat_tr&#x27;,\n",
       "                                 Pipeline(steps=[(&#x27;imputer&#x27;,\n",
       "                                                  SimpleImputer(strategy=&#x27;most_frequent&#x27;)),\n",
       "                                                 (&#x27;ohe&#x27;,\n",
       "                                                  OneHotEncoder(handle_unknown=&#x27;ignore&#x27;,\n",
       "                                                                sparse=False))]),\n",
       "                                 [Index([&#x27;preferred_foot&#x27;, &#x27;work_rate&#x27;, &#x27;preferred_foot_21&#x27;, &#x27;work_rate_21&#x27;,\n",
       "       &#x27;preferred_foot_20&#x27;, &#x27;work_rate_20&#x27;, &#x27;preferred_foot_19&#x27;,\n",
       "       &#x27;work_rate_19&#x27;, &#x27;preferred_foot_18&#x27;, &#x27;work_rate_18&#x27;],\n",
       "      dtype=&#x27;object&#x27;)])])</pre></div></div></div><div class=\"sk-parallel\"><div class=\"sk-parallel-item\"><div class=\"sk-item\"><div class=\"sk-label-container\"><div class=\"sk-label sk-toggleable\"><input class=\"sk-toggleable__control sk-hidden--visually\" id=\"06abf78f-a7c2-4308-b3eb-25e41afb6641\" type=\"checkbox\" ><label for=\"06abf78f-a7c2-4308-b3eb-25e41afb6641\" class=\"sk-toggleable__label sk-toggleable__label-arrow\">num_tr</label><div class=\"sk-toggleable__content\"><pre>&lt;sklearn.compose._column_transformer.make_column_selector object at 0x142022130&gt;</pre></div></div></div><div class=\"sk-serial\"><div class=\"sk-item\"><div class=\"sk-serial\"><div class=\"sk-item\"><div class=\"sk-estimator sk-toggleable\"><input class=\"sk-toggleable__control sk-hidden--visually\" id=\"5643cf6c-0f3e-4dc2-8f72-3f1ebb656f3e\" type=\"checkbox\" ><label for=\"5643cf6c-0f3e-4dc2-8f72-3f1ebb656f3e\" class=\"sk-toggleable__label sk-toggleable__label-arrow\">SimpleImputer</label><div class=\"sk-toggleable__content\"><pre>SimpleImputer()</pre></div></div></div><div class=\"sk-item\"><div class=\"sk-estimator sk-toggleable\"><input class=\"sk-toggleable__control sk-hidden--visually\" id=\"56306b88-8c09-4a82-a86a-8918c4d6db43\" type=\"checkbox\" ><label for=\"56306b88-8c09-4a82-a86a-8918c4d6db43\" class=\"sk-toggleable__label sk-toggleable__label-arrow\">MinMaxScaler</label><div class=\"sk-toggleable__content\"><pre>MinMaxScaler()</pre></div></div></div></div></div></div></div></div><div class=\"sk-parallel-item\"><div class=\"sk-item\"><div class=\"sk-label-container\"><div class=\"sk-label sk-toggleable\"><input class=\"sk-toggleable__control sk-hidden--visually\" id=\"b4fdcae7-455f-436f-a695-ee9cf55aacc9\" type=\"checkbox\" ><label for=\"b4fdcae7-455f-436f-a695-ee9cf55aacc9\" class=\"sk-toggleable__label sk-toggleable__label-arrow\">cat_tr</label><div class=\"sk-toggleable__content\"><pre>[Index([&#x27;preferred_foot&#x27;, &#x27;work_rate&#x27;, &#x27;preferred_foot_21&#x27;, &#x27;work_rate_21&#x27;,\n",
       "       &#x27;preferred_foot_20&#x27;, &#x27;work_rate_20&#x27;, &#x27;preferred_foot_19&#x27;,\n",
       "       &#x27;work_rate_19&#x27;, &#x27;preferred_foot_18&#x27;, &#x27;work_rate_18&#x27;],\n",
       "      dtype=&#x27;object&#x27;)]</pre></div></div></div><div class=\"sk-serial\"><div class=\"sk-item\"><div class=\"sk-serial\"><div class=\"sk-item\"><div class=\"sk-estimator sk-toggleable\"><input class=\"sk-toggleable__control sk-hidden--visually\" id=\"fa9d85ac-637c-4879-b0f9-0dfef103173f\" type=\"checkbox\" ><label for=\"fa9d85ac-637c-4879-b0f9-0dfef103173f\" class=\"sk-toggleable__label sk-toggleable__label-arrow\">SimpleImputer</label><div class=\"sk-toggleable__content\"><pre>SimpleImputer(strategy=&#x27;most_frequent&#x27;)</pre></div></div></div><div class=\"sk-item\"><div class=\"sk-estimator sk-toggleable\"><input class=\"sk-toggleable__control sk-hidden--visually\" id=\"dc2785ae-05ff-4d4e-b1a8-a9c429fc8eec\" type=\"checkbox\" ><label for=\"dc2785ae-05ff-4d4e-b1a8-a9c429fc8eec\" class=\"sk-toggleable__label sk-toggleable__label-arrow\">OneHotEncoder</label><div class=\"sk-toggleable__content\"><pre>OneHotEncoder(handle_unknown=&#x27;ignore&#x27;, sparse=False)</pre></div></div></div></div></div></div></div></div></div></div><div class=\"sk-item\"><div class=\"sk-estimator sk-toggleable\"><input class=\"sk-toggleable__control sk-hidden--visually\" id=\"d11ea854-28f5-45a9-b63d-9e80d9592403\" type=\"checkbox\" ><label for=\"d11ea854-28f5-45a9-b63d-9e80d9592403\" class=\"sk-toggleable__label sk-toggleable__label-arrow\">LinearRegression</label><div class=\"sk-toggleable__content\"><pre>LinearRegression()</pre></div></div></div></div></div></div></div>"
      ],
      "text/plain": [
       "Pipeline(steps=[('columntransformer',\n",
       "                 ColumnTransformer(transformers=[('num_tr',\n",
       "                                                  Pipeline(steps=[('imputer',\n",
       "                                                                   SimpleImputer()),\n",
       "                                                                  ('scaler',\n",
       "                                                                   MinMaxScaler())]),\n",
       "                                                  <sklearn.compose._column_transformer.make_column_selector object at 0x142022130>),\n",
       "                                                 ('cat_tr',\n",
       "                                                  Pipeline(steps=[('imputer',\n",
       "                                                                   SimpleImputer(strategy='most_frequent')),\n",
       "                                                                  ('ohe',\n",
       "                                                                   OneHotEncoder(handle_unknown='ignore',\n",
       "                                                                                 sparse=False))]),\n",
       "                                                  [Index(['preferred_foot', 'work_rate', 'preferred_foot_21', 'work_rate_21',\n",
       "       'preferred_foot_20', 'work_rate_20', 'preferred_foot_19',\n",
       "       'work_rate_19', 'preferred_foot_18', 'work_rate_18'],\n",
       "      dtype='object')])])),\n",
       "                ('linearregression', LinearRegression())])"
      ]
     },
     "execution_count": 63,
     "metadata": {},
     "output_type": "execute_result"
    }
   ],
   "source": [
    "lm = LinearRegression()\n",
    "\n",
    "clf =make_pipeline(preprocessor, lm)\n",
    "clf"
   ]
  },
  {
   "cell_type": "markdown",
   "id": "397309e3",
   "metadata": {},
   "source": [
    "### Model Fit "
   ]
  },
  {
   "cell_type": "code",
   "execution_count": 52,
   "id": "6ec0d0a5",
   "metadata": {},
   "outputs": [],
   "source": [
    "X_drop = ['sofifa_id','sofifa_id_21','sofifa_id_20','sofifa_id_19','sofifa_id_18',\n",
    "         'value_eur']\n",
    "\n",
    "X = df_all.drop(X_drop, axis = 1)\n",
    "y = df_all.value_eur\n",
    "\n",
    "X_train, X_test, y_train, y_test = train_test_split(X, y, test_size=0.3, random_state=0)"
   ]
  },
  {
   "cell_type": "code",
   "execution_count": 55,
   "id": "1c9dcc72",
   "metadata": {
    "collapsed": true
   },
   "outputs": [
    {
     "name": "stderr",
     "output_type": "stream",
     "text": [
      "/Users/user/.pyenv/versions/3.8.12/envs/opti_recruit/lib/python3.8/site-packages/sklearn/model_selection/_validation.py:372: FitFailedWarning: \n",
      "5 fits failed out of a total of 5.\n",
      "The score on these train-test partitions for these parameters will be set to nan.\n",
      "If these failures are not expected, you can try to debug them by setting error_score='raise'.\n",
      "\n",
      "Below are more details about the failures:\n",
      "--------------------------------------------------------------------------------\n",
      "5 fits failed with the following error:\n",
      "Traceback (most recent call last):\n",
      "  File \"/Users/user/.pyenv/versions/3.8.12/envs/opti_recruit/lib/python3.8/site-packages/sklearn/model_selection/_validation.py\", line 680, in _fit_and_score\n",
      "    estimator.fit(X_train, y_train, **fit_params)\n",
      "  File \"/Users/user/.pyenv/versions/3.8.12/envs/opti_recruit/lib/python3.8/site-packages/sklearn/pipeline.py\", line 390, in fit\n",
      "    Xt = self._fit(X, y, **fit_params_steps)\n",
      "  File \"/Users/user/.pyenv/versions/3.8.12/envs/opti_recruit/lib/python3.8/site-packages/sklearn/pipeline.py\", line 348, in _fit\n",
      "    X, fitted_transformer = fit_transform_one_cached(\n",
      "  File \"/Users/user/.pyenv/versions/3.8.12/envs/opti_recruit/lib/python3.8/site-packages/joblib/memory.py\", line 349, in __call__\n",
      "    return self.func(*args, **kwargs)\n",
      "  File \"/Users/user/.pyenv/versions/3.8.12/envs/opti_recruit/lib/python3.8/site-packages/sklearn/pipeline.py\", line 893, in _fit_transform_one\n",
      "    res = transformer.fit_transform(X, y, **fit_params)\n",
      "  File \"/Users/user/.pyenv/versions/3.8.12/envs/opti_recruit/lib/python3.8/site-packages/sklearn/compose/_column_transformer.py\", line 672, in fit_transform\n",
      "    self._validate_column_callables(X)\n",
      "  File \"/Users/user/.pyenv/versions/3.8.12/envs/opti_recruit/lib/python3.8/site-packages/sklearn/compose/_column_transformer.py\", line 352, in _validate_column_callables\n",
      "    transformer_to_input_indices[name] = _get_column_indices(X, columns)\n",
      "  File \"/Users/user/.pyenv/versions/3.8.12/envs/opti_recruit/lib/python3.8/site-packages/sklearn/utils/__init__.py\", line 391, in _get_column_indices\n",
      "    key_dtype = _determine_key_type(key)\n",
      "  File \"/Users/user/.pyenv/versions/3.8.12/envs/opti_recruit/lib/python3.8/site-packages/sklearn/utils/__init__.py\", line 292, in _determine_key_type\n",
      "    unique_key = set(key)\n",
      "TypeError: unhashable type: 'Index'\n",
      "\n",
      "  warnings.warn(some_fits_failed_message, FitFailedWarning)\n"
     ]
    },
    {
     "data": {
      "text/html": [
       "<div>\n",
       "<style scoped>\n",
       "    .dataframe tbody tr th:only-of-type {\n",
       "        vertical-align: middle;\n",
       "    }\n",
       "\n",
       "    .dataframe tbody tr th {\n",
       "        vertical-align: top;\n",
       "    }\n",
       "\n",
       "    .dataframe thead th {\n",
       "        text-align: right;\n",
       "    }\n",
       "</style>\n",
       "<table border=\"1\" class=\"dataframe\">\n",
       "  <thead>\n",
       "    <tr style=\"text-align: right;\">\n",
       "      <th></th>\n",
       "      <th>fit_time</th>\n",
       "      <th>score_time</th>\n",
       "      <th>test_r2</th>\n",
       "      <th>test_neg_mean_squared_error</th>\n",
       "      <th>test_neg_mean_absolute_error</th>\n",
       "      <th>test_neg_root_mean_squared_error</th>\n",
       "    </tr>\n",
       "  </thead>\n",
       "  <tbody>\n",
       "    <tr>\n",
       "      <th>0</th>\n",
       "      <td>0.020786</td>\n",
       "      <td>0.0</td>\n",
       "      <td>NaN</td>\n",
       "      <td>NaN</td>\n",
       "      <td>NaN</td>\n",
       "      <td>NaN</td>\n",
       "    </tr>\n",
       "    <tr>\n",
       "      <th>1</th>\n",
       "      <td>0.019632</td>\n",
       "      <td>0.0</td>\n",
       "      <td>NaN</td>\n",
       "      <td>NaN</td>\n",
       "      <td>NaN</td>\n",
       "      <td>NaN</td>\n",
       "    </tr>\n",
       "    <tr>\n",
       "      <th>2</th>\n",
       "      <td>0.021207</td>\n",
       "      <td>0.0</td>\n",
       "      <td>NaN</td>\n",
       "      <td>NaN</td>\n",
       "      <td>NaN</td>\n",
       "      <td>NaN</td>\n",
       "    </tr>\n",
       "    <tr>\n",
       "      <th>3</th>\n",
       "      <td>0.024494</td>\n",
       "      <td>0.0</td>\n",
       "      <td>NaN</td>\n",
       "      <td>NaN</td>\n",
       "      <td>NaN</td>\n",
       "      <td>NaN</td>\n",
       "    </tr>\n",
       "    <tr>\n",
       "      <th>4</th>\n",
       "      <td>0.022287</td>\n",
       "      <td>0.0</td>\n",
       "      <td>NaN</td>\n",
       "      <td>NaN</td>\n",
       "      <td>NaN</td>\n",
       "      <td>NaN</td>\n",
       "    </tr>\n",
       "  </tbody>\n",
       "</table>\n",
       "</div>"
      ],
      "text/plain": [
       "   fit_time  score_time  test_r2  test_neg_mean_squared_error  \\\n",
       "0  0.020786         0.0      NaN                          NaN   \n",
       "1  0.019632         0.0      NaN                          NaN   \n",
       "2  0.021207         0.0      NaN                          NaN   \n",
       "3  0.024494         0.0      NaN                          NaN   \n",
       "4  0.022287         0.0      NaN                          NaN   \n",
       "\n",
       "   test_neg_mean_absolute_error  test_neg_root_mean_squared_error  \n",
       "0                           NaN                               NaN  \n",
       "1                           NaN                               NaN  \n",
       "2                           NaN                               NaN  \n",
       "3                           NaN                               NaN  \n",
       "4                           NaN                               NaN  "
      ]
     },
     "execution_count": 55,
     "metadata": {},
     "output_type": "execute_result"
    }
   ],
   "source": [
    "from sklearn.model_selection import cross_validate\n",
    "\n",
    "cv = cross_validate(clf, X_train, y_train,\n",
    "                     cv=5,\n",
    "                     scoring=('r2', 'neg_mean_squared_error','neg_mean_absolute_error','neg_root_mean_squared_error')\n",
    "                    )\n",
    "\n",
    "pd.DataFrame(cv)"
   ]
  },
  {
   "cell_type": "code",
   "execution_count": 64,
   "id": "42a9fe08",
   "metadata": {},
   "outputs": [
    {
     "name": "stderr",
     "output_type": "stream",
     "text": [
      "/Users/user/.pyenv/versions/3.8.12/envs/opti_recruit/lib/python3.8/site-packages/sklearn/model_selection/_validation.py:372: FitFailedWarning: \n",
      "5 fits failed out of a total of 5.\n",
      "The score on these train-test partitions for these parameters will be set to nan.\n",
      "If these failures are not expected, you can try to debug them by setting error_score='raise'.\n",
      "\n",
      "Below are more details about the failures:\n",
      "--------------------------------------------------------------------------------\n",
      "5 fits failed with the following error:\n",
      "Traceback (most recent call last):\n",
      "  File \"/Users/user/.pyenv/versions/3.8.12/envs/opti_recruit/lib/python3.8/site-packages/sklearn/model_selection/_validation.py\", line 680, in _fit_and_score\n",
      "    estimator.fit(X_train, y_train, **fit_params)\n",
      "  File \"/Users/user/.pyenv/versions/3.8.12/envs/opti_recruit/lib/python3.8/site-packages/sklearn/pipeline.py\", line 390, in fit\n",
      "    Xt = self._fit(X, y, **fit_params_steps)\n",
      "  File \"/Users/user/.pyenv/versions/3.8.12/envs/opti_recruit/lib/python3.8/site-packages/sklearn/pipeline.py\", line 348, in _fit\n",
      "    X, fitted_transformer = fit_transform_one_cached(\n",
      "  File \"/Users/user/.pyenv/versions/3.8.12/envs/opti_recruit/lib/python3.8/site-packages/joblib/memory.py\", line 349, in __call__\n",
      "    return self.func(*args, **kwargs)\n",
      "  File \"/Users/user/.pyenv/versions/3.8.12/envs/opti_recruit/lib/python3.8/site-packages/sklearn/pipeline.py\", line 893, in _fit_transform_one\n",
      "    res = transformer.fit_transform(X, y, **fit_params)\n",
      "  File \"/Users/user/.pyenv/versions/3.8.12/envs/opti_recruit/lib/python3.8/site-packages/sklearn/compose/_column_transformer.py\", line 672, in fit_transform\n",
      "    self._validate_column_callables(X)\n",
      "  File \"/Users/user/.pyenv/versions/3.8.12/envs/opti_recruit/lib/python3.8/site-packages/sklearn/compose/_column_transformer.py\", line 352, in _validate_column_callables\n",
      "    transformer_to_input_indices[name] = _get_column_indices(X, columns)\n",
      "  File \"/Users/user/.pyenv/versions/3.8.12/envs/opti_recruit/lib/python3.8/site-packages/sklearn/utils/__init__.py\", line 391, in _get_column_indices\n",
      "    key_dtype = _determine_key_type(key)\n",
      "  File \"/Users/user/.pyenv/versions/3.8.12/envs/opti_recruit/lib/python3.8/site-packages/sklearn/utils/__init__.py\", line 292, in _determine_key_type\n",
      "    unique_key = set(key)\n",
      "TypeError: unhashable type: 'Index'\n",
      "\n",
      "  warnings.warn(some_fits_failed_message, FitFailedWarning)\n"
     ]
    }
   ],
   "source": [
    "from sklearn.model_selection import cross_val_score\n",
    "\n",
    "\n",
    "score_baseline = cross_val_score(clf, X_train, y_train, cv=5, scoring=( 'neg_mean_squared_error'))"
   ]
  },
  {
   "cell_type": "code",
   "execution_count": null,
   "id": "38f9b414",
   "metadata": {},
   "outputs": [],
   "source": []
  }
 ],
 "metadata": {
  "kernelspec": {
   "display_name": "Python 3 (ipykernel)",
   "language": "python",
   "name": "python3"
  },
  "language_info": {
   "codemirror_mode": {
    "name": "ipython",
    "version": 3
   },
   "file_extension": ".py",
   "mimetype": "text/x-python",
   "name": "python",
   "nbconvert_exporter": "python",
   "pygments_lexer": "ipython3",
   "version": "3.8.12"
  },
  "toc": {
   "base_numbering": 1,
   "nav_menu": {},
   "number_sections": true,
   "sideBar": true,
   "skip_h1_title": false,
   "title_cell": "Table of Contents",
   "title_sidebar": "Contents",
   "toc_cell": false,
   "toc_position": {
    "height": "calc(100% - 180px)",
    "left": "10px",
    "top": "150px",
    "width": "336px"
   },
   "toc_section_display": true,
   "toc_window_display": true
  }
 },
 "nbformat": 4,
 "nbformat_minor": 5
}
