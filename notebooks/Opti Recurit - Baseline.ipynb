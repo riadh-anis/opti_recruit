{
 "cells": [
  {
   "cell_type": "markdown",
   "id": "09cfb1bf",
   "metadata": {},
   "source": [
    "## Libraries"
   ]
  },
  {
   "cell_type": "code",
   "execution_count": 92,
   "id": "d5215092",
   "metadata": {},
   "outputs": [],
   "source": [
    "%matplotlib inline\n",
    "\n",
    "import numpy as np\n",
    "import pandas as pd\n",
    "import matplotlib.pyplot as plt\n",
    "import seaborn as sns\n",
    "\n",
    "sns.set_theme()\n",
    "\n",
    "from sklearn import set_config; set_config(display='diagram')\n",
    "from sklearn.pipeline import make_pipeline\n",
    "from sklearn.pipeline import make_union\n",
    "from sklearn.compose import make_column_transformer, make_column_selector,ColumnTransformer\n",
    "from sklearn.pipeline import FeatureUnion\n",
    "from sklearn.preprocessing import FunctionTransformer\n",
    "from sklearn.preprocessing import OneHotEncoder,StandardScaler,MinMaxScaler\n",
    "from sklearn.impute import SimpleImputer\n",
    "from sklearn.pipeline import Pipeline\n",
    "from sklearn.linear_model import LinearRegression\n",
    "from sklearn.model_selection import train_test_split, cross_validate"
   ]
  },
  {
   "cell_type": "markdown",
   "id": "942f8c8a",
   "metadata": {},
   "source": [
    "## Load Data "
   ]
  },
  {
   "cell_type": "code",
   "execution_count": 93,
   "id": "7bc39278",
   "metadata": {},
   "outputs": [
    {
     "name": "stderr",
     "output_type": "stream",
     "text": [
      "/var/folders/tc/0tkkgmdd25n0rh3_pjfhw6mw0000gp/T/ipykernel_40742/3992483976.py:1: DtypeWarning: Columns (25,108) have mixed types. Specify dtype option on import or set low_memory=False.\n",
      "  df_22 = pd.read_csv('../raw_data/fifa22/players_22.csv')\n",
      "/var/folders/tc/0tkkgmdd25n0rh3_pjfhw6mw0000gp/T/ipykernel_40742/3992483976.py:5: DtypeWarning: Columns (81,82,83,84,85) have mixed types. Specify dtype option on import or set low_memory=False.\n",
      "  df_18 = pd.read_csv('../raw_data/fifa22/players_18.csv')\n",
      "/var/folders/tc/0tkkgmdd25n0rh3_pjfhw6mw0000gp/T/ipykernel_40742/3992483976.py:7: DtypeWarning: Columns (104) have mixed types. Specify dtype option on import or set low_memory=False.\n",
      "  df_16 = pd.read_csv('../raw_data/fifa22/players_16.csv')\n",
      "/var/folders/tc/0tkkgmdd25n0rh3_pjfhw6mw0000gp/T/ipykernel_40742/3992483976.py:8: DtypeWarning: Columns (104) have mixed types. Specify dtype option on import or set low_memory=False.\n",
      "  df_15 = pd.read_csv('../raw_data/fifa22/players_15.csv')\n"
     ]
    }
   ],
   "source": [
    "df_22 = pd.read_csv('../raw_data/fifa22/players_22.csv')\n",
    "df_21 = pd.read_csv('../raw_data/fifa22/players_21.csv')\n",
    "df_20 = pd.read_csv('../raw_data/fifa22/players_20.csv')\n",
    "df_19 = pd.read_csv('../raw_data/fifa22/players_19.csv')\n",
    "df_18 = pd.read_csv('../raw_data/fifa22/players_18.csv')\n",
    "df_17 = pd.read_csv('../raw_data/fifa22/players_17.csv')\n",
    "df_16 = pd.read_csv('../raw_data/fifa22/players_16.csv')\n",
    "df_15 = pd.read_csv('../raw_data/fifa22/players_15.csv')"
   ]
  },
  {
   "cell_type": "code",
   "execution_count": 94,
   "id": "b64e316b",
   "metadata": {
    "scrolled": true
   },
   "outputs": [
    {
     "name": "stdout",
     "output_type": "stream",
     "text": [
      "sofifa_id                  | player_url                 | short_name                 | \n",
      "long_name                  | player_positions           | overall                    | \n",
      "potential                  | value_eur                  | wage_eur                   | \n",
      "age                        | dob                        | height_cm                  | \n",
      "weight_kg                  | club_team_id               | club_name                  | \n",
      "league_name                | league_level               | club_position              | \n",
      "club_jersey_number         | club_loaned_from           | club_joined                | \n",
      "club_contract_valid_until  | nationality_id             | nationality_name           | \n",
      "nation_team_id             | nation_position            | nation_jersey_number       | \n",
      "preferred_foot             | weak_foot                  | skill_moves                | \n",
      "international_reputation   | work_rate                  | body_type                  | \n",
      "real_face                  | release_clause_eur         | player_tags                | \n",
      "player_traits              | pace                       | shooting                   | \n",
      "passing                    | dribbling                  | defending                  | \n",
      "physic                     | attacking_crossing         | attacking_finishing        | \n",
      "attacking_heading_accuracy | attacking_short_passing    | attacking_volleys          | \n",
      "skill_dribbling            | skill_curve                | skill_fk_accuracy          | \n",
      "skill_long_passing         | skill_ball_control         | movement_acceleration      | \n",
      "movement_sprint_speed      | movement_agility           | movement_reactions         | \n",
      "movement_balance           | power_shot_power           | power_jumping              | \n",
      "power_stamina              | power_strength             | power_long_shots           | \n",
      "mentality_aggression       | mentality_interceptions    | mentality_positioning      | \n",
      "mentality_vision           | mentality_penalties        | mentality_composure        | \n",
      "defending_marking_awareness | defending_standing_tackle  | defending_sliding_tackle   | \n",
      "goalkeeping_diving         | goalkeeping_handling       | goalkeeping_kicking        | \n",
      "goalkeeping_positioning    | goalkeeping_reflexes       | goalkeeping_speed          | \n",
      "ls                         | st                         | rs                         | \n",
      "lw                         | lf                         | cf                         | \n",
      "rf                         | rw                         | lam                        | \n",
      "cam                        | ram                        | lm                         | \n",
      "lcm                        | cm                         | rcm                        | \n",
      "rm                         | lwb                        | ldm                        | \n",
      "cdm                        | rdm                        | rwb                        | \n",
      "lb                         | lcb                        | cb                         | \n",
      "rcb                        | rb                         | gk                         | \n",
      "player_face_url            | club_logo_url              | club_flag_url              | \n",
      "nation_logo_url            | nation_flag_url            | "
     ]
    }
   ],
   "source": [
    "for index, col in enumerate(df_22.columns):\n",
    "    print(f\"{col:<26} | \", end=\"\")\n",
    "    if (index % 3 == 2):\n",
    "        print(\"\\n\", end=\"\")"
   ]
  },
  {
   "cell_type": "code",
   "execution_count": 95,
   "id": "a422a35b",
   "metadata": {},
   "outputs": [],
   "source": [
    "to_drop = ['club_logo_url','nation_flag_url','club_flag_url','nation_logo_url','player_face_url','dob','player_url',\n",
    "           'real_face','nation_jersey_number','nation_position','club_loaned_from','long_name','player_url'\n",
    "          ,'ls','st','rs','lw','lf','cf','rf','rw','lam','cam','ram','lm','lcm','cm','rcm',\n",
    "           'rm','lwb','ldm', 'cdm','rdm','rwb','lb','lcb','cb','rcb','rb','gk','club_jersey_number','nationality_id','club_jersey_number']\n",
    "\n"
   ]
  },
  {
   "cell_type": "code",
   "execution_count": 96,
   "id": "4794466d",
   "metadata": {},
   "outputs": [],
   "source": [
    "df22 = df_22.drop(to_drop, axis = 1)\n",
    "df21 = df_21.drop(to_drop, axis = 1)\n",
    "df20 = df_20.drop(to_drop, axis = 1)\n",
    "df19 = df_19.drop(to_drop, axis = 1)\n",
    "df18 = df_18.drop(to_drop, axis = 1)\n",
    "df17 = df_17.drop(to_drop, axis = 1)\n",
    "df16 = df_16.drop(to_drop, axis = 1)\n",
    "df15 = df_15.drop(to_drop, axis = 1)"
   ]
  },
  {
   "cell_type": "code",
   "execution_count": 97,
   "id": "8054e971",
   "metadata": {},
   "outputs": [],
   "source": [
    "def is_bench(d):\n",
    "    if d in (\"SUB\", \"RES\", \"\"):\n",
    "        return True \n",
    "    return False"
   ]
  },
  {
   "cell_type": "code",
   "execution_count": 98,
   "id": "a2d34d6c",
   "metadata": {},
   "outputs": [],
   "source": [
    "dfs = [df18, df19, df20, df21,df22,df17,df16,df15]\n",
    "\n",
    "for frame in dfs:\n",
    "    frame['is_bench'] = frame['club_position'].apply(is_bench)\n",
    "    frame['potential_diff'] = frame['potential'] - frame['overall']\n",
    "    frame[['att_rate', 'def_rate']] = frame['work_rate'].str.split('/', 1, expand=True)"
   ]
  },
  {
   "cell_type": "code",
   "execution_count": 99,
   "id": "42c369a1",
   "metadata": {},
   "outputs": [],
   "source": [
    "pos22 = df22['player_positions']\n",
    "pos21 = df21['player_positions']\n",
    "pos20 = df20['player_positions']\n",
    "pos19 = df19['player_positions']\n",
    "pos18 = df18['player_positions']\n",
    "pos17 = df17['player_positions']\n",
    "pos16 = df16['player_positions']\n",
    "pos15 = df15['player_positions']\n",
    "\n",
    "\n",
    "pref_pos_22 = []\n",
    "pref_pos_21 = []\n",
    "pref_pos_20 = []\n",
    "pref_pos_19 = []\n",
    "pref_pos_18 = []\n",
    "pref_pos_17 = []\n",
    "pref_pos_16 = []\n",
    "pref_pos_15 = []"
   ]
  },
  {
   "cell_type": "code",
   "execution_count": 100,
   "id": "6143bc85",
   "metadata": {},
   "outputs": [],
   "source": [
    "pos = [pos18, pos19, pos20, pos21,pos22,pos17,pos16,pos15]\n",
    "\n",
    "for i in pos22:\n",
    "    a = i.split(',')\n",
    "    pref_pos_22.append(a[0])\n",
    "df22['prefered_pos'] = pref_pos_22\n",
    "\n",
    "for i in pos21:\n",
    "    a = i.split(',')\n",
    "    pref_pos_21.append(a[0])\n",
    "df21['prefered_pos'] = pref_pos_21\n",
    "\n",
    "\n",
    "for i in pos20:\n",
    "    a = i.split(',')\n",
    "    pref_pos_20.append(a[0])\n",
    "df20['prefered_pos'] = pref_pos_20\n",
    "\n",
    "for i in pos19:\n",
    "    a = i.split(',')\n",
    "    pref_pos_19.append(a[0])\n",
    "df19['prefered_pos'] = pref_pos_19\n",
    "\n",
    "for i in pos18:\n",
    "    a = i.split(',')\n",
    "    pref_pos_18.append(a[0])\n",
    "df18['prefered_pos'] = pref_pos_18\n",
    "\n",
    "for i in pos17:\n",
    "    a = i.split(',')\n",
    "    pref_pos_17.append(a[0])\n",
    "df17['prefered_pos'] = pref_pos_17\n",
    "\n",
    "for i in pos16:\n",
    "    a = i.split(',')\n",
    "    pref_pos_16.append(a[0])\n",
    "df16['prefered_pos'] = pref_pos_16\n",
    "\n",
    "for i in pos15:\n",
    "    a = i.split(',')\n",
    "    pref_pos_15.append(a[0])\n",
    "df15['prefered_pos'] = pref_pos_15  \n",
    "\n"
   ]
  },
  {
   "cell_type": "code",
   "execution_count": null,
   "id": "805fa31a",
   "metadata": {},
   "outputs": [],
   "source": []
  },
  {
   "cell_type": "code",
   "execution_count": 101,
   "id": "bd4cc7f5",
   "metadata": {},
   "outputs": [],
   "source": [
    "df22 = df22.drop('player_positions', axis = 1)\n",
    "df21 = df21.drop('player_positions', axis = 1)\n",
    "df20 = df20.drop('player_positions', axis = 1)\n",
    "df19 = df19.drop('player_positions', axis = 1)\n",
    "df18 = df18.drop('player_positions', axis = 1)\n",
    "df17 = df17.drop('player_positions', axis = 1)\n",
    "df16 = df16.drop('player_positions', axis = 1)\n",
    "df15 = df15.drop('player_positions', axis = 1)\n",
    "\n",
    "df22['prefered_pos'] = df22['prefered_pos'].astype('category')\n",
    "df21['prefered_pos'] = df21['prefered_pos'].astype('category')\n",
    "df20['prefered_pos'] = df20['prefered_pos'].astype('category')\n",
    "df19['prefered_pos'] = df19['prefered_pos'].astype('category')\n",
    "df18['prefered_pos'] = df18['prefered_pos'].astype('category')\n",
    "df17['prefered_pos'] = df17['prefered_pos'].astype('category')\n",
    "df16['prefered_pos'] = df16['prefered_pos'].astype('category')\n",
    "df15['prefered_pos'] = df15['prefered_pos'].astype('category')\n",
    "\n",
    "\n"
   ]
  },
  {
   "cell_type": "markdown",
   "id": "44b3980a",
   "metadata": {},
   "source": [
    "## Join Dataframes"
   ]
  },
  {
   "cell_type": "code",
   "execution_count": 102,
   "id": "57c18221",
   "metadata": {},
   "outputs": [],
   "source": [
    "df_all = df22.join(df21, rsuffix='_21')\n",
    "df_all = df_all.join(df20, rsuffix='_20')\n",
    "df_all = df_all.join(df19, rsuffix='_19')\n",
    "df_all = df_all.join(df18, rsuffix='_18')\n",
    "df_all = df_all.join(df17, rsuffix='_17')\n",
    "df_all = df_all.join(df16, rsuffix='_16')\n",
    "df_all = df_all.join(df15, rsuffix='_15')"
   ]
  },
  {
   "cell_type": "code",
   "execution_count": 103,
   "id": "e5094389",
   "metadata": {},
   "outputs": [],
   "source": [
    "df_all['is_bench_21'] = df_all['is_bench_21'].astype('bool')\n",
    "df_all['is_bench_20'] = df_all['is_bench_20'].astype('bool')\n",
    "df_all['is_bench_19'] = df_all['is_bench_19'].astype('bool')\n",
    "df_all['is_bench_18'] = df_all['is_bench_18'].astype('bool')\n",
    "df_all['is_bench_17'] = df_all['is_bench_17'].astype('bool')\n",
    "df_all['is_bench_16'] = df_all['is_bench_16'].astype('bool')\n",
    "df_all['is_bench_15'] = df_all['is_bench_15'].astype('bool')"
   ]
  },
  {
   "cell_type": "code",
   "execution_count": 104,
   "id": "aa0d9868",
   "metadata": {},
   "outputs": [
    {
     "data": {
      "text/plain": [
       "is_bench       2\n",
       "is_bench_21    2\n",
       "is_bench_20    2\n",
       "is_bench_19    2\n",
       "is_bench_18    2\n",
       "is_bench_17    2\n",
       "is_bench_16    2\n",
       "is_bench_15    2\n",
       "dtype: int64"
      ]
     },
     "execution_count": 104,
     "metadata": {},
     "output_type": "execute_result"
    }
   ],
   "source": [
    "df_all.select_dtypes(\"bool\").nunique()"
   ]
  },
  {
   "cell_type": "code",
   "execution_count": 105,
   "id": "8003fd46",
   "metadata": {},
   "outputs": [
    {
     "name": "stdout",
     "output_type": "stream",
     "text": [
      "<class 'pandas.core.frame.DataFrame'>\n",
      "RangeIndex: 19239 entries, 0 to 19238\n",
      "Columns: 584 entries, sofifa_id to prefered_pos_15\n",
      "dtypes: bool(8), category(8), float64(420), int64(44), object(104)\n",
      "memory usage: 83.7+ MB\n"
     ]
    }
   ],
   "source": [
    "df_all.info()"
   ]
  },
  {
   "cell_type": "code",
   "execution_count": 52,
   "id": "6b6f2093",
   "metadata": {
    "scrolled": false
   },
   "outputs": [
    {
     "data": {
      "text/plain": [
       "19239"
      ]
     },
     "execution_count": 52,
     "metadata": {},
     "output_type": "execute_result"
    }
   ],
   "source": []
  },
  {
   "cell_type": "code",
   "execution_count": 106,
   "id": "361d61a5",
   "metadata": {
    "scrolled": true
   },
   "outputs": [
    {
     "data": {
      "text/plain": [
       "Medium/Medium    10015\n",
       "High/Medium       3661\n",
       "Medium/High       1880\n",
       "High/High         1099\n",
       "Medium/Low         810\n",
       "High/Low           808\n",
       "Low/Medium         466\n",
       "Low/High           455\n",
       "Low/Low             45\n",
       "Name: work_rate, dtype: int64"
      ]
     },
     "execution_count": 106,
     "metadata": {},
     "output_type": "execute_result"
    }
   ],
   "source": [
    "# df_all.select_dtypes(\"float64\").nunique()\n",
    "\n",
    "df_all.work_rate.value_counts()"
   ]
  },
  {
   "cell_type": "code",
   "execution_count": 110,
   "id": "cd31fc33",
   "metadata": {},
   "outputs": [
    {
     "data": {
      "text/plain": [
       "short_name          18145\n",
       "club_name             701\n",
       "league_name            55\n",
       "club_position          29\n",
       "club_joined          1845\n",
       "                    ...  \n",
       "body_type_15           10\n",
       "player_tags_15         59\n",
       "player_traits_15      829\n",
       "att_rate_15             3\n",
       "def_rate_15             3\n",
       "Length: 96, dtype: int64"
      ]
     },
     "execution_count": 110,
     "metadata": {},
     "output_type": "execute_result"
    }
   ],
   "source": [
    "feat_categorical_nunique = df_all.select_dtypes(\"object\").nunique()\n",
    "feat_categorical_nunique"
   ]
  },
  {
   "cell_type": "code",
   "execution_count": 111,
   "id": "f2b4f0af",
   "metadata": {},
   "outputs": [
    {
     "data": {
      "text/plain": [
       "preferred_foot       2\n",
       "att_rate             3\n",
       "def_rate             3\n",
       "preferred_foot_21    2\n",
       "att_rate_21          3\n",
       "def_rate_21          3\n",
       "preferred_foot_20    2\n",
       "att_rate_20          3\n",
       "def_rate_20          3\n",
       "preferred_foot_19    2\n",
       "att_rate_19          3\n",
       "def_rate_19          3\n",
       "preferred_foot_18    2\n",
       "att_rate_18          3\n",
       "def_rate_18          3\n",
       "preferred_foot_17    2\n",
       "att_rate_17          3\n",
       "def_rate_17          3\n",
       "preferred_foot_16    2\n",
       "att_rate_16          3\n",
       "def_rate_16          3\n",
       "preferred_foot_15    2\n",
       "att_rate_15          3\n",
       "def_rate_15          3\n",
       "dtype: int64"
      ]
     },
     "execution_count": 111,
     "metadata": {},
     "output_type": "execute_result"
    }
   ],
   "source": [
    "feat_categorical_small = feat_categorical_nunique[feat_categorical_nunique < 10]\n",
    "feat_categorical_small"
   ]
  },
  {
   "cell_type": "code",
   "execution_count": 109,
   "id": "d96d4cc1",
   "metadata": {},
   "outputs": [],
   "source": [
    "wk_drop = ['work_rate','work_rate_21','work_rate_20','work_rate_19',\n",
    "           'work_rate_18','work_rate_17','work_rate_16','work_rate_15']\n",
    "\n",
    "df_all = df_all.drop(wk_drop, axis = 1)"
   ]
  },
  {
   "cell_type": "markdown",
   "id": "f4537ab2",
   "metadata": {},
   "source": [
    "## Pipeline"
   ]
  },
  {
   "cell_type": "code",
   "execution_count": null,
   "id": "1932a4bd",
   "metadata": {},
   "outputs": [],
   "source": [
    "# Preprocessor\n",
    "\n",
    "num_transformer = make_pipeline(SimpleImputer(), StandardScaler())\n",
    "\n",
    "\n",
    "cat_transformer = OneHotEncoder(handle_unknown='ignore', sparse=False)\n",
    "cat_col = make_column_selector(dtype_include=['object','bool'])\n",
    "\n",
    "preproc = make_column_transformer(\n",
    "    (num_transformer, make_column_selector(dtype_include=['float64'])),\n",
    "    (cat_transformer, make_column_selector(dtype_include=['object','bool'])),\n",
    "    remainder=‘passthrough’)\n",
    "\n",
    "\n",
    "\n",
    "# Add Estimator\n",
    "pipe = make_pipeline(preproc, Ridge())\n",
    "pipe"
   ]
  }
 ],
 "metadata": {
  "kernelspec": {
   "display_name": "Python 3 (ipykernel)",
   "language": "python",
   "name": "python3"
  },
  "language_info": {
   "codemirror_mode": {
    "name": "ipython",
    "version": 3
   },
   "file_extension": ".py",
   "mimetype": "text/x-python",
   "name": "python",
   "nbconvert_exporter": "python",
   "pygments_lexer": "ipython3",
   "version": "3.8.12"
  },
  "toc": {
   "base_numbering": 1,
   "nav_menu": {},
   "number_sections": true,
   "sideBar": true,
   "skip_h1_title": false,
   "title_cell": "Table of Contents",
   "title_sidebar": "Contents",
   "toc_cell": false,
   "toc_position": {},
   "toc_section_display": true,
   "toc_window_display": true
  }
 },
 "nbformat": 4,
 "nbformat_minor": 5
}
