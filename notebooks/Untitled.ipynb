{
 "cells": [
  {
   "cell_type": "markdown",
   "id": "58508f66",
   "metadata": {},
   "source": [
    "# FRAME THE PROBLEM/OBJECTIVE\n",
    "Look at the Big Picture. Here are the kind of questions you should ask yourself and be able to answer:\n",
    "\n",
    "\n",
    "\n"
   ]
  },
  {
   "cell_type": "markdown",
   "id": "06be3af1",
   "metadata": {},
   "source": [
    "## Define the objective in business terms.\n",
    "\n",
    "- Why : \n",
    "-- Teams spend a lot of money when recruiting players.\n",
    "-- The price that teams play does not always reflect the value of the player\n",
    "-- Not all recruitements end up as successes\n",
    "-- That kind of exercise could help in other areas like job seeking \n",
    "- What : \n",
    "\n",
    "we want to : \n",
    "- identify under evaluated players that could be sold at higher value, were they to join our team = price pred \n",
    "\"- pinpoint players that could improve if they join our team = new potential\" \n",
    "\n"
   ]
  },
  {
   "cell_type": "code",
   "execution_count": null,
   "id": "0107c802",
   "metadata": {},
   "outputs": [],
   "source": []
  },
  {
   "cell_type": "markdown",
   "id": "9805dc88",
   "metadata": {},
   "source": [
    "## How will your solution be used (think about your users)?\n",
    "\n",
    "- Web application that provides a list of players recommendations \n",
    "\n",
    "- User target : Recruiter of a team\n",
    "\n"
   ]
  },
  {
   "cell_type": "markdown",
   "id": "8c0b13e3",
   "metadata": {
    "heading_collapsed": true
   },
   "source": [
    "## What are the current solutions/workarounds (if any)?\n",
    "\n",
    "\n",
    "- Wyscout data recommendations \n",
    "- Team scouting networks "
   ]
  },
  {
   "cell_type": "markdown",
   "id": "84e8e1e2",
   "metadata": {},
   "source": [
    "## How should you frame this problem (supervised/unsupervised, online/offline, etc.)?\n",
    "\n",
    "- Supervised Model to predict future mkt value (and similarity score) \n"
   ]
  },
  {
   "cell_type": "markdown",
   "id": "6ca1c0ca",
   "metadata": {},
   "source": [
    "## How should performance be measured?\n",
    "\n",
    "- ML perf :  RMSE / R2 / MAE\n",
    "- Business Perf : maximize the diff between purchase value and resell value"
   ]
  },
  {
   "cell_type": "markdown",
   "id": "0e441bce",
   "metadata": {},
   "source": [
    "## Is the performance measure aligned with the business objective?\n",
    "\n",
    "Yes ! \n"
   ]
  },
  {
   "cell_type": "markdown",
   "id": "3d355ae9",
   "metadata": {},
   "source": [
    "## What would be the minimum performance needed to reach the business objective?\n",
    "\n",
    "- Business Min Perf : Not having losses\n",
    "\n",
    "- ML min perf : check later on - [link check](https://towardsdatascience.com/metrics-to-evaluate-your-machine-learning-algorithm-f10ba6e38234)"
   ]
  },
  {
   "cell_type": "markdown",
   "id": "8d6cf5b8",
   "metadata": {},
   "source": [
    "## What are comparable problems? Can you reuse experience or tools?\n",
    "\n",
    "Anything that relates to future price values : \n",
    "- stocks\n",
    "- currencies\n",
    "- house\n"
   ]
  },
  {
   "cell_type": "markdown",
   "id": "b725dd38",
   "metadata": {},
   "source": [
    "## Is human expertise available?\n",
    "\n",
    "Yes ! "
   ]
  },
  {
   "cell_type": "markdown",
   "id": "f3388e25",
   "metadata": {},
   "source": [
    "## How would you solve the problem manually?\n",
    "\n",
    "Rely on our football experience \n"
   ]
  },
  {
   "cell_type": "markdown",
   "id": "bbbab752",
   "metadata": {},
   "source": [
    "## List the assumptions you (or others) have made so far.\n",
    "\n",
    "- our datasource is enough to accurately predict the future mkt value"
   ]
  },
  {
   "cell_type": "markdown",
   "id": "7cf4b2ae",
   "metadata": {},
   "source": [
    "## Verify assumptions if possible."
   ]
  },
  {
   "cell_type": "code",
   "execution_count": null,
   "id": "a7fc655c",
   "metadata": {},
   "outputs": [],
   "source": []
  }
 ],
 "metadata": {
  "kernelspec": {
   "display_name": "Python 3 (ipykernel)",
   "language": "python",
   "name": "python3"
  },
  "language_info": {
   "codemirror_mode": {
    "name": "ipython",
    "version": 3
   },
   "file_extension": ".py",
   "mimetype": "text/x-python",
   "name": "python",
   "nbconvert_exporter": "python",
   "pygments_lexer": "ipython3",
   "version": "3.8.12"
  },
  "toc": {
   "base_numbering": 1,
   "nav_menu": {},
   "number_sections": true,
   "sideBar": true,
   "skip_h1_title": false,
   "title_cell": "Table of Contents",
   "title_sidebar": "Contents",
   "toc_cell": false,
   "toc_position": {},
   "toc_section_display": true,
   "toc_window_display": true
  }
 },
 "nbformat": 4,
 "nbformat_minor": 5
}
