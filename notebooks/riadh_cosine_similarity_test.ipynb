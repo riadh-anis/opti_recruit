{
 "cells": [
  {
   "cell_type": "markdown",
   "id": "55969c58",
   "metadata": {},
   "source": [
    "### Libraries"
   ]
  },
  {
   "cell_type": "code",
   "execution_count": 1,
   "id": "7687e8bf",
   "metadata": {},
   "outputs": [],
   "source": [
    "%load_ext autoreload\n",
    "%autoreload 2"
   ]
  },
  {
   "cell_type": "code",
   "execution_count": 24,
   "id": "6e0d3fee",
   "metadata": {},
   "outputs": [],
   "source": [
    "import opti_recruit.feature_engineering as fe\n",
    "import opti_recruit.get_team_features as gtf\n",
    "import opti_recruit.similarity as si\n",
    "import pandas as pd\n",
    "import pickle \n",
    "from sklearn.pipeline import Pipeline,make_pipeline,make_union\n",
    "from sklearn.compose import make_column_transformer,make_column_selector\n",
    "from sklearn.impute import SimpleImputer\n",
    "from sklearn.preprocessing import StandardScaler,OneHotEncoder\n",
    "from opti_recruit.data import get_data, clean_data\n",
    "import numpy as np"
   ]
  },
  {
   "cell_type": "markdown",
   "id": "b05a5f98",
   "metadata": {},
   "source": [
    "### Loading Data"
   ]
  },
  {
   "cell_type": "code",
   "execution_count": 25,
   "id": "38be72aa",
   "metadata": {},
   "outputs": [
    {
     "data": {
      "text/plain": [
       "dict_keys([17, 18, 19, 20, 21, 22])"
      ]
     },
     "execution_count": 25,
     "metadata": {},
     "output_type": "execute_result"
    }
   ],
   "source": [
    "dfs = get_data()\n",
    "dfs.keys()"
   ]
  },
  {
   "cell_type": "code",
   "execution_count": 26,
   "id": "b052292d",
   "metadata": {},
   "outputs": [],
   "source": [
    "df22 = dfs[22]\n",
    "df21 = dfs[21]"
   ]
  },
  {
   "cell_type": "code",
   "execution_count": 27,
   "id": "47bc7070",
   "metadata": {},
   "outputs": [],
   "source": [
    "df22_new = fe.add_features(df22)\n",
    "df21_new = fe.add_features(df21)"
   ]
  },
  {
   "cell_type": "code",
   "execution_count": 28,
   "id": "df3f4aac",
   "metadata": {},
   "outputs": [
    {
     "data": {
      "text/html": [
       "<div>\n",
       "<style scoped>\n",
       "    .dataframe tbody tr th:only-of-type {\n",
       "        vertical-align: middle;\n",
       "    }\n",
       "\n",
       "    .dataframe tbody tr th {\n",
       "        vertical-align: top;\n",
       "    }\n",
       "\n",
       "    .dataframe thead th {\n",
       "        text-align: right;\n",
       "    }\n",
       "</style>\n",
       "<table border=\"1\" class=\"dataframe\">\n",
       "  <thead>\n",
       "    <tr style=\"text-align: right;\">\n",
       "      <th></th>\n",
       "      <th>sofifa_id</th>\n",
       "      <th>short_name</th>\n",
       "      <th>player_positions</th>\n",
       "      <th>overall</th>\n",
       "      <th>potential</th>\n",
       "      <th>value_eur</th>\n",
       "      <th>wage_eur</th>\n",
       "      <th>age</th>\n",
       "      <th>height_cm</th>\n",
       "      <th>weight_kg</th>\n",
       "      <th>...</th>\n",
       "      <th>defending_standing_tackle</th>\n",
       "      <th>defending_sliding_tackle</th>\n",
       "      <th>is_bench</th>\n",
       "      <th>potential_diff</th>\n",
       "      <th>att_rate</th>\n",
       "      <th>def_rate</th>\n",
       "      <th>age_bin</th>\n",
       "      <th>prefered_pos</th>\n",
       "      <th>player_pos</th>\n",
       "      <th>new_nationality</th>\n",
       "    </tr>\n",
       "  </thead>\n",
       "  <tbody>\n",
       "    <tr>\n",
       "      <th>0</th>\n",
       "      <td>158023</td>\n",
       "      <td>L. Messi</td>\n",
       "      <td>RW, ST, CF</td>\n",
       "      <td>93</td>\n",
       "      <td>93</td>\n",
       "      <td>78000000.0</td>\n",
       "      <td>320000.0</td>\n",
       "      <td>34</td>\n",
       "      <td>170</td>\n",
       "      <td>72</td>\n",
       "      <td>...</td>\n",
       "      <td>35</td>\n",
       "      <td>24</td>\n",
       "      <td>False</td>\n",
       "      <td>0</td>\n",
       "      <td>Medium</td>\n",
       "      <td>Low</td>\n",
       "      <td>30-34</td>\n",
       "      <td>RW</td>\n",
       "      <td>ATT</td>\n",
       "      <td>Argentina</td>\n",
       "    </tr>\n",
       "    <tr>\n",
       "      <th>1</th>\n",
       "      <td>188545</td>\n",
       "      <td>R. Lewandowski</td>\n",
       "      <td>ST</td>\n",
       "      <td>92</td>\n",
       "      <td>92</td>\n",
       "      <td>119500000.0</td>\n",
       "      <td>270000.0</td>\n",
       "      <td>32</td>\n",
       "      <td>185</td>\n",
       "      <td>81</td>\n",
       "      <td>...</td>\n",
       "      <td>42</td>\n",
       "      <td>19</td>\n",
       "      <td>False</td>\n",
       "      <td>0</td>\n",
       "      <td>High</td>\n",
       "      <td>Medium</td>\n",
       "      <td>30-34</td>\n",
       "      <td>ST</td>\n",
       "      <td>ATT</td>\n",
       "      <td>Poland</td>\n",
       "    </tr>\n",
       "    <tr>\n",
       "      <th>2</th>\n",
       "      <td>20801</td>\n",
       "      <td>Cristiano Ronaldo</td>\n",
       "      <td>ST, LW</td>\n",
       "      <td>91</td>\n",
       "      <td>91</td>\n",
       "      <td>45000000.0</td>\n",
       "      <td>270000.0</td>\n",
       "      <td>36</td>\n",
       "      <td>187</td>\n",
       "      <td>83</td>\n",
       "      <td>...</td>\n",
       "      <td>32</td>\n",
       "      <td>24</td>\n",
       "      <td>False</td>\n",
       "      <td>0</td>\n",
       "      <td>High</td>\n",
       "      <td>Low</td>\n",
       "      <td>Over 34</td>\n",
       "      <td>ST</td>\n",
       "      <td>ATT</td>\n",
       "      <td>Portugal</td>\n",
       "    </tr>\n",
       "    <tr>\n",
       "      <th>3</th>\n",
       "      <td>190871</td>\n",
       "      <td>Neymar Jr</td>\n",
       "      <td>LW, CAM</td>\n",
       "      <td>91</td>\n",
       "      <td>91</td>\n",
       "      <td>129000000.0</td>\n",
       "      <td>270000.0</td>\n",
       "      <td>29</td>\n",
       "      <td>175</td>\n",
       "      <td>68</td>\n",
       "      <td>...</td>\n",
       "      <td>32</td>\n",
       "      <td>29</td>\n",
       "      <td>False</td>\n",
       "      <td>0</td>\n",
       "      <td>High</td>\n",
       "      <td>Medium</td>\n",
       "      <td>25-29</td>\n",
       "      <td>LW</td>\n",
       "      <td>ATT</td>\n",
       "      <td>Brazil</td>\n",
       "    </tr>\n",
       "    <tr>\n",
       "      <th>4</th>\n",
       "      <td>192985</td>\n",
       "      <td>K. De Bruyne</td>\n",
       "      <td>CM, CAM</td>\n",
       "      <td>91</td>\n",
       "      <td>91</td>\n",
       "      <td>125500000.0</td>\n",
       "      <td>350000.0</td>\n",
       "      <td>30</td>\n",
       "      <td>181</td>\n",
       "      <td>70</td>\n",
       "      <td>...</td>\n",
       "      <td>65</td>\n",
       "      <td>53</td>\n",
       "      <td>False</td>\n",
       "      <td>0</td>\n",
       "      <td>High</td>\n",
       "      <td>High</td>\n",
       "      <td>30-34</td>\n",
       "      <td>CM</td>\n",
       "      <td>MID</td>\n",
       "      <td>Others</td>\n",
       "    </tr>\n",
       "  </tbody>\n",
       "</table>\n",
       "<p>5 rows × 71 columns</p>\n",
       "</div>"
      ],
      "text/plain": [
       "   sofifa_id         short_name player_positions  overall  potential  \\\n",
       "0     158023           L. Messi       RW, ST, CF       93         93   \n",
       "1     188545     R. Lewandowski               ST       92         92   \n",
       "2      20801  Cristiano Ronaldo           ST, LW       91         91   \n",
       "3     190871          Neymar Jr          LW, CAM       91         91   \n",
       "4     192985       K. De Bruyne          CM, CAM       91         91   \n",
       "\n",
       "     value_eur  wage_eur  age  height_cm  weight_kg  ...  \\\n",
       "0   78000000.0  320000.0   34        170         72  ...   \n",
       "1  119500000.0  270000.0   32        185         81  ...   \n",
       "2   45000000.0  270000.0   36        187         83  ...   \n",
       "3  129000000.0  270000.0   29        175         68  ...   \n",
       "4  125500000.0  350000.0   30        181         70  ...   \n",
       "\n",
       "   defending_standing_tackle defending_sliding_tackle is_bench  \\\n",
       "0                         35                       24    False   \n",
       "1                         42                       19    False   \n",
       "2                         32                       24    False   \n",
       "3                         32                       29    False   \n",
       "4                         65                       53    False   \n",
       "\n",
       "   potential_diff att_rate def_rate  age_bin prefered_pos  player_pos  \\\n",
       "0               0   Medium      Low    30-34           RW         ATT   \n",
       "1               0     High   Medium    30-34           ST         ATT   \n",
       "2               0     High      Low  Over 34           ST         ATT   \n",
       "3               0     High   Medium    25-29           LW         ATT   \n",
       "4               0     High     High    30-34           CM         MID   \n",
       "\n",
       "  new_nationality  \n",
       "0       Argentina  \n",
       "1          Poland  \n",
       "2        Portugal  \n",
       "3          Brazil  \n",
       "4          Others  \n",
       "\n",
       "[5 rows x 71 columns]"
      ]
     },
     "execution_count": 28,
     "metadata": {},
     "output_type": "execute_result"
    }
   ],
   "source": [
    "df22_new.head()"
   ]
  },
  {
   "cell_type": "markdown",
   "id": "367667c3",
   "metadata": {},
   "source": [
    "### Data Preparation"
   ]
  },
  {
   "cell_type": "code",
   "execution_count": null,
   "id": "8c26eaef",
   "metadata": {},
   "outputs": [],
   "source": [
    "for index, col in enumerate(df22_new.columns):\n",
    "    print(f\"{col:<26} | \", end=\"\")\n",
    "    if (index % 3 == 2):\n",
    "        print(\"\\n\", end=\"\")"
   ]
  },
  {
   "cell_type": "code",
   "execution_count": 29,
   "id": "01c6cfc8",
   "metadata": {},
   "outputs": [],
   "source": [
    "to_drop = ['sofifa_id','short_name','player_positions','height_cm','weight_kg','club_team_id'\n",
    "          ,'club_name' ,'league_name','club_position','club_joined','club_contract_valid_until','nationality_name'\n",
    "          ,'nation_team_id','preferred_foot','weak_foot','work_rate','body_type','player_tags','player_traits'\n",
    "          ,'is_bench','potential_diff','age_bin','player_pos','new_nationality'\n",
    "          ,'value_eur','wage_eur','release_clause_eur']\n",
    "#             'age']"
   ]
  },
  {
   "cell_type": "code",
   "execution_count": 30,
   "id": "079e8c56",
   "metadata": {},
   "outputs": [],
   "source": [
    "df22_num = df22_new.drop(to_drop, axis = 1)"
   ]
  },
  {
   "cell_type": "code",
   "execution_count": 8,
   "id": "2ad1562b",
   "metadata": {
    "collapsed": true
   },
   "outputs": [
    {
     "name": "stdout",
     "output_type": "stream",
     "text": [
      "<class 'pandas.core.frame.DataFrame'>\n",
      "RangeIndex: 19239 entries, 0 to 19238\n",
      "Data columns (total 44 columns):\n",
      " #   Column                       Non-Null Count  Dtype   \n",
      "---  ------                       --------------  -----   \n",
      " 0   overall                      19239 non-null  int64   \n",
      " 1   potential                    19239 non-null  int64   \n",
      " 2   age                          19239 non-null  int64   \n",
      " 3   league_level                 19178 non-null  float64 \n",
      " 4   skill_moves                  19239 non-null  int64   \n",
      " 5   international_reputation     19239 non-null  int64   \n",
      " 6   pace                         17107 non-null  float64 \n",
      " 7   shooting                     17107 non-null  float64 \n",
      " 8   passing                      17107 non-null  float64 \n",
      " 9   dribbling                    17107 non-null  float64 \n",
      " 10  defending                    17107 non-null  float64 \n",
      " 11  physic                       17107 non-null  float64 \n",
      " 12  attacking_crossing           19239 non-null  int64   \n",
      " 13  attacking_finishing          19239 non-null  int64   \n",
      " 14  attacking_heading_accuracy   19239 non-null  int64   \n",
      " 15  attacking_short_passing      19239 non-null  int64   \n",
      " 16  attacking_volleys            19239 non-null  int64   \n",
      " 17  skill_dribbling              19239 non-null  int64   \n",
      " 18  skill_curve                  19239 non-null  int64   \n",
      " 19  skill_fk_accuracy            19239 non-null  int64   \n",
      " 20  skill_long_passing           19239 non-null  int64   \n",
      " 21  skill_ball_control           19239 non-null  int64   \n",
      " 22  movement_acceleration        19239 non-null  int64   \n",
      " 23  movement_sprint_speed        19239 non-null  int64   \n",
      " 24  movement_agility             19239 non-null  int64   \n",
      " 25  movement_reactions           19239 non-null  int64   \n",
      " 26  movement_balance             19239 non-null  int64   \n",
      " 27  power_shot_power             19239 non-null  int64   \n",
      " 28  power_jumping                19239 non-null  int64   \n",
      " 29  power_stamina                19239 non-null  int64   \n",
      " 30  power_strength               19239 non-null  int64   \n",
      " 31  power_long_shots             19239 non-null  int64   \n",
      " 32  mentality_aggression         19239 non-null  int64   \n",
      " 33  mentality_interceptions      19239 non-null  int64   \n",
      " 34  mentality_positioning        19239 non-null  int64   \n",
      " 35  mentality_vision             19239 non-null  int64   \n",
      " 36  mentality_penalties          19239 non-null  int64   \n",
      " 37  mentality_composure          19239 non-null  int64   \n",
      " 38  defending_marking_awareness  19239 non-null  int64   \n",
      " 39  defending_standing_tackle    19239 non-null  int64   \n",
      " 40  defending_sliding_tackle     19239 non-null  int64   \n",
      " 41  att_rate                     19239 non-null  object  \n",
      " 42  def_rate                     19239 non-null  object  \n",
      " 43  prefered_pos                 19239 non-null  category\n",
      "dtypes: category(1), float64(7), int64(34), object(2)\n",
      "memory usage: 6.3+ MB\n"
     ]
    }
   ],
   "source": [
    "df22_num.info()"
   ]
  },
  {
   "cell_type": "markdown",
   "id": "1ebb8319",
   "metadata": {},
   "source": [
    "### Pipeline for Numerical DFrame"
   ]
  },
  {
   "cell_type": "code",
   "execution_count": 31,
   "id": "556235ae",
   "metadata": {},
   "outputs": [],
   "source": [
    "from sklearn.pipeline import Pipeline,make_pipeline,make_union\n",
    "from sklearn.compose import make_column_transformer,make_column_selector\n",
    "from sklearn.impute import SimpleImputer\n",
    "from sklearn.preprocessing import StandardScaler\n",
    "from sklearn import set_config; set_config(display='diagram')\n",
    "\n",
    "\n",
    "\n",
    "num_transformer = make_pipeline(SimpleImputer(), StandardScaler())\n",
    "num_col = make_column_selector(dtype_include=['float64','int64'])\n",
    "\n",
    "cat_transformer = OneHotEncoder()\n",
    "cat_col = make_column_selector(dtype_include=['object','category'])\n",
    "\n",
    "preproc_basic = make_column_transformer(\n",
    "    (num_transformer, num_col),\n",
    "    (cat_transformer, cat_col),\n",
    "    remainder='passthrough')\n",
    "\n",
    "\n",
    "preproc_full = make_union(preproc_basic)\n",
    "# preproc_full\n"
   ]
  },
  {
   "cell_type": "code",
   "execution_count": 32,
   "id": "2bd7a417",
   "metadata": {},
   "outputs": [],
   "source": [
    "SimpleImputer.get_feature_names_out = (lambda self, names=None: self.feature_names_in_)"
   ]
  },
  {
   "cell_type": "code",
   "execution_count": 33,
   "id": "68c4a3f6",
   "metadata": {},
   "outputs": [],
   "source": [
    "X_train_transformed = preproc_basic.fit_transform(df22_num)\n",
    "\n",
    "\n",
    "test_df = pd.DataFrame(X_train_transformed, \n",
    "             columns=preproc_basic.get_feature_names_out()\n",
    "            )\n"
   ]
  },
  {
   "cell_type": "code",
   "execution_count": 34,
   "id": "6cfec0bf",
   "metadata": {},
   "outputs": [],
   "source": [
    "def get_index(x):\n",
    "    return df22[df22['sofifa_id']==x].index.tolist()[0]"
   ]
  },
  {
   "cell_type": "code",
   "execution_count": 13,
   "id": "31feb2d4",
   "metadata": {},
   "outputs": [
    {
     "data": {
      "text/plain": [
       "0"
      ]
     },
     "execution_count": 13,
     "metadata": {},
     "output_type": "execute_result"
    }
   ],
   "source": [
    "get_index(158023)"
   ]
  },
  {
   "cell_type": "code",
   "execution_count": 35,
   "id": "22962830",
   "metadata": {
    "scrolled": true
   },
   "outputs": [
    {
     "data": {
      "text/html": [
       "<div>\n",
       "<style scoped>\n",
       "    .dataframe tbody tr th:only-of-type {\n",
       "        vertical-align: middle;\n",
       "    }\n",
       "\n",
       "    .dataframe tbody tr th {\n",
       "        vertical-align: top;\n",
       "    }\n",
       "\n",
       "    .dataframe thead th {\n",
       "        text-align: right;\n",
       "    }\n",
       "</style>\n",
       "<table border=\"1\" class=\"dataframe\">\n",
       "  <thead>\n",
       "    <tr style=\"text-align: right;\">\n",
       "      <th></th>\n",
       "      <th>pipeline__overall</th>\n",
       "      <th>pipeline__potential</th>\n",
       "      <th>pipeline__age</th>\n",
       "      <th>pipeline__league_level</th>\n",
       "      <th>pipeline__skill_moves</th>\n",
       "      <th>pipeline__international_reputation</th>\n",
       "      <th>pipeline__pace</th>\n",
       "      <th>pipeline__shooting</th>\n",
       "      <th>pipeline__passing</th>\n",
       "      <th>pipeline__dribbling</th>\n",
       "      <th>...</th>\n",
       "      <th>onehotencoder__prefered_pos_GK</th>\n",
       "      <th>onehotencoder__prefered_pos_LB</th>\n",
       "      <th>onehotencoder__prefered_pos_LM</th>\n",
       "      <th>onehotencoder__prefered_pos_LW</th>\n",
       "      <th>onehotencoder__prefered_pos_LWB</th>\n",
       "      <th>onehotencoder__prefered_pos_RB</th>\n",
       "      <th>onehotencoder__prefered_pos_RM</th>\n",
       "      <th>onehotencoder__prefered_pos_RW</th>\n",
       "      <th>onehotencoder__prefered_pos_RWB</th>\n",
       "      <th>onehotencoder__prefered_pos_ST</th>\n",
       "    </tr>\n",
       "  </thead>\n",
       "  <tbody>\n",
       "    <tr>\n",
       "      <th>0</th>\n",
       "      <td>3.957501</td>\n",
       "      <td>3.60178</td>\n",
       "      <td>1.851089</td>\n",
       "      <td>-0.4746</td>\n",
       "      <td>2.146241</td>\n",
       "      <td>10.525295</td>\n",
       "      <td>1.628331</td>\n",
       "      <td>2.992852</td>\n",
       "      <td>3.548135</td>\n",
       "      <td>3.564477</td>\n",
       "      <td>...</td>\n",
       "      <td>0.0</td>\n",
       "      <td>0.0</td>\n",
       "      <td>0.0</td>\n",
       "      <td>0.0</td>\n",
       "      <td>0.0</td>\n",
       "      <td>0.0</td>\n",
       "      <td>0.0</td>\n",
       "      <td>1.0</td>\n",
       "      <td>0.0</td>\n",
       "      <td>0.0</td>\n",
       "    </tr>\n",
       "    <tr>\n",
       "      <th>1</th>\n",
       "      <td>3.812154</td>\n",
       "      <td>3.43747</td>\n",
       "      <td>1.429869</td>\n",
       "      <td>-0.4746</td>\n",
       "      <td>2.146241</td>\n",
       "      <td>10.525295</td>\n",
       "      <td>0.949332</td>\n",
       "      <td>2.992852</td>\n",
       "      <td>2.284233</td>\n",
       "      <td>2.575529</td>\n",
       "      <td>...</td>\n",
       "      <td>0.0</td>\n",
       "      <td>0.0</td>\n",
       "      <td>0.0</td>\n",
       "      <td>0.0</td>\n",
       "      <td>0.0</td>\n",
       "      <td>0.0</td>\n",
       "      <td>0.0</td>\n",
       "      <td>0.0</td>\n",
       "      <td>0.0</td>\n",
       "      <td>1.0</td>\n",
       "    </tr>\n",
       "    <tr>\n",
       "      <th>2</th>\n",
       "      <td>3.666806</td>\n",
       "      <td>3.27316</td>\n",
       "      <td>2.272309</td>\n",
       "      <td>-0.4746</td>\n",
       "      <td>3.448937</td>\n",
       "      <td>10.525295</td>\n",
       "      <td>1.822331</td>\n",
       "      <td>3.143798</td>\n",
       "      <td>2.389558</td>\n",
       "      <td>2.795295</td>\n",
       "      <td>...</td>\n",
       "      <td>0.0</td>\n",
       "      <td>0.0</td>\n",
       "      <td>0.0</td>\n",
       "      <td>0.0</td>\n",
       "      <td>0.0</td>\n",
       "      <td>0.0</td>\n",
       "      <td>0.0</td>\n",
       "      <td>0.0</td>\n",
       "      <td>0.0</td>\n",
       "      <td>1.0</td>\n",
       "    </tr>\n",
       "    <tr>\n",
       "      <th>3</th>\n",
       "      <td>3.666806</td>\n",
       "      <td>3.27316</td>\n",
       "      <td>0.798039</td>\n",
       "      <td>-0.4746</td>\n",
       "      <td>3.448937</td>\n",
       "      <td>10.525295</td>\n",
       "      <td>2.210331</td>\n",
       "      <td>2.313597</td>\n",
       "      <td>3.021509</td>\n",
       "      <td>3.454594</td>\n",
       "      <td>...</td>\n",
       "      <td>0.0</td>\n",
       "      <td>0.0</td>\n",
       "      <td>0.0</td>\n",
       "      <td>1.0</td>\n",
       "      <td>0.0</td>\n",
       "      <td>0.0</td>\n",
       "      <td>0.0</td>\n",
       "      <td>0.0</td>\n",
       "      <td>0.0</td>\n",
       "      <td>0.0</td>\n",
       "    </tr>\n",
       "    <tr>\n",
       "      <th>4</th>\n",
       "      <td>3.666806</td>\n",
       "      <td>3.27316</td>\n",
       "      <td>1.008649</td>\n",
       "      <td>-0.4746</td>\n",
       "      <td>2.146241</td>\n",
       "      <td>7.830520</td>\n",
       "      <td>0.755332</td>\n",
       "      <td>2.540015</td>\n",
       "      <td>3.758786</td>\n",
       "      <td>2.795295</td>\n",
       "      <td>...</td>\n",
       "      <td>0.0</td>\n",
       "      <td>0.0</td>\n",
       "      <td>0.0</td>\n",
       "      <td>0.0</td>\n",
       "      <td>0.0</td>\n",
       "      <td>0.0</td>\n",
       "      <td>0.0</td>\n",
       "      <td>0.0</td>\n",
       "      <td>0.0</td>\n",
       "      <td>0.0</td>\n",
       "    </tr>\n",
       "  </tbody>\n",
       "</table>\n",
       "<p>5 rows × 62 columns</p>\n",
       "</div>"
      ],
      "text/plain": [
       "   pipeline__overall  pipeline__potential  pipeline__age  \\\n",
       "0           3.957501              3.60178       1.851089   \n",
       "1           3.812154              3.43747       1.429869   \n",
       "2           3.666806              3.27316       2.272309   \n",
       "3           3.666806              3.27316       0.798039   \n",
       "4           3.666806              3.27316       1.008649   \n",
       "\n",
       "   pipeline__league_level  pipeline__skill_moves  \\\n",
       "0                 -0.4746               2.146241   \n",
       "1                 -0.4746               2.146241   \n",
       "2                 -0.4746               3.448937   \n",
       "3                 -0.4746               3.448937   \n",
       "4                 -0.4746               2.146241   \n",
       "\n",
       "   pipeline__international_reputation  pipeline__pace  pipeline__shooting  \\\n",
       "0                           10.525295        1.628331            2.992852   \n",
       "1                           10.525295        0.949332            2.992852   \n",
       "2                           10.525295        1.822331            3.143798   \n",
       "3                           10.525295        2.210331            2.313597   \n",
       "4                            7.830520        0.755332            2.540015   \n",
       "\n",
       "   pipeline__passing  pipeline__dribbling  ...  \\\n",
       "0           3.548135             3.564477  ...   \n",
       "1           2.284233             2.575529  ...   \n",
       "2           2.389558             2.795295  ...   \n",
       "3           3.021509             3.454594  ...   \n",
       "4           3.758786             2.795295  ...   \n",
       "\n",
       "   onehotencoder__prefered_pos_GK  onehotencoder__prefered_pos_LB  \\\n",
       "0                             0.0                             0.0   \n",
       "1                             0.0                             0.0   \n",
       "2                             0.0                             0.0   \n",
       "3                             0.0                             0.0   \n",
       "4                             0.0                             0.0   \n",
       "\n",
       "   onehotencoder__prefered_pos_LM  onehotencoder__prefered_pos_LW  \\\n",
       "0                             0.0                             0.0   \n",
       "1                             0.0                             0.0   \n",
       "2                             0.0                             0.0   \n",
       "3                             0.0                             1.0   \n",
       "4                             0.0                             0.0   \n",
       "\n",
       "   onehotencoder__prefered_pos_LWB  onehotencoder__prefered_pos_RB  \\\n",
       "0                              0.0                             0.0   \n",
       "1                              0.0                             0.0   \n",
       "2                              0.0                             0.0   \n",
       "3                              0.0                             0.0   \n",
       "4                              0.0                             0.0   \n",
       "\n",
       "   onehotencoder__prefered_pos_RM  onehotencoder__prefered_pos_RW  \\\n",
       "0                             0.0                             1.0   \n",
       "1                             0.0                             0.0   \n",
       "2                             0.0                             0.0   \n",
       "3                             0.0                             0.0   \n",
       "4                             0.0                             0.0   \n",
       "\n",
       "   onehotencoder__prefered_pos_RWB  onehotencoder__prefered_pos_ST  \n",
       "0                              0.0                             0.0  \n",
       "1                              0.0                             1.0  \n",
       "2                              0.0                             1.0  \n",
       "3                              0.0                             0.0  \n",
       "4                              0.0                             0.0  \n",
       "\n",
       "[5 rows x 62 columns]"
      ]
     },
     "execution_count": 35,
     "metadata": {},
     "output_type": "execute_result"
    }
   ],
   "source": [
    "test_df.head()"
   ]
  },
  {
   "cell_type": "markdown",
   "id": "41452121",
   "metadata": {},
   "source": [
    "### Cosine Similarity"
   ]
  },
  {
   "cell_type": "markdown",
   "id": "ed73764b",
   "metadata": {},
   "source": [
    "#### Cosine Similarity Matrix "
   ]
  },
  {
   "cell_type": "code",
   "execution_count": 36,
   "id": "7de62f03",
   "metadata": {},
   "outputs": [],
   "source": [
    "from sklearn.metrics.pairwise import cosine_similarity \n",
    "similarities = cosine_similarity(test_df)"
   ]
  },
  {
   "cell_type": "markdown",
   "id": "0e83871e",
   "metadata": {},
   "source": [
    "#### Cricri "
   ]
  },
  {
   "cell_type": "code",
   "execution_count": 37,
   "id": "97d5f66a",
   "metadata": {
    "scrolled": true
   },
   "outputs": [
    {
     "name": "stdout",
     "output_type": "stream",
     "text": [
      "E. Hazard\n",
      "Neymar Jr\n",
      "M. Salah\n",
      "M. Reus\n",
      "H. Son\n",
      "A. Sánchez\n",
      "C. Vela\n",
      "K. Coman\n",
      "Á. Di María\n",
      "K. Benzema\n",
      "S. Agüero\n",
      "S. Gnabry\n",
      "Cristiano Ronaldo\n",
      "A. Griezmann\n",
      "Marco Asensio\n",
      "R. Sterling\n",
      "P. Dybala\n",
      "L. Sané\n",
      "S. Mané\n",
      "R. Mahrez\n",
      "R. Lewandowski\n",
      "K. Mbappé\n",
      "E. Forsberg\n",
      "J. Brandt\n",
      "P. Aubameyang\n",
      "L. Suárez\n",
      "G. Bale\n",
      "J. Draxler\n",
      "Alex Teixeira\n",
      "S. Feghouli\n",
      "M. Götze\n",
      "A. Lacazette\n",
      "Q. Promes\n",
      "Y. Carrasco\n",
      "S. El Shaarawy\n",
      "A. Martial\n",
      "Coutinho\n",
      "X. Shaqiri\n",
      "K. Havertz\n",
      "David Silva\n",
      "H. Lozano\n",
      "D. Tadić\n",
      "T. Müller\n",
      "H. Mkhitaryan\n",
      "L. Insigne\n",
      "K. Gameiro\n",
      "N. Fekir\n",
      "T. Walcott\n",
      "A. Gómez\n",
      "K. De Bruyne\n"
     ]
    }
   ],
   "source": [
    "playerIndex = similarities[0,:].argsort()[-51:][::-1][1:]\n",
    "for i in playerIndex:\n",
    "        print(df22_new.loc[i,'short_name'])"
   ]
  },
  {
   "cell_type": "code",
   "execution_count": 39,
   "id": "5cfd7a0c",
   "metadata": {},
   "outputs": [
    {
     "name": "stdout",
     "output_type": "stream",
     "text": [
      "E. Hazard\n",
      "Neymar Jr\n",
      "M. Salah\n",
      "M. Reus\n",
      "H. Son\n",
      "A. Sánchez\n",
      "C. Vela\n",
      "K. Coman\n",
      "Á. Di María\n",
      "K. Benzema\n"
     ]
    }
   ],
   "source": [
    "index = 0\n",
    "playerIndex = similarities[index,:].argsort()[-11:][::-1][1:]\n",
    "for i in playerIndex:\n",
    "        print(df22_new.loc[i,'short_name'])"
   ]
  },
  {
   "cell_type": "code",
   "execution_count": 40,
   "id": "62ee698b",
   "metadata": {},
   "outputs": [],
   "source": [
    "def normalize(array):\n",
    "    return np.array([round(num, 2) for num in (array - min(array))*100/(max(array)-min(array))])"
   ]
  },
  {
   "cell_type": "code",
   "execution_count": 41,
   "id": "72da8813",
   "metadata": {},
   "outputs": [],
   "source": [
    "norm_simili= normalize(similarities[index,:])"
   ]
  },
  {
   "cell_type": "code",
   "execution_count": null,
   "id": "15bc1207",
   "metadata": {},
   "outputs": [],
   "source": [
    "np.sort(similarities[index,:])[-11:][::-1][1:]"
   ]
  },
  {
   "cell_type": "code",
   "execution_count": null,
   "id": "cda04998",
   "metadata": {},
   "outputs": [],
   "source": [
    "np.sort(norm_simili)[-11:][::-1][1:]"
   ]
  },
  {
   "cell_type": "code",
   "execution_count": null,
   "id": "1e3cab39",
   "metadata": {},
   "outputs": [],
   "source": [
    "dict(zip(similarities[index,:].argsort()[-11:][::-1][1:],\n",
    "    np.sort(norm_simili)[-11:][::-1][1:]))"
   ]
  },
  {
   "cell_type": "code",
   "execution_count": null,
   "id": "32563d5c",
   "metadata": {},
   "outputs": [],
   "source": [
    "# Do not keep the first value as its the player similitude\n",
    "similarities[index,:].argsort()[-11:][::-1][1:]"
   ]
  },
  {
   "cell_type": "code",
   "execution_count": null,
   "id": "773f365c",
   "metadata": {},
   "outputs": [],
   "source": [
    "def cosine_recommendation(player):\n",
    "    index = get_index(player)\n",
    "    norm_sim_array= np.sort(normalize(similarities[index,:]))[-11:][::-1][1:]\n",
    "    index_matrix = similarities[index,:].argsort()[-11:][::-1][1:]\n",
    "    return {'index': index_matrix,'score':norm_sim_array}"
   ]
  },
  {
   "cell_type": "code",
   "execution_count": null,
   "id": "361c93df",
   "metadata": {},
   "outputs": [],
   "source": [
    "df22_new.iloc[3]['short_name']"
   ]
  },
  {
   "cell_type": "code",
   "execution_count": null,
   "id": "86817804",
   "metadata": {},
   "outputs": [],
   "source": [
    "pd.DataFrame(cosine_recommendation('K. Havertz'))"
   ]
  },
  {
   "cell_type": "code",
   "execution_count": null,
   "id": "78a708fe",
   "metadata": {},
   "outputs": [],
   "source": [
    "# input_df = get_data()[22]\n",
    "# df = fe.add_features(input_df)\n",
    "# similarities = si.get_similarity_dataframe(df)"
   ]
  },
  {
   "cell_type": "code",
   "execution_count": null,
   "id": "c445b913",
   "metadata": {},
   "outputs": [],
   "source": [
    "(similarities)"
   ]
  },
  {
   "cell_type": "code",
   "execution_count": null,
   "id": "bbf34fbb",
   "metadata": {},
   "outputs": [],
   "source": [
    "\n",
    "with open(\"../similarity_matrix.pickle\", 'rb') as file:\n",
    "    simili = pickle.load(file)"
   ]
  },
  {
   "cell_type": "code",
   "execution_count": null,
   "id": "fa21332d",
   "metadata": {},
   "outputs": [],
   "source": [
    "len(simili)"
   ]
  },
  {
   "cell_type": "code",
   "execution_count": 34,
   "id": "13b90e0f",
   "metadata": {},
   "outputs": [],
   "source": [
    "res = si.cosine_recommendation('K. Havertz',similarities,df22)"
   ]
  },
  {
   "cell_type": "code",
   "execution_count": null,
   "id": "c89d9742",
   "metadata": {},
   "outputs": [],
   "source": [
    "res.reset_index().to_dict()"
   ]
  },
  {
   "cell_type": "code",
   "execution_count": null,
   "id": "57ea30ba",
   "metadata": {},
   "outputs": [],
   "source": [
    "! pip install ipywidgets"
   ]
  },
  {
   "cell_type": "code",
   "execution_count": 17,
   "id": "7e355f43",
   "metadata": {},
   "outputs": [],
   "source": [
    "from tqdm import tqdm_notebook as tqdm\n",
    "import ipywidgets "
   ]
  },
  {
   "cell_type": "code",
   "execution_count": 16,
   "id": "2700eb2b",
   "metadata": {
    "scrolled": true
   },
   "outputs": [
    {
     "ename": "NameError",
     "evalue": "name 'tqdm' is not defined",
     "output_type": "error",
     "traceback": [
      "\u001b[0;31m---------------------------------------------------------------------------\u001b[0m",
      "\u001b[0;31mNameError\u001b[0m                                 Traceback (most recent call last)",
      "Input \u001b[0;32mIn [16]\u001b[0m, in \u001b[0;36m<module>\u001b[0;34m\u001b[0m\n\u001b[1;32m      1\u001b[0m \u001b[38;5;66;03m# create a dictionary per player\u001b[39;00m\n\u001b[1;32m      3\u001b[0m new_simili \u001b[38;5;241m=\u001b[39m []\n\u001b[0;32m----> 4\u001b[0m \u001b[38;5;28;01mfor\u001b[39;00m i \u001b[38;5;129;01min\u001b[39;00m \u001b[43mtqdm\u001b[49m(\u001b[38;5;28mrange\u001b[39m(\u001b[38;5;241m0\u001b[39m,\u001b[38;5;28mlen\u001b[39m(similarities))):\n\u001b[1;32m      5\u001b[0m \u001b[38;5;66;03m# for i in range(0,2):\u001b[39;00m\n\u001b[1;32m      6\u001b[0m     d \u001b[38;5;241m=\u001b[39m {\n\u001b[1;32m      7\u001b[0m         \u001b[38;5;124m'\u001b[39m\u001b[38;5;124mindex\u001b[39m\u001b[38;5;124m'\u001b[39m:i\n\u001b[1;32m      8\u001b[0m         ,\u001b[38;5;124m'\u001b[39m\u001b[38;5;124mscores\u001b[39m\u001b[38;5;124m'\u001b[39m:np\u001b[38;5;241m.\u001b[39msort(normalize(similarities[i,:]))[::\u001b[38;5;241m-\u001b[39m\u001b[38;5;241m1\u001b[39m][\u001b[38;5;241m1\u001b[39m:]\n\u001b[1;32m      9\u001b[0m         ,\u001b[38;5;124m'\u001b[39m\u001b[38;5;124mreco_player_index\u001b[39m\u001b[38;5;124m'\u001b[39m: similarities[i,:]\u001b[38;5;241m.\u001b[39margsort()[::\u001b[38;5;241m-\u001b[39m\u001b[38;5;241m1\u001b[39m][\u001b[38;5;241m1\u001b[39m:]\n\u001b[1;32m     10\u001b[0m     }\n\u001b[1;32m     11\u001b[0m     new_simili\u001b[38;5;241m.\u001b[39mappend(d)\n",
      "\u001b[0;31mNameError\u001b[0m: name 'tqdm' is not defined"
     ]
    }
   ],
   "source": [
    "# create a dictionary per player\n",
    "\n",
    "new_simili = []\n",
    "for i in tqdm(range(0,len(similarities))):\n",
    "# for i in range(0,2):\n",
    "    d = {\n",
    "        'index':i\n",
    "        ,'scores':np.sort(normalize(similarities[i,:]))[::-1][1:]\n",
    "        ,'reco_player_index': similarities[i,:].argsort()[::-1][1:]\n",
    "    }\n",
    "    new_simili.append(d)\n",
    "new_simili"
   ]
  },
  {
   "cell_type": "code",
   "execution_count": 55,
   "id": "0290c818",
   "metadata": {},
   "outputs": [
    {
     "data": {
      "text/plain": [
       "[{'sofifa_id': 231747, 'score': 97.27, 'index': 0},\n",
       " {'sofifa_id': 212194, 'score': 97.0, 'index': 1},\n",
       " {'sofifa_id': 211110, 'score': 96.95, 'index': 2},\n",
       " {'sofifa_id': 220834, 'score': 96.93, 'index': 3},\n",
       " {'sofifa_id': 209331, 'score': 96.81, 'index': 4},\n",
       " {'sofifa_id': 213345, 'score': 96.75, 'index': 5},\n",
       " {'sofifa_id': 202166, 'score': 96.73, 'index': 6},\n",
       " {'sofifa_id': 222492, 'score': 96.63, 'index': 7},\n",
       " {'sofifa_id': 211300, 'score': 96.6, 'index': 8},\n",
       " {'sofifa_id': 165153, 'score': 96.56, 'index': 9}]"
      ]
     },
     "execution_count": 55,
     "metadata": {},
     "output_type": "execute_result"
    }
   ],
   "source": [
    "## get a list of dictionaries : \n",
    "\n",
    "list_res = []\n",
    "for i in range(0,len(res)):\n",
    "    d = {\n",
    "        'sofifa_id': int(res.iloc[i]['sofifa_id']),\n",
    "        'score': res.iloc[i]['score'],\n",
    "        'index' : i\n",
    "        }\n",
    "    list_res.append(d)\n",
    "list_res"
   ]
  },
  {
   "cell_type": "code",
   "execution_count": 22,
   "id": "d9d5fa99",
   "metadata": {},
   "outputs": [
    {
     "data": {
      "text/plain": [
       "[{'player_index': 0,\n",
       "  'scores': array([98.56, 98.21, 98.01, 97.91, 97.91, 97.88, 97.85, 97.76, 97.63,\n",
       "         97.57]),\n",
       "  'reco_player_index': array([ 75,   3,  17,  79,  13, 405, 141,  64,  33,  11])},\n",
       " {'player_index': 1,\n",
       "  'scores': array([99.14, 98.66, 98.49, 98.39, 98.36, 98.05, 97.92, 97.8 , 97.72,\n",
       "         97.69]),\n",
       "  'reco_player_index': array([ 23,   2,  11,  36,  30,   9,  74, 218,  16,  25])}]"
      ]
     },
     "execution_count": 22,
     "metadata": {},
     "output_type": "execute_result"
    }
   ],
   "source": [
    "sim_array_df =[]\n",
    "for i in range(0,2):\n",
    "    d = {\n",
    "        'player_index':i,\n",
    "        'scores':np.sort(normalize(similarities[i,:]))[-11:][::-1][1:],\n",
    "        'reco_player_index': similarities[i,:].argsort()[-11:][::-1][1:]\n",
    "    }\n",
    "    sim_array_df.append(d)\n",
    "sim_array_df"
   ]
  },
  {
   "cell_type": "code",
   "execution_count": 35,
   "id": "3cbc24ae",
   "metadata": {
    "scrolled": true
   },
   "outputs": [
    {
     "data": {
      "text/html": [
       "<div>\n",
       "<style scoped>\n",
       "    .dataframe tbody tr th:only-of-type {\n",
       "        vertical-align: middle;\n",
       "    }\n",
       "\n",
       "    .dataframe tbody tr th {\n",
       "        vertical-align: top;\n",
       "    }\n",
       "\n",
       "    .dataframe thead th {\n",
       "        text-align: right;\n",
       "    }\n",
       "</style>\n",
       "<table border=\"1\" class=\"dataframe\">\n",
       "  <thead>\n",
       "    <tr style=\"text-align: right;\">\n",
       "      <th></th>\n",
       "      <th>score</th>\n",
       "      <th>sofifa_id</th>\n",
       "    </tr>\n",
       "    <tr>\n",
       "      <th>index_player</th>\n",
       "      <th></th>\n",
       "      <th></th>\n",
       "    </tr>\n",
       "  </thead>\n",
       "  <tbody>\n",
       "    <tr>\n",
       "      <th>6</th>\n",
       "      <td>97.27</td>\n",
       "      <td>231747</td>\n",
       "    </tr>\n",
       "    <tr>\n",
       "      <th>344</th>\n",
       "      <td>97.00</td>\n",
       "      <td>212194</td>\n",
       "    </tr>\n",
       "    <tr>\n",
       "      <th>41</th>\n",
       "      <td>96.95</td>\n",
       "      <td>211110</td>\n",
       "    </tr>\n",
       "    <tr>\n",
       "      <th>182</th>\n",
       "      <td>96.93</td>\n",
       "      <td>220834</td>\n",
       "    </tr>\n",
       "    <tr>\n",
       "      <th>17</th>\n",
       "      <td>96.81</td>\n",
       "      <td>209331</td>\n",
       "    </tr>\n",
       "    <tr>\n",
       "      <th>64</th>\n",
       "      <td>96.75</td>\n",
       "      <td>213345</td>\n",
       "    </tr>\n",
       "    <tr>\n",
       "      <th>429</th>\n",
       "      <td>96.73</td>\n",
       "      <td>202166</td>\n",
       "    </tr>\n",
       "    <tr>\n",
       "      <th>132</th>\n",
       "      <td>96.63</td>\n",
       "      <td>222492</td>\n",
       "    </tr>\n",
       "    <tr>\n",
       "      <th>342</th>\n",
       "      <td>96.60</td>\n",
       "      <td>211300</td>\n",
       "    </tr>\n",
       "    <tr>\n",
       "      <th>11</th>\n",
       "      <td>96.56</td>\n",
       "      <td>165153</td>\n",
       "    </tr>\n",
       "  </tbody>\n",
       "</table>\n",
       "</div>"
      ],
      "text/plain": [
       "              score  sofifa_id\n",
       "index_player                  \n",
       "6             97.27     231747\n",
       "344           97.00     212194\n",
       "41            96.95     211110\n",
       "182           96.93     220834\n",
       "17            96.81     209331\n",
       "64            96.75     213345\n",
       "429           96.73     202166\n",
       "132           96.63     222492\n",
       "342           96.60     211300\n",
       "11            96.56     165153"
      ]
     },
     "execution_count": 35,
     "metadata": {},
     "output_type": "execute_result"
    }
   ],
   "source": [
    "res"
   ]
  },
  {
   "cell_type": "code",
   "execution_count": 29,
   "id": "825a3246",
   "metadata": {
    "scrolled": true
   },
   "outputs": [
    {
     "data": {
      "text/html": [
       "<div>\n",
       "<style scoped>\n",
       "    .dataframe tbody tr th:only-of-type {\n",
       "        vertical-align: middle;\n",
       "    }\n",
       "\n",
       "    .dataframe tbody tr th {\n",
       "        vertical-align: top;\n",
       "    }\n",
       "\n",
       "    .dataframe thead th {\n",
       "        text-align: right;\n",
       "    }\n",
       "</style>\n",
       "<table border=\"1\" class=\"dataframe\">\n",
       "  <thead>\n",
       "    <tr style=\"text-align: right;\">\n",
       "      <th></th>\n",
       "      <th>index</th>\n",
       "      <th>scores</th>\n",
       "      <th>reco_player_index</th>\n",
       "    </tr>\n",
       "  </thead>\n",
       "  <tbody>\n",
       "    <tr>\n",
       "      <th>0</th>\n",
       "      <td>0</td>\n",
       "      <td>[98.56, 98.21, 98.01, 97.91, 97.91, 97.88, 97....</td>\n",
       "      <td>[75, 3, 17, 79, 13, 405, 141, 64, 33, 11]</td>\n",
       "    </tr>\n",
       "    <tr>\n",
       "      <th>1</th>\n",
       "      <td>1</td>\n",
       "      <td>[99.14, 98.66, 98.49, 98.39, 98.36, 98.05, 97....</td>\n",
       "      <td>[23, 2, 11, 36, 30, 9, 74, 218, 16, 25]</td>\n",
       "    </tr>\n",
       "    <tr>\n",
       "      <th>2</th>\n",
       "      <td>2</td>\n",
       "      <td>[98.66, 98.25, 98.06, 97.83, 97.73, 97.58, 97....</td>\n",
       "      <td>[1, 30, 11, 16, 218, 83, 0, 6, 405, 1507]</td>\n",
       "    </tr>\n",
       "    <tr>\n",
       "      <th>3</th>\n",
       "      <td>3</td>\n",
       "      <td>[99.06, 98.4, 98.33, 98.31, 98.19, 98.18, 98.1...</td>\n",
       "      <td>[75, 27, 33, 13, 89, 17, 0, 64, 79, 16]</td>\n",
       "    </tr>\n",
       "    <tr>\n",
       "      <th>4</th>\n",
       "      <td>4</td>\n",
       "      <td>[98.84, 98.51, 98.25, 98.2, 98.01, 97.91, 97.7...</td>\n",
       "      <td>[116, 28, 78, 308, 37, 32, 172, 870, 415, 122]</td>\n",
       "    </tr>\n",
       "  </tbody>\n",
       "</table>\n",
       "</div>"
      ],
      "text/plain": [
       "   index                                             scores  \\\n",
       "0      0  [98.56, 98.21, 98.01, 97.91, 97.91, 97.88, 97....   \n",
       "1      1  [99.14, 98.66, 98.49, 98.39, 98.36, 98.05, 97....   \n",
       "2      2  [98.66, 98.25, 98.06, 97.83, 97.73, 97.58, 97....   \n",
       "3      3  [99.06, 98.4, 98.33, 98.31, 98.19, 98.18, 98.1...   \n",
       "4      4  [98.84, 98.51, 98.25, 98.2, 98.01, 97.91, 97.7...   \n",
       "\n",
       "                                reco_player_index  \n",
       "0       [75, 3, 17, 79, 13, 405, 141, 64, 33, 11]  \n",
       "1         [23, 2, 11, 36, 30, 9, 74, 218, 16, 25]  \n",
       "2       [1, 30, 11, 16, 218, 83, 0, 6, 405, 1507]  \n",
       "3         [75, 27, 33, 13, 89, 17, 0, 64, 79, 16]  \n",
       "4  [116, 28, 78, 308, 37, 32, 172, 870, 415, 122]  "
      ]
     },
     "execution_count": 29,
     "metadata": {},
     "output_type": "execute_result"
    }
   ],
   "source": [
    "sim_df_test = pd.DataFrame.from_dict(new_simili)\n",
    "sim_df_test.head()"
   ]
  },
  {
   "cell_type": "code",
   "execution_count": 58,
   "id": "84499fc8",
   "metadata": {},
   "outputs": [
    {
     "data": {
      "text/plain": [
       "pandas.core.series.Series"
      ]
     },
     "execution_count": 58,
     "metadata": {},
     "output_type": "execute_result"
    }
   ],
   "source": [
    "type(sim_df_test.scores)"
   ]
  },
  {
   "cell_type": "code",
   "execution_count": 25,
   "id": "7ca3096d",
   "metadata": {
    "scrolled": true
   },
   "outputs": [
    {
     "data": {
      "text/plain": [
       "[{'score': 98.56, 'index': 75},\n",
       " {'score': 98.21, 'index': 3},\n",
       " {'score': 98.01, 'index': 17},\n",
       " {'score': 97.91, 'index': 79},\n",
       " {'score': 97.91, 'index': 13},\n",
       " {'score': 97.88, 'index': 405},\n",
       " {'score': 97.85, 'index': 141},\n",
       " {'score': 97.76, 'index': 64},\n",
       " {'score': 97.63, 'index': 33},\n",
       " {'score': 97.57, 'index': 11}]"
      ]
     },
     "execution_count": 25,
     "metadata": {},
     "output_type": "execute_result"
    }
   ],
   "source": [
    "list_res = []\n",
    "# index = ...\n",
    "for i in range(0,10):\n",
    "    d = {\n",
    "        'score': sim_df_test.scores[0][i],\n",
    "        'index' : sim_df_test.reco_player_index[0][i]\n",
    "        }\n",
    "    list_res.append(d)\n",
    "list_res"
   ]
  },
  {
   "cell_type": "code",
   "execution_count": null,
   "id": "4d0d6ed7",
   "metadata": {},
   "outputs": [],
   "source": [
    "def cosine_recommendation(player,sim_mat,df):\n",
    "    index = get_index(df,player)\n",
    "    norm_sim_array= np.sort(normalize(sim_mat[index,:]))[-11:][::-1][1:]\n",
    "    index_matrix = sim_mat[index,:].argsort()[-11:][::-1][1:]\n",
    "    dict_simili = {'index_player': index_matrix,'score':norm_sim_array}\n",
    "    reco_df = pd.DataFrame(dict_simili).set_index('index_player')\n",
    "    reco_df['sofifa_id'] = df.iloc[reco_df.index]['sofifa_id']\n",
    "    return reco_df"
   ]
  },
  {
   "cell_type": "code",
   "execution_count": null,
   "id": "20d43f33",
   "metadata": {},
   "outputs": [],
   "source": []
  },
  {
   "cell_type": "code",
   "execution_count": 77,
   "id": "b9619f2c",
   "metadata": {},
   "outputs": [],
   "source": [
    "# simili_import_df = pd.read_csv(\"../simili_df.csv\",index_col=0)\n",
    "with open(\"../similarity_matrix.pickle\", 'rb') as file:\n",
    "    sim_matrix_df = pickle.load(file)"
   ]
  },
  {
   "cell_type": "code",
   "execution_count": 78,
   "id": "8378e1c1",
   "metadata": {},
   "outputs": [
    {
     "data": {
      "text/html": [
       "<div>\n",
       "<style scoped>\n",
       "    .dataframe tbody tr th:only-of-type {\n",
       "        vertical-align: middle;\n",
       "    }\n",
       "\n",
       "    .dataframe tbody tr th {\n",
       "        vertical-align: top;\n",
       "    }\n",
       "\n",
       "    .dataframe thead th {\n",
       "        text-align: right;\n",
       "    }\n",
       "</style>\n",
       "<table border=\"1\" class=\"dataframe\">\n",
       "  <thead>\n",
       "    <tr style=\"text-align: right;\">\n",
       "      <th></th>\n",
       "      <th>index</th>\n",
       "      <th>scores</th>\n",
       "      <th>reco_player_index</th>\n",
       "    </tr>\n",
       "  </thead>\n",
       "  <tbody>\n",
       "    <tr>\n",
       "      <th>0</th>\n",
       "      <td>0</td>\n",
       "      <td>[98.56, 98.21, 98.01, 97.91, 97.91, 97.88, 97....</td>\n",
       "      <td>[75, 3, 17, 79, 13, 405, 141, 64, 33, 11]</td>\n",
       "    </tr>\n",
       "    <tr>\n",
       "      <th>1</th>\n",
       "      <td>1</td>\n",
       "      <td>[99.14, 98.66, 98.49, 98.39, 98.36, 98.05, 97....</td>\n",
       "      <td>[23, 2, 11, 36, 30, 9, 74, 218, 16, 25]</td>\n",
       "    </tr>\n",
       "    <tr>\n",
       "      <th>2</th>\n",
       "      <td>2</td>\n",
       "      <td>[98.66, 98.25, 98.06, 97.83, 97.73, 97.58, 97....</td>\n",
       "      <td>[1, 30, 11, 16, 218, 83, 0, 6, 405, 1507]</td>\n",
       "    </tr>\n",
       "    <tr>\n",
       "      <th>3</th>\n",
       "      <td>3</td>\n",
       "      <td>[99.06, 98.4, 98.33, 98.31, 98.19, 98.18, 98.1...</td>\n",
       "      <td>[75, 27, 33, 13, 89, 17, 0, 64, 79, 16]</td>\n",
       "    </tr>\n",
       "    <tr>\n",
       "      <th>4</th>\n",
       "      <td>4</td>\n",
       "      <td>[98.84, 98.51, 98.25, 98.2, 98.01, 97.91, 97.7...</td>\n",
       "      <td>[116, 28, 78, 308, 37, 32, 172, 870, 415, 122]</td>\n",
       "    </tr>\n",
       "  </tbody>\n",
       "</table>\n",
       "</div>"
      ],
      "text/plain": [
       "   index                                             scores  \\\n",
       "0      0  [98.56, 98.21, 98.01, 97.91, 97.91, 97.88, 97....   \n",
       "1      1  [99.14, 98.66, 98.49, 98.39, 98.36, 98.05, 97....   \n",
       "2      2  [98.66, 98.25, 98.06, 97.83, 97.73, 97.58, 97....   \n",
       "3      3  [99.06, 98.4, 98.33, 98.31, 98.19, 98.18, 98.1...   \n",
       "4      4  [98.84, 98.51, 98.25, 98.2, 98.01, 97.91, 97.7...   \n",
       "\n",
       "                                reco_player_index  \n",
       "0       [75, 3, 17, 79, 13, 405, 141, 64, 33, 11]  \n",
       "1         [23, 2, 11, 36, 30, 9, 74, 218, 16, 25]  \n",
       "2       [1, 30, 11, 16, 218, 83, 0, 6, 405, 1507]  \n",
       "3         [75, 27, 33, 13, 89, 17, 0, 64, 79, 16]  \n",
       "4  [116, 28, 78, 308, 37, 32, 172, 870, 415, 122]  "
      ]
     },
     "execution_count": 78,
     "metadata": {},
     "output_type": "execute_result"
    }
   ],
   "source": [
    "sim_matrix_df.head()"
   ]
  },
  {
   "cell_type": "code",
   "execution_count": 57,
   "id": "1e52a1c4",
   "metadata": {},
   "outputs": [
    {
     "data": {
      "text/plain": [
       "pandas.core.series.Series"
      ]
     },
     "execution_count": 57,
     "metadata": {},
     "output_type": "execute_result"
    }
   ],
   "source": [
    "type(simili_import_df.scores)"
   ]
  },
  {
   "cell_type": "code",
   "execution_count": 79,
   "id": "3118ab52",
   "metadata": {},
   "outputs": [
    {
     "name": "stdout",
     "output_type": "stream",
     "text": [
      "[99.14 98.66 98.49 98.39 98.36 98.05 97.92 97.8  97.72 97.69]\n"
     ]
    },
    {
     "data": {
      "text/plain": [
       "numpy.ndarray"
      ]
     },
     "execution_count": 79,
     "metadata": {},
     "output_type": "execute_result"
    }
   ],
   "source": [
    "# for i in range(0,3):\n",
    "print(sim_matrix_df.scores[1])\n",
    "type(sim_matrix_df.scores[1])"
   ]
  },
  {
   "cell_type": "code",
   "execution_count": 82,
   "id": "065343e7",
   "metadata": {},
   "outputs": [
    {
     "data": {
      "text/plain": [
       "[{'index_search': 0, 'index': 75, 'score': 98.56},\n",
       " {'index_search': 0, 'index': 3, 'score': 98.21},\n",
       " {'index_search': 0, 'index': 17, 'score': 98.01},\n",
       " {'index_search': 0, 'index': 79, 'score': 97.91},\n",
       " {'index_search': 0, 'index': 13, 'score': 97.91},\n",
       " {'index_search': 0, 'index': 405, 'score': 97.88},\n",
       " {'index_search': 0, 'index': 141, 'score': 97.85},\n",
       " {'index_search': 0, 'index': 64, 'score': 97.76},\n",
       " {'index_search': 0, 'index': 33, 'score': 97.63},\n",
       " {'index_search': 0, 'index': 11, 'score': 97.57}]"
      ]
     },
     "execution_count": 82,
     "metadata": {},
     "output_type": "execute_result"
    }
   ],
   "source": [
    "index_search = 0 \n",
    "\n",
    "list_res=[]\n",
    "for i in range(0,10):\n",
    "    d = {\n",
    "        'index_search' : index_search,\n",
    "        'index' : sim_matrix_df.reco_player_index[0][i],\n",
    "        'score': sim_matrix_df.scores[0][i]\n",
    "        }\n",
    "    list_res.append(d)\n",
    "list_res\n",
    "\n",
    "# dict_simili = {'index_player': index_matrix,'score':norm_sim_array}"
   ]
  },
  {
   "cell_type": "code",
   "execution_count": 83,
   "id": "7c0b201f",
   "metadata": {},
   "outputs": [],
   "source": [
    "my_reco = pd.DataFrame(list_res)"
   ]
  },
  {
   "cell_type": "code",
   "execution_count": 86,
   "id": "f3e71d27",
   "metadata": {},
   "outputs": [
    {
     "data": {
      "text/html": [
       "<div>\n",
       "<style scoped>\n",
       "    .dataframe tbody tr th:only-of-type {\n",
       "        vertical-align: middle;\n",
       "    }\n",
       "\n",
       "    .dataframe tbody tr th {\n",
       "        vertical-align: top;\n",
       "    }\n",
       "\n",
       "    .dataframe thead th {\n",
       "        text-align: right;\n",
       "    }\n",
       "</style>\n",
       "<table border=\"1\" class=\"dataframe\">\n",
       "  <thead>\n",
       "    <tr style=\"text-align: right;\">\n",
       "      <th></th>\n",
       "      <th>index_search</th>\n",
       "      <th>index</th>\n",
       "      <th>score</th>\n",
       "      <th>sofifa_id</th>\n",
       "    </tr>\n",
       "  </thead>\n",
       "  <tbody>\n",
       "    <tr>\n",
       "      <th>0</th>\n",
       "      <td>0</td>\n",
       "      <td>75</td>\n",
       "      <td>98.56</td>\n",
       "      <td>158023</td>\n",
       "    </tr>\n",
       "    <tr>\n",
       "      <th>1</th>\n",
       "      <td>0</td>\n",
       "      <td>3</td>\n",
       "      <td>98.21</td>\n",
       "      <td>188545</td>\n",
       "    </tr>\n",
       "    <tr>\n",
       "      <th>2</th>\n",
       "      <td>0</td>\n",
       "      <td>17</td>\n",
       "      <td>98.01</td>\n",
       "      <td>20801</td>\n",
       "    </tr>\n",
       "    <tr>\n",
       "      <th>3</th>\n",
       "      <td>0</td>\n",
       "      <td>79</td>\n",
       "      <td>97.91</td>\n",
       "      <td>190871</td>\n",
       "    </tr>\n",
       "    <tr>\n",
       "      <th>4</th>\n",
       "      <td>0</td>\n",
       "      <td>13</td>\n",
       "      <td>97.91</td>\n",
       "      <td>192985</td>\n",
       "    </tr>\n",
       "    <tr>\n",
       "      <th>5</th>\n",
       "      <td>0</td>\n",
       "      <td>405</td>\n",
       "      <td>97.88</td>\n",
       "      <td>200389</td>\n",
       "    </tr>\n",
       "    <tr>\n",
       "      <th>6</th>\n",
       "      <td>0</td>\n",
       "      <td>141</td>\n",
       "      <td>97.85</td>\n",
       "      <td>231747</td>\n",
       "    </tr>\n",
       "    <tr>\n",
       "      <th>7</th>\n",
       "      <td>0</td>\n",
       "      <td>64</td>\n",
       "      <td>97.76</td>\n",
       "      <td>167495</td>\n",
       "    </tr>\n",
       "    <tr>\n",
       "      <th>8</th>\n",
       "      <td>0</td>\n",
       "      <td>33</td>\n",
       "      <td>97.63</td>\n",
       "      <td>192448</td>\n",
       "    </tr>\n",
       "    <tr>\n",
       "      <th>9</th>\n",
       "      <td>0</td>\n",
       "      <td>11</td>\n",
       "      <td>97.57</td>\n",
       "      <td>202126</td>\n",
       "    </tr>\n",
       "  </tbody>\n",
       "</table>\n",
       "</div>"
      ],
      "text/plain": [
       "   index_search  index  score  sofifa_id\n",
       "0             0     75  98.56     158023\n",
       "1             0      3  98.21     188545\n",
       "2             0     17  98.01      20801\n",
       "3             0     79  97.91     190871\n",
       "4             0     13  97.91     192985\n",
       "5             0    405  97.88     200389\n",
       "6             0    141  97.85     231747\n",
       "7             0     64  97.76     167495\n",
       "8             0     33  97.63     192448\n",
       "9             0     11  97.57     202126"
      ]
     },
     "execution_count": 86,
     "metadata": {},
     "output_type": "execute_result"
    }
   ],
   "source": [
    "\n",
    "my_reco['sofifa_id']=df22.iloc[my_reco.index]['sofifa_id']\n",
    "my_reco"
   ]
  },
  {
   "cell_type": "code",
   "execution_count": 88,
   "id": "8f05eb3f",
   "metadata": {},
   "outputs": [
    {
     "data": {
      "text/plain": [
       "{'index_search': {0: 0, 1: 0, 2: 0, 3: 0, 4: 0, 5: 0, 6: 0, 7: 0, 8: 0, 9: 0},\n",
       " 'index': {0: 75,\n",
       "  1: 3,\n",
       "  2: 17,\n",
       "  3: 79,\n",
       "  4: 13,\n",
       "  5: 405,\n",
       "  6: 141,\n",
       "  7: 64,\n",
       "  8: 33,\n",
       "  9: 11},\n",
       " 'score': {0: 98.56,\n",
       "  1: 98.21,\n",
       "  2: 98.01,\n",
       "  3: 97.91,\n",
       "  4: 97.91,\n",
       "  5: 97.88,\n",
       "  6: 97.85,\n",
       "  7: 97.76,\n",
       "  8: 97.63,\n",
       "  9: 97.57},\n",
       " 'sofifa_id': {0: 158023,\n",
       "  1: 188545,\n",
       "  2: 20801,\n",
       "  3: 190871,\n",
       "  4: 192985,\n",
       "  5: 200389,\n",
       "  6: 231747,\n",
       "  7: 167495,\n",
       "  8: 192448,\n",
       "  9: 202126}}"
      ]
     },
     "execution_count": 88,
     "metadata": {},
     "output_type": "execute_result"
    }
   ],
   "source": [
    "my_reco.to_dict()"
   ]
  },
  {
   "cell_type": "code",
   "execution_count": 87,
   "id": "3f53678e",
   "metadata": {},
   "outputs": [
    {
     "data": {
      "text/plain": [
       "[{'sofifa_id': 158023, 'score': 98.56, 'index': 0},\n",
       " {'sofifa_id': 188545, 'score': 98.21, 'index': 1},\n",
       " {'sofifa_id': 20801, 'score': 98.01, 'index': 2},\n",
       " {'sofifa_id': 190871, 'score': 97.91, 'index': 3},\n",
       " {'sofifa_id': 192985, 'score': 97.91, 'index': 4},\n",
       " {'sofifa_id': 200389, 'score': 97.88, 'index': 5},\n",
       " {'sofifa_id': 231747, 'score': 97.85, 'index': 6},\n",
       " {'sofifa_id': 167495, 'score': 97.76, 'index': 7},\n",
       " {'sofifa_id': 192448, 'score': 97.63, 'index': 8},\n",
       " {'sofifa_id': 202126, 'score': 97.57, 'index': 9}]"
      ]
     },
     "execution_count": 87,
     "metadata": {},
     "output_type": "execute_result"
    }
   ],
   "source": [
    "list_res = []\n",
    "for i in range(0,len(my_reco)):\n",
    "    d = {\n",
    "        'sofifa_id': int(my_reco.iloc[i]['sofifa_id']),\n",
    "        'score': my_reco.iloc[i]['score'],\n",
    "        'index' : i\n",
    "        }\n",
    "    list_res.append(d)\n",
    "list_res"
   ]
  },
  {
   "cell_type": "code",
   "execution_count": null,
   "id": "74b49b28",
   "metadata": {},
   "outputs": [],
   "source": []
  },
  {
   "cell_type": "code",
   "execution_count": null,
   "id": "e92e698a",
   "metadata": {},
   "outputs": [],
   "source": []
  },
  {
   "cell_type": "code",
   "execution_count": 30,
   "id": "ff8c423b",
   "metadata": {},
   "outputs": [
    {
     "name": "stdout",
     "output_type": "stream",
     "text": [
      "/Users/user/code/riadh-anis/opti_recruit/notebooks\r\n"
     ]
    }
   ],
   "source": [
    "# np.savetxt(\"../simili_test.csv\", similarities, delimiter=\",\")\n",
    "! pwd"
   ]
  },
  {
   "cell_type": "code",
   "execution_count": 32,
   "id": "28629c26",
   "metadata": {},
   "outputs": [],
   "source": [
    "sim_df_test.to_csv('../simili_df.csv')"
   ]
  },
  {
   "cell_type": "code",
   "execution_count": 76,
   "id": "da548e41",
   "metadata": {},
   "outputs": [],
   "source": [
    "with open(r'../similarity_matrix.pickle', 'wb') as file:\n",
    "        pickle.dump(sim_df_test, file)"
   ]
  },
  {
   "cell_type": "code",
   "execution_count": null,
   "id": "826c6b99",
   "metadata": {},
   "outputs": [],
   "source": [
    "for i,v in cosine_recommendation('K. Havertz').items():\n",
    "    print(df22_new.iloc[i]['short_name'], v)"
   ]
  },
  {
   "cell_type": "code",
   "execution_count": 1,
   "id": "8ed9be49",
   "metadata": {},
   "outputs": [
    {
     "name": "stdout",
     "output_type": "stream",
     "text": [
      "[{'sofifa_id': 177683, 'score': 97.88, 'index': 0}, {'sofifa_id': 190871, 'score': 97.48, 'index': 1}, {'sofifa_id': 208722, 'score': 97.36, 'index': 2}, {'sofifa_id': 185122, 'score': 97.1, 'index': 3}, {'sofifa_id': 177003, 'score': 96.87, 'index': 4}, {'sofifa_id': 234742, 'score': 96.82, 'index': 5}, {'sofifa_id': 209658, 'score': 96.81, 'index': 6}, {'sofifa_id': 165153, 'score': 96.7, 'index': 7}, {'sofifa_id': 213565, 'score': 96.68, 'index': 8}, {'sofifa_id': 212218, 'score': 96.67, 'index': 9}, {'sofifa_id': 20801, 'score': 96.61, 'index': 10}, {'sofifa_id': 201535, 'score': 96.59, 'index': 11}, {'sofifa_id': 239085, 'score': 96.58, 'index': 12}, {'sofifa_id': 202556, 'score': 96.5, 'index': 13}, {'sofifa_id': 188567, 'score': 96.49, 'index': 14}, {'sofifa_id': 216393, 'score': 96.37, 'index': 15}, {'sofifa_id': 193041, 'score': 96.05, 'index': 16}, {'sofifa_id': 188350, 'score': 95.97, 'index': 17}, {'sofifa_id': 203376, 'score': 95.8, 'index': 18}, {'sofifa_id': 231747, 'score': 95.62, 'index': 19}, {'sofifa_id': 203551, 'score': 95.61, 'index': 20}, {'sofifa_id': 172522, 'score': 95.58, 'index': 21}, {'sofifa_id': 188545, 'score': 95.52, 'index': 22}, {'sofifa_id': 180206, 'score': 95.46, 'index': 23}, {'sofifa_id': 193080, 'score': 95.45, 'index': 24}, {'sofifa_id': 206517, 'score': 95.43, 'index': 25}, {'sofifa_id': 199304, 'score': 95.41, 'index': 26}, {'sofifa_id': 228941, 'score': 95.29, 'index': 27}, {'sofifa_id': 190286, 'score': 95.26, 'index': 28}, {'sofifa_id': 216352, 'score': 95.15, 'index': 29}, {'sofifa_id': 155862, 'score': 95.15, 'index': 30}, {'sofifa_id': 236401, 'score': 95.14, 'index': 31}, {'sofifa_id': 239053, 'score': 95.12, 'index': 32}, {'sofifa_id': 198176, 'score': 95.1, 'index': 33}, {'sofifa_id': 201095, 'score': 95.08, 'index': 34}, {'sofifa_id': 178005, 'score': 95.04, 'index': 35}, {'sofifa_id': 207410, 'score': 94.97, 'index': 36}, {'sofifa_id': 192985, 'score': 94.71, 'index': 37}, {'sofifa_id': 168435, 'score': 94.7, 'index': 38}, {'sofifa_id': 230271, 'score': 94.67, 'index': 39}, {'sofifa_id': 208330, 'score': 94.63, 'index': 40}, {'sofifa_id': 186153, 'score': 94.62, 'index': 41}, {'sofifa_id': 163587, 'score': 94.53, 'index': 42}, {'sofifa_id': 199434, 'score': 94.42, 'index': 43}, {'sofifa_id': 192984, 'score': 94.36, 'index': 44}, {'sofifa_id': 237383, 'score': 94.29, 'index': 45}, {'sofifa_id': 204838, 'score': 94.26, 'index': 46}, {'sofifa_id': 41236, 'score': 94.24, 'index': 47}, {'sofifa_id': 230375, 'score': 94.17, 'index': 48}, {'sofifa_id': 188943, 'score': 94.09, 'index': 49}, {'sofifa_id': 241464, 'score': 94.07, 'index': 50}, {'sofifa_id': 167948, 'score': 94.05, 'index': 51}, {'sofifa_id': 197445, 'score': 94.0, 'index': 52}, {'sofifa_id': 219733, 'score': 93.98, 'index': 53}, {'sofifa_id': 231281, 'score': 93.89, 'index': 54}, {'sofifa_id': 216547, 'score': 93.82, 'index': 55}, {'sofifa_id': 234906, 'score': 93.8, 'index': 56}, {'sofifa_id': 230430, 'score': 93.72, 'index': 57}, {'sofifa_id': 211241, 'score': 93.65, 'index': 58}, {'sofifa_id': 225850, 'score': 93.64, 'index': 59}, {'sofifa_id': 204639, 'score': 93.57, 'index': 60}, {'sofifa_id': 202126, 'score': 93.56, 'index': 61}, {'sofifa_id': 232488, 'score': 93.41, 'index': 62}, {'sofifa_id': 221697, 'score': 93.4, 'index': 63}, {'sofifa_id': 172871, 'score': 93.39, 'index': 64}, {'sofifa_id': 194765, 'score': 93.37, 'index': 65}, {'sofifa_id': 226790, 'score': 93.37, 'index': 66}, {'sofifa_id': 225193, 'score': 93.36, 'index': 67}, {'sofifa_id': 183711, 'score': 93.33, 'index': 68}, {'sofifa_id': 207863, 'score': 93.32, 'index': 69}, {'sofifa_id': 163489, 'score': 93.25, 'index': 70}, {'sofifa_id': 208618, 'score': 93.19, 'index': 71}, {'sofifa_id': 208165, 'score': 93.18, 'index': 72}, {'sofifa_id': 217196, 'score': 93.16, 'index': 73}, {'sofifa_id': 156519, 'score': 93.12, 'index': 74}, {'sofifa_id': 201305, 'score': 93.06, 'index': 75}, {'sofifa_id': 193348, 'score': 92.99, 'index': 76}, {'sofifa_id': 212462, 'score': 92.88, 'index': 77}, {'sofifa_id': 240709, 'score': 92.87, 'index': 78}, {'sofifa_id': 236792, 'score': 92.86, 'index': 79}, {'sofifa_id': 208670, 'score': 92.85, 'index': 80}, {'sofifa_id': 205175, 'score': 92.81, 'index': 81}, {'sofifa_id': 189596, 'score': 92.78, 'index': 82}, {'sofifa_id': 177509, 'score': 92.74, 'index': 83}, {'sofifa_id': 206113, 'score': 92.73, 'index': 84}, {'sofifa_id': 214988, 'score': 92.67, 'index': 85}, {'sofifa_id': 207494, 'score': 92.63, 'index': 86}, {'sofifa_id': 168651, 'score': 92.62, 'index': 87}, {'sofifa_id': 228618, 'score': 92.59, 'index': 88}, {'sofifa_id': 231677, 'score': 92.56, 'index': 89}, {'sofifa_id': 157481, 'score': 92.55, 'index': 90}, {'sofifa_id': 230498, 'score': 92.52, 'index': 91}, {'sofifa_id': 176919, 'score': 92.51, 'index': 92}, {'sofifa_id': 204485, 'score': 92.44, 'index': 93}, {'sofifa_id': 210008, 'score': 92.44, 'index': 94}, {'sofifa_id': 241461, 'score': 92.4, 'index': 95}, {'sofifa_id': 194404, 'score': 92.32, 'index': 96}, {'sofifa_id': 212442, 'score': 92.31, 'index': 97}, {'sofifa_id': 227928, 'score': 92.23, 'index': 98}, {'sofifa_id': 181872, 'score': 92.22, 'index': 99}]\n"
     ]
    }
   ],
   "source": [
    "import requests\n",
    "\n",
    "opti_api_url = 'http://127.0.0.1:8000/similarities?player_id=158023'\n",
    "\n",
    "response = requests.get(\n",
    "    opti_api_url\n",
    ").json()\n",
    "\n",
    "print(response)"
   ]
  },
  {
   "cell_type": "code",
   "execution_count": null,
   "id": "cb290616",
   "metadata": {},
   "outputs": [],
   "source": []
  },
  {
   "cell_type": "markdown",
   "id": "8e06ada5",
   "metadata": {
    "heading_collapsed": true
   },
   "source": [
    "### KNN Similarity"
   ]
  },
  {
   "cell_type": "code",
   "execution_count": null,
   "id": "5cef1b47",
   "metadata": {
    "hidden": true
   },
   "outputs": [],
   "source": [
    "from sklearn.neighbors import NearestNeighbors\n",
    "\n",
    "reco = NearestNeighbors(n_neighbors=11, algorithm='ball_tree').fit(test_df)\n",
    "\n"
   ]
  },
  {
   "cell_type": "code",
   "execution_count": null,
   "id": "e7418184",
   "metadata": {
    "hidden": true
   },
   "outputs": [],
   "source": [
    "reco.kneighbors(test_df)"
   ]
  },
  {
   "cell_type": "code",
   "execution_count": null,
   "id": "7e60a9c1",
   "metadata": {
    "hidden": true
   },
   "outputs": [],
   "source": [
    "players_recommended_index = reco.kneighbors(test_df)[1]"
   ]
  },
  {
   "cell_type": "code",
   "execution_count": null,
   "id": "32d2c16a",
   "metadata": {
    "hidden": true
   },
   "outputs": [],
   "source": [
    "players_recommended_scores = reco.kneighbors(test_df)[0]"
   ]
  },
  {
   "cell_type": "code",
   "execution_count": null,
   "id": "713832c3",
   "metadata": {
    "hidden": true
   },
   "outputs": [],
   "source": [
    "players_recommended_scores[index][1:]\n"
   ]
  },
  {
   "cell_type": "code",
   "execution_count": null,
   "id": "9bba61dc",
   "metadata": {
    "hidden": true,
    "scrolled": true
   },
   "outputs": [],
   "source": [
    "print(f'Here are 10 players similar to K.Mbappe :' '\\n')\n",
    "for i in players_recommended[index][1:]:\n",
    "    print(df22_new.iloc[i]['short_name'])"
   ]
  },
  {
   "cell_type": "code",
   "execution_count": null,
   "id": "e064b45a",
   "metadata": {
    "hidden": true
   },
   "outputs": [],
   "source": []
  }
 ],
 "metadata": {
  "kernelspec": {
   "display_name": "Python 3 (ipykernel)",
   "language": "python",
   "name": "python3"
  },
  "language_info": {
   "codemirror_mode": {
    "name": "ipython",
    "version": 3
   },
   "file_extension": ".py",
   "mimetype": "text/x-python",
   "name": "python",
   "nbconvert_exporter": "python",
   "pygments_lexer": "ipython3",
   "version": "3.8.12"
  },
  "toc": {
   "base_numbering": 1,
   "nav_menu": {},
   "number_sections": true,
   "sideBar": true,
   "skip_h1_title": false,
   "title_cell": "Table of Contents",
   "title_sidebar": "Contents",
   "toc_cell": false,
   "toc_position": {},
   "toc_section_display": true,
   "toc_window_display": true
  }
 },
 "nbformat": 4,
 "nbformat_minor": 5
}
