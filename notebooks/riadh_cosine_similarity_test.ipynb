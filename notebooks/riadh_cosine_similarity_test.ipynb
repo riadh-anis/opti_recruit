{
 "cells": [
  {
   "cell_type": "markdown",
   "id": "55969c58",
   "metadata": {},
   "source": [
    "### Libraries"
   ]
  },
  {
   "cell_type": "code",
   "execution_count": 1,
   "id": "7687e8bf",
   "metadata": {},
   "outputs": [],
   "source": [
    "%load_ext autoreload\n",
    "%autoreload 2"
   ]
  },
  {
   "cell_type": "code",
   "execution_count": 2,
   "id": "6e0d3fee",
   "metadata": {},
   "outputs": [],
   "source": [
    "import opti_recruit.feature_engineering as fe\n",
    "import opti_recruit.get_team_features as gtf\n",
    "import opti_recruit.similarity as si\n",
    "import pandas as pd\n",
    "from sklearn.pipeline import Pipeline,make_pipeline,make_union\n",
    "from sklearn.compose import make_column_transformer,make_column_selector\n",
    "from sklearn.impute import SimpleImputer\n",
    "from sklearn.preprocessing import StandardScaler,OneHotEncoder\n",
    "from opti_recruit.data import get_data, clean_data\n",
    "import numpy as np"
   ]
  },
  {
   "cell_type": "markdown",
   "id": "b05a5f98",
   "metadata": {},
   "source": [
    "### Loading Data"
   ]
  },
  {
   "cell_type": "code",
   "execution_count": 3,
   "id": "38be72aa",
   "metadata": {},
   "outputs": [
    {
     "data": {
      "text/plain": [
       "dict_keys([17, 18, 19, 20, 21, 22])"
      ]
     },
     "execution_count": 3,
     "metadata": {},
     "output_type": "execute_result"
    }
   ],
   "source": [
    "dfs = get_data()\n",
    "dfs.keys()"
   ]
  },
  {
   "cell_type": "code",
   "execution_count": 4,
   "id": "b052292d",
   "metadata": {},
   "outputs": [],
   "source": [
    "df22 = dfs[22]\n",
    "df21 = dfs[21]"
   ]
  },
  {
   "cell_type": "code",
   "execution_count": 5,
   "id": "47bc7070",
   "metadata": {},
   "outputs": [],
   "source": [
    "df22_new = fe.add_features(df22)\n",
    "df21_new = fe.add_features(df21)"
   ]
  },
  {
   "cell_type": "code",
   "execution_count": 14,
   "id": "df3f4aac",
   "metadata": {},
   "outputs": [
    {
     "data": {
      "text/html": [
       "<div>\n",
       "<style scoped>\n",
       "    .dataframe tbody tr th:only-of-type {\n",
       "        vertical-align: middle;\n",
       "    }\n",
       "\n",
       "    .dataframe tbody tr th {\n",
       "        vertical-align: top;\n",
       "    }\n",
       "\n",
       "    .dataframe thead th {\n",
       "        text-align: right;\n",
       "    }\n",
       "</style>\n",
       "<table border=\"1\" class=\"dataframe\">\n",
       "  <thead>\n",
       "    <tr style=\"text-align: right;\">\n",
       "      <th></th>\n",
       "      <th>sofifa_id</th>\n",
       "      <th>short_name</th>\n",
       "      <th>player_positions</th>\n",
       "      <th>overall</th>\n",
       "      <th>potential</th>\n",
       "      <th>value_eur</th>\n",
       "      <th>wage_eur</th>\n",
       "      <th>age</th>\n",
       "      <th>height_cm</th>\n",
       "      <th>weight_kg</th>\n",
       "      <th>...</th>\n",
       "      <th>defending_standing_tackle</th>\n",
       "      <th>defending_sliding_tackle</th>\n",
       "      <th>is_bench</th>\n",
       "      <th>potential_diff</th>\n",
       "      <th>att_rate</th>\n",
       "      <th>def_rate</th>\n",
       "      <th>age_bin</th>\n",
       "      <th>prefered_pos</th>\n",
       "      <th>player_pos</th>\n",
       "      <th>new_nationality</th>\n",
       "    </tr>\n",
       "  </thead>\n",
       "  <tbody>\n",
       "    <tr>\n",
       "      <th>0</th>\n",
       "      <td>158023</td>\n",
       "      <td>L. Messi</td>\n",
       "      <td>RW, ST, CF</td>\n",
       "      <td>93</td>\n",
       "      <td>93</td>\n",
       "      <td>78000000.0</td>\n",
       "      <td>320000.0</td>\n",
       "      <td>34</td>\n",
       "      <td>170</td>\n",
       "      <td>72</td>\n",
       "      <td>...</td>\n",
       "      <td>35</td>\n",
       "      <td>24</td>\n",
       "      <td>False</td>\n",
       "      <td>0</td>\n",
       "      <td>Medium</td>\n",
       "      <td>Low</td>\n",
       "      <td>30-34</td>\n",
       "      <td>RW</td>\n",
       "      <td>ATT</td>\n",
       "      <td>Argentina</td>\n",
       "    </tr>\n",
       "    <tr>\n",
       "      <th>1</th>\n",
       "      <td>188545</td>\n",
       "      <td>R. Lewandowski</td>\n",
       "      <td>ST</td>\n",
       "      <td>92</td>\n",
       "      <td>92</td>\n",
       "      <td>119500000.0</td>\n",
       "      <td>270000.0</td>\n",
       "      <td>32</td>\n",
       "      <td>185</td>\n",
       "      <td>81</td>\n",
       "      <td>...</td>\n",
       "      <td>42</td>\n",
       "      <td>19</td>\n",
       "      <td>False</td>\n",
       "      <td>0</td>\n",
       "      <td>High</td>\n",
       "      <td>Medium</td>\n",
       "      <td>30-34</td>\n",
       "      <td>ST</td>\n",
       "      <td>ATT</td>\n",
       "      <td>Poland</td>\n",
       "    </tr>\n",
       "    <tr>\n",
       "      <th>2</th>\n",
       "      <td>20801</td>\n",
       "      <td>Cristiano Ronaldo</td>\n",
       "      <td>ST, LW</td>\n",
       "      <td>91</td>\n",
       "      <td>91</td>\n",
       "      <td>45000000.0</td>\n",
       "      <td>270000.0</td>\n",
       "      <td>36</td>\n",
       "      <td>187</td>\n",
       "      <td>83</td>\n",
       "      <td>...</td>\n",
       "      <td>32</td>\n",
       "      <td>24</td>\n",
       "      <td>False</td>\n",
       "      <td>0</td>\n",
       "      <td>High</td>\n",
       "      <td>Low</td>\n",
       "      <td>Over 34</td>\n",
       "      <td>ST</td>\n",
       "      <td>ATT</td>\n",
       "      <td>Portugal</td>\n",
       "    </tr>\n",
       "    <tr>\n",
       "      <th>3</th>\n",
       "      <td>190871</td>\n",
       "      <td>Neymar Jr</td>\n",
       "      <td>LW, CAM</td>\n",
       "      <td>91</td>\n",
       "      <td>91</td>\n",
       "      <td>129000000.0</td>\n",
       "      <td>270000.0</td>\n",
       "      <td>29</td>\n",
       "      <td>175</td>\n",
       "      <td>68</td>\n",
       "      <td>...</td>\n",
       "      <td>32</td>\n",
       "      <td>29</td>\n",
       "      <td>False</td>\n",
       "      <td>0</td>\n",
       "      <td>High</td>\n",
       "      <td>Medium</td>\n",
       "      <td>25-29</td>\n",
       "      <td>LW</td>\n",
       "      <td>ATT</td>\n",
       "      <td>Brazil</td>\n",
       "    </tr>\n",
       "    <tr>\n",
       "      <th>4</th>\n",
       "      <td>192985</td>\n",
       "      <td>K. De Bruyne</td>\n",
       "      <td>CM, CAM</td>\n",
       "      <td>91</td>\n",
       "      <td>91</td>\n",
       "      <td>125500000.0</td>\n",
       "      <td>350000.0</td>\n",
       "      <td>30</td>\n",
       "      <td>181</td>\n",
       "      <td>70</td>\n",
       "      <td>...</td>\n",
       "      <td>65</td>\n",
       "      <td>53</td>\n",
       "      <td>False</td>\n",
       "      <td>0</td>\n",
       "      <td>High</td>\n",
       "      <td>High</td>\n",
       "      <td>30-34</td>\n",
       "      <td>CM</td>\n",
       "      <td>MID</td>\n",
       "      <td>Others</td>\n",
       "    </tr>\n",
       "  </tbody>\n",
       "</table>\n",
       "<p>5 rows × 71 columns</p>\n",
       "</div>"
      ],
      "text/plain": [
       "   sofifa_id         short_name player_positions  overall  potential  \\\n",
       "0     158023           L. Messi       RW, ST, CF       93         93   \n",
       "1     188545     R. Lewandowski               ST       92         92   \n",
       "2      20801  Cristiano Ronaldo           ST, LW       91         91   \n",
       "3     190871          Neymar Jr          LW, CAM       91         91   \n",
       "4     192985       K. De Bruyne          CM, CAM       91         91   \n",
       "\n",
       "     value_eur  wage_eur  age  height_cm  weight_kg  ...  \\\n",
       "0   78000000.0  320000.0   34        170         72  ...   \n",
       "1  119500000.0  270000.0   32        185         81  ...   \n",
       "2   45000000.0  270000.0   36        187         83  ...   \n",
       "3  129000000.0  270000.0   29        175         68  ...   \n",
       "4  125500000.0  350000.0   30        181         70  ...   \n",
       "\n",
       "   defending_standing_tackle defending_sliding_tackle is_bench  \\\n",
       "0                         35                       24    False   \n",
       "1                         42                       19    False   \n",
       "2                         32                       24    False   \n",
       "3                         32                       29    False   \n",
       "4                         65                       53    False   \n",
       "\n",
       "   potential_diff att_rate def_rate  age_bin prefered_pos  player_pos  \\\n",
       "0               0   Medium      Low    30-34           RW         ATT   \n",
       "1               0     High   Medium    30-34           ST         ATT   \n",
       "2               0     High      Low  Over 34           ST         ATT   \n",
       "3               0     High   Medium    25-29           LW         ATT   \n",
       "4               0     High     High    30-34           CM         MID   \n",
       "\n",
       "  new_nationality  \n",
       "0       Argentina  \n",
       "1          Poland  \n",
       "2        Portugal  \n",
       "3          Brazil  \n",
       "4          Others  \n",
       "\n",
       "[5 rows x 71 columns]"
      ]
     },
     "execution_count": 14,
     "metadata": {},
     "output_type": "execute_result"
    }
   ],
   "source": [
    "df22_new.head()"
   ]
  },
  {
   "cell_type": "markdown",
   "id": "367667c3",
   "metadata": {},
   "source": [
    "### Data Preparation"
   ]
  },
  {
   "cell_type": "code",
   "execution_count": 7,
   "id": "8c26eaef",
   "metadata": {
    "collapsed": true
   },
   "outputs": [
    {
     "name": "stdout",
     "output_type": "stream",
     "text": [
      "sofifa_id                  | short_name                 | player_positions           | \n",
      "overall                    | potential                  | value_eur                  | \n",
      "wage_eur                   | age                        | height_cm                  | \n",
      "weight_kg                  | club_team_id               | club_name                  | \n",
      "league_name                | league_level               | club_position              | \n",
      "club_joined                | club_contract_valid_until  | nationality_name           | \n",
      "nation_team_id             | preferred_foot             | weak_foot                  | \n",
      "skill_moves                | international_reputation   | work_rate                  | \n",
      "body_type                  | release_clause_eur         | player_tags                | \n",
      "player_traits              | pace                       | shooting                   | \n",
      "passing                    | dribbling                  | defending                  | \n",
      "physic                     | attacking_crossing         | attacking_finishing        | \n",
      "attacking_heading_accuracy | attacking_short_passing    | attacking_volleys          | \n",
      "skill_dribbling            | skill_curve                | skill_fk_accuracy          | \n",
      "skill_long_passing         | skill_ball_control         | movement_acceleration      | \n",
      "movement_sprint_speed      | movement_agility           | movement_reactions         | \n",
      "movement_balance           | power_shot_power           | power_jumping              | \n",
      "power_stamina              | power_strength             | power_long_shots           | \n",
      "mentality_aggression       | mentality_interceptions    | mentality_positioning      | \n",
      "mentality_vision           | mentality_penalties        | mentality_composure        | \n",
      "defending_marking_awareness | defending_standing_tackle  | defending_sliding_tackle   | \n",
      "is_bench                   | potential_diff             | att_rate                   | \n",
      "def_rate                   | age_bin                    | prefered_pos               | \n",
      "player_pos                 | new_nationality            | "
     ]
    }
   ],
   "source": [
    "for index, col in enumerate(df22_new.columns):\n",
    "    print(f\"{col:<26} | \", end=\"\")\n",
    "    if (index % 3 == 2):\n",
    "        print(\"\\n\", end=\"\")"
   ]
  },
  {
   "cell_type": "code",
   "execution_count": 6,
   "id": "01c6cfc8",
   "metadata": {},
   "outputs": [],
   "source": [
    "to_drop = ['sofifa_id','short_name','player_positions','height_cm','weight_kg','club_team_id'\n",
    "          ,'club_name' ,'league_name','club_position','club_joined','club_contract_valid_until','nationality_name'\n",
    "          ,'nation_team_id','preferred_foot','weak_foot','work_rate','body_type','player_tags','player_traits'\n",
    "          ,'is_bench','potential_diff','age_bin','player_pos','new_nationality'\n",
    "          ,'value_eur','wage_eur','release_clause_eur']\n",
    "#             'age']"
   ]
  },
  {
   "cell_type": "code",
   "execution_count": 7,
   "id": "079e8c56",
   "metadata": {},
   "outputs": [],
   "source": [
    "df22_num = df22_new.drop(to_drop, axis = 1)"
   ]
  },
  {
   "cell_type": "code",
   "execution_count": 114,
   "id": "2ad1562b",
   "metadata": {
    "collapsed": true
   },
   "outputs": [
    {
     "name": "stdout",
     "output_type": "stream",
     "text": [
      "<class 'pandas.core.frame.DataFrame'>\n",
      "RangeIndex: 19239 entries, 0 to 19238\n",
      "Data columns (total 44 columns):\n",
      " #   Column                       Non-Null Count  Dtype   \n",
      "---  ------                       --------------  -----   \n",
      " 0   overall                      19239 non-null  int64   \n",
      " 1   potential                    19239 non-null  int64   \n",
      " 2   age                          19239 non-null  int64   \n",
      " 3   league_level                 19178 non-null  float64 \n",
      " 4   skill_moves                  19239 non-null  int64   \n",
      " 5   international_reputation     19239 non-null  int64   \n",
      " 6   pace                         17107 non-null  float64 \n",
      " 7   shooting                     17107 non-null  float64 \n",
      " 8   passing                      17107 non-null  float64 \n",
      " 9   dribbling                    17107 non-null  float64 \n",
      " 10  defending                    17107 non-null  float64 \n",
      " 11  physic                       17107 non-null  float64 \n",
      " 12  attacking_crossing           19239 non-null  int64   \n",
      " 13  attacking_finishing          19239 non-null  int64   \n",
      " 14  attacking_heading_accuracy   19239 non-null  int64   \n",
      " 15  attacking_short_passing      19239 non-null  int64   \n",
      " 16  attacking_volleys            19239 non-null  int64   \n",
      " 17  skill_dribbling              19239 non-null  int64   \n",
      " 18  skill_curve                  19239 non-null  int64   \n",
      " 19  skill_fk_accuracy            19239 non-null  int64   \n",
      " 20  skill_long_passing           19239 non-null  int64   \n",
      " 21  skill_ball_control           19239 non-null  int64   \n",
      " 22  movement_acceleration        19239 non-null  int64   \n",
      " 23  movement_sprint_speed        19239 non-null  int64   \n",
      " 24  movement_agility             19239 non-null  int64   \n",
      " 25  movement_reactions           19239 non-null  int64   \n",
      " 26  movement_balance             19239 non-null  int64   \n",
      " 27  power_shot_power             19239 non-null  int64   \n",
      " 28  power_jumping                19239 non-null  int64   \n",
      " 29  power_stamina                19239 non-null  int64   \n",
      " 30  power_strength               19239 non-null  int64   \n",
      " 31  power_long_shots             19239 non-null  int64   \n",
      " 32  mentality_aggression         19239 non-null  int64   \n",
      " 33  mentality_interceptions      19239 non-null  int64   \n",
      " 34  mentality_positioning        19239 non-null  int64   \n",
      " 35  mentality_vision             19239 non-null  int64   \n",
      " 36  mentality_penalties          19239 non-null  int64   \n",
      " 37  mentality_composure          19239 non-null  int64   \n",
      " 38  defending_marking_awareness  19239 non-null  int64   \n",
      " 39  defending_standing_tackle    19239 non-null  int64   \n",
      " 40  defending_sliding_tackle     19239 non-null  int64   \n",
      " 41  att_rate                     19239 non-null  object  \n",
      " 42  def_rate                     19239 non-null  object  \n",
      " 43  prefered_pos                 19239 non-null  category\n",
      "dtypes: category(1), float64(7), int64(34), object(2)\n",
      "memory usage: 6.3+ MB\n"
     ]
    }
   ],
   "source": [
    "df22_num.info()"
   ]
  },
  {
   "cell_type": "markdown",
   "id": "1ebb8319",
   "metadata": {},
   "source": [
    "### Pipeline for Numerical DFrame"
   ]
  },
  {
   "cell_type": "code",
   "execution_count": 115,
   "id": "556235ae",
   "metadata": {},
   "outputs": [
    {
     "data": {
      "text/html": [
       "<style>#sk-4fb263ca-a7ba-49df-a37a-07e5533b0d56 {color: black;background-color: white;}#sk-4fb263ca-a7ba-49df-a37a-07e5533b0d56 pre{padding: 0;}#sk-4fb263ca-a7ba-49df-a37a-07e5533b0d56 div.sk-toggleable {background-color: white;}#sk-4fb263ca-a7ba-49df-a37a-07e5533b0d56 label.sk-toggleable__label {cursor: pointer;display: block;width: 100%;margin-bottom: 0;padding: 0.3em;box-sizing: border-box;text-align: center;}#sk-4fb263ca-a7ba-49df-a37a-07e5533b0d56 label.sk-toggleable__label-arrow:before {content: \"▸\";float: left;margin-right: 0.25em;color: #696969;}#sk-4fb263ca-a7ba-49df-a37a-07e5533b0d56 label.sk-toggleable__label-arrow:hover:before {color: black;}#sk-4fb263ca-a7ba-49df-a37a-07e5533b0d56 div.sk-estimator:hover label.sk-toggleable__label-arrow:before {color: black;}#sk-4fb263ca-a7ba-49df-a37a-07e5533b0d56 div.sk-toggleable__content {max-height: 0;max-width: 0;overflow: hidden;text-align: left;background-color: #f0f8ff;}#sk-4fb263ca-a7ba-49df-a37a-07e5533b0d56 div.sk-toggleable__content pre {margin: 0.2em;color: black;border-radius: 0.25em;background-color: #f0f8ff;}#sk-4fb263ca-a7ba-49df-a37a-07e5533b0d56 input.sk-toggleable__control:checked~div.sk-toggleable__content {max-height: 200px;max-width: 100%;overflow: auto;}#sk-4fb263ca-a7ba-49df-a37a-07e5533b0d56 input.sk-toggleable__control:checked~label.sk-toggleable__label-arrow:before {content: \"▾\";}#sk-4fb263ca-a7ba-49df-a37a-07e5533b0d56 div.sk-estimator input.sk-toggleable__control:checked~label.sk-toggleable__label {background-color: #d4ebff;}#sk-4fb263ca-a7ba-49df-a37a-07e5533b0d56 div.sk-label input.sk-toggleable__control:checked~label.sk-toggleable__label {background-color: #d4ebff;}#sk-4fb263ca-a7ba-49df-a37a-07e5533b0d56 input.sk-hidden--visually {border: 0;clip: rect(1px 1px 1px 1px);clip: rect(1px, 1px, 1px, 1px);height: 1px;margin: -1px;overflow: hidden;padding: 0;position: absolute;width: 1px;}#sk-4fb263ca-a7ba-49df-a37a-07e5533b0d56 div.sk-estimator {font-family: monospace;background-color: #f0f8ff;border: 1px dotted black;border-radius: 0.25em;box-sizing: border-box;margin-bottom: 0.5em;}#sk-4fb263ca-a7ba-49df-a37a-07e5533b0d56 div.sk-estimator:hover {background-color: #d4ebff;}#sk-4fb263ca-a7ba-49df-a37a-07e5533b0d56 div.sk-parallel-item::after {content: \"\";width: 100%;border-bottom: 1px solid gray;flex-grow: 1;}#sk-4fb263ca-a7ba-49df-a37a-07e5533b0d56 div.sk-label:hover label.sk-toggleable__label {background-color: #d4ebff;}#sk-4fb263ca-a7ba-49df-a37a-07e5533b0d56 div.sk-serial::before {content: \"\";position: absolute;border-left: 1px solid gray;box-sizing: border-box;top: 2em;bottom: 0;left: 50%;}#sk-4fb263ca-a7ba-49df-a37a-07e5533b0d56 div.sk-serial {display: flex;flex-direction: column;align-items: center;background-color: white;padding-right: 0.2em;padding-left: 0.2em;}#sk-4fb263ca-a7ba-49df-a37a-07e5533b0d56 div.sk-item {z-index: 1;}#sk-4fb263ca-a7ba-49df-a37a-07e5533b0d56 div.sk-parallel {display: flex;align-items: stretch;justify-content: center;background-color: white;}#sk-4fb263ca-a7ba-49df-a37a-07e5533b0d56 div.sk-parallel::before {content: \"\";position: absolute;border-left: 1px solid gray;box-sizing: border-box;top: 2em;bottom: 0;left: 50%;}#sk-4fb263ca-a7ba-49df-a37a-07e5533b0d56 div.sk-parallel-item {display: flex;flex-direction: column;position: relative;background-color: white;}#sk-4fb263ca-a7ba-49df-a37a-07e5533b0d56 div.sk-parallel-item:first-child::after {align-self: flex-end;width: 50%;}#sk-4fb263ca-a7ba-49df-a37a-07e5533b0d56 div.sk-parallel-item:last-child::after {align-self: flex-start;width: 50%;}#sk-4fb263ca-a7ba-49df-a37a-07e5533b0d56 div.sk-parallel-item:only-child::after {width: 0;}#sk-4fb263ca-a7ba-49df-a37a-07e5533b0d56 div.sk-dashed-wrapped {border: 1px dashed gray;margin: 0 0.4em 0.5em 0.4em;box-sizing: border-box;padding-bottom: 0.4em;background-color: white;position: relative;}#sk-4fb263ca-a7ba-49df-a37a-07e5533b0d56 div.sk-label label {font-family: monospace;font-weight: bold;background-color: white;display: inline-block;line-height: 1.2em;}#sk-4fb263ca-a7ba-49df-a37a-07e5533b0d56 div.sk-label-container {position: relative;z-index: 2;text-align: center;}#sk-4fb263ca-a7ba-49df-a37a-07e5533b0d56 div.sk-container {/* jupyter's `normalize.less` sets `[hidden] { display: none; }` but bootstrap.min.css set `[hidden] { display: none !important; }` so we also need the `!important` here to be able to override the default hidden behavior on the sphinx rendered scikit-learn.org. See: https://github.com/scikit-learn/scikit-learn/issues/21755 */display: inline-block !important;position: relative;}#sk-4fb263ca-a7ba-49df-a37a-07e5533b0d56 div.sk-text-repr-fallback {display: none;}</style><div id=\"sk-4fb263ca-a7ba-49df-a37a-07e5533b0d56\" class=\"sk-top-container\"><div class=\"sk-text-repr-fallback\"><pre>ColumnTransformer(remainder=&#x27;passthrough&#x27;,\n",
       "                  transformers=[(&#x27;pipeline&#x27;,\n",
       "                                 Pipeline(steps=[(&#x27;simpleimputer&#x27;,\n",
       "                                                  SimpleImputer()),\n",
       "                                                 (&#x27;standardscaler&#x27;,\n",
       "                                                  StandardScaler())]),\n",
       "                                 &lt;sklearn.compose._column_transformer.make_column_selector object at 0x13908d7c0&gt;),\n",
       "                                (&#x27;onehotencoder&#x27;, OneHotEncoder(),\n",
       "                                 &lt;sklearn.compose._column_transformer.make_column_selector object at 0x13908da00&gt;)])</pre><b>Please rerun this cell to show the HTML repr or trust the notebook.</b></div><div class=\"sk-container\" hidden><div class=\"sk-item sk-dashed-wrapped\"><div class=\"sk-label-container\"><div class=\"sk-label sk-toggleable\"><input class=\"sk-toggleable__control sk-hidden--visually\" id=\"2ef0b61e-9db1-49a3-bc77-f2f253402abf\" type=\"checkbox\" ><label for=\"2ef0b61e-9db1-49a3-bc77-f2f253402abf\" class=\"sk-toggleable__label sk-toggleable__label-arrow\">ColumnTransformer</label><div class=\"sk-toggleable__content\"><pre>ColumnTransformer(remainder=&#x27;passthrough&#x27;,\n",
       "                  transformers=[(&#x27;pipeline&#x27;,\n",
       "                                 Pipeline(steps=[(&#x27;simpleimputer&#x27;,\n",
       "                                                  SimpleImputer()),\n",
       "                                                 (&#x27;standardscaler&#x27;,\n",
       "                                                  StandardScaler())]),\n",
       "                                 &lt;sklearn.compose._column_transformer.make_column_selector object at 0x13908d7c0&gt;),\n",
       "                                (&#x27;onehotencoder&#x27;, OneHotEncoder(),\n",
       "                                 &lt;sklearn.compose._column_transformer.make_column_selector object at 0x13908da00&gt;)])</pre></div></div></div><div class=\"sk-parallel\"><div class=\"sk-parallel-item\"><div class=\"sk-item\"><div class=\"sk-label-container\"><div class=\"sk-label sk-toggleable\"><input class=\"sk-toggleable__control sk-hidden--visually\" id=\"a4f13d21-59e8-4407-9d9e-d692ae2e612a\" type=\"checkbox\" ><label for=\"a4f13d21-59e8-4407-9d9e-d692ae2e612a\" class=\"sk-toggleable__label sk-toggleable__label-arrow\">pipeline</label><div class=\"sk-toggleable__content\"><pre>&lt;sklearn.compose._column_transformer.make_column_selector object at 0x13908d7c0&gt;</pre></div></div></div><div class=\"sk-serial\"><div class=\"sk-item\"><div class=\"sk-serial\"><div class=\"sk-item\"><div class=\"sk-estimator sk-toggleable\"><input class=\"sk-toggleable__control sk-hidden--visually\" id=\"4cbd113e-0e5b-47d3-88e1-383597641f39\" type=\"checkbox\" ><label for=\"4cbd113e-0e5b-47d3-88e1-383597641f39\" class=\"sk-toggleable__label sk-toggleable__label-arrow\">SimpleImputer</label><div class=\"sk-toggleable__content\"><pre>SimpleImputer()</pre></div></div></div><div class=\"sk-item\"><div class=\"sk-estimator sk-toggleable\"><input class=\"sk-toggleable__control sk-hidden--visually\" id=\"207c6e48-b80c-4a61-aba6-34d480439c36\" type=\"checkbox\" ><label for=\"207c6e48-b80c-4a61-aba6-34d480439c36\" class=\"sk-toggleable__label sk-toggleable__label-arrow\">StandardScaler</label><div class=\"sk-toggleable__content\"><pre>StandardScaler()</pre></div></div></div></div></div></div></div></div><div class=\"sk-parallel-item\"><div class=\"sk-item\"><div class=\"sk-label-container\"><div class=\"sk-label sk-toggleable\"><input class=\"sk-toggleable__control sk-hidden--visually\" id=\"c13f0c36-aa45-4054-bf14-999f40901bc5\" type=\"checkbox\" ><label for=\"c13f0c36-aa45-4054-bf14-999f40901bc5\" class=\"sk-toggleable__label sk-toggleable__label-arrow\">onehotencoder</label><div class=\"sk-toggleable__content\"><pre>&lt;sklearn.compose._column_transformer.make_column_selector object at 0x13908da00&gt;</pre></div></div></div><div class=\"sk-serial\"><div class=\"sk-item\"><div class=\"sk-estimator sk-toggleable\"><input class=\"sk-toggleable__control sk-hidden--visually\" id=\"e505037e-161b-4fe8-b25d-1400818d16cc\" type=\"checkbox\" ><label for=\"e505037e-161b-4fe8-b25d-1400818d16cc\" class=\"sk-toggleable__label sk-toggleable__label-arrow\">OneHotEncoder</label><div class=\"sk-toggleable__content\"><pre>OneHotEncoder()</pre></div></div></div></div></div></div><div class=\"sk-parallel-item\"><div class=\"sk-item\"><div class=\"sk-label-container\"><div class=\"sk-label sk-toggleable\"><input class=\"sk-toggleable__control sk-hidden--visually\" id=\"b90b81fa-25b1-46b8-a4e6-36b831f67a42\" type=\"checkbox\" ><label for=\"b90b81fa-25b1-46b8-a4e6-36b831f67a42\" class=\"sk-toggleable__label sk-toggleable__label-arrow\">remainder</label><div class=\"sk-toggleable__content\"><pre></pre></div></div></div><div class=\"sk-serial\"><div class=\"sk-item\"><div class=\"sk-estimator sk-toggleable\"><input class=\"sk-toggleable__control sk-hidden--visually\" id=\"fcaf789a-3d1f-4411-98c3-d299520355d6\" type=\"checkbox\" ><label for=\"fcaf789a-3d1f-4411-98c3-d299520355d6\" class=\"sk-toggleable__label sk-toggleable__label-arrow\">passthrough</label><div class=\"sk-toggleable__content\"><pre>passthrough</pre></div></div></div></div></div></div></div></div></div></div>"
      ],
      "text/plain": [
       "ColumnTransformer(remainder='passthrough',\n",
       "                  transformers=[('pipeline',\n",
       "                                 Pipeline(steps=[('simpleimputer',\n",
       "                                                  SimpleImputer()),\n",
       "                                                 ('standardscaler',\n",
       "                                                  StandardScaler())]),\n",
       "                                 <sklearn.compose._column_transformer.make_column_selector object at 0x13908d7c0>),\n",
       "                                ('onehotencoder', OneHotEncoder(),\n",
       "                                 <sklearn.compose._column_transformer.make_column_selector object at 0x13908da00>)])"
      ]
     },
     "execution_count": 115,
     "metadata": {},
     "output_type": "execute_result"
    }
   ],
   "source": [
    "from sklearn.pipeline import Pipeline,make_pipeline,make_union\n",
    "from sklearn.compose import make_column_transformer,make_column_selector\n",
    "from sklearn.impute import SimpleImputer\n",
    "from sklearn.preprocessing import StandardScaler\n",
    "from sklearn import set_config; set_config(display='diagram')\n",
    "\n",
    "\n",
    "\n",
    "num_transformer = make_pipeline(SimpleImputer(), StandardScaler())\n",
    "num_col = make_column_selector(dtype_include=['float64','int64'])\n",
    "\n",
    "cat_transformer = OneHotEncoder()\n",
    "cat_col = make_column_selector(dtype_include=['object','category'])\n",
    "\n",
    "preproc_basic = make_column_transformer(\n",
    "    (num_transformer, num_col),\n",
    "    (cat_transformer, cat_col),\n",
    "    remainder='passthrough')\n",
    "\n",
    "\n",
    "preproc_full = make_union(preproc_basic)\n",
    "# preproc_full\n"
   ]
  },
  {
   "cell_type": "code",
   "execution_count": 116,
   "id": "2bd7a417",
   "metadata": {},
   "outputs": [],
   "source": [
    "SimpleImputer.get_feature_names_out = (lambda self, names=None: self.feature_names_in_)"
   ]
  },
  {
   "cell_type": "code",
   "execution_count": 117,
   "id": "68c4a3f6",
   "metadata": {},
   "outputs": [],
   "source": [
    "X_train_transformed = preproc_basic.fit_transform(df22_num)\n",
    "\n",
    "\n",
    "test_df = pd.DataFrame(X_train_transformed, \n",
    "             columns=preproc_basic.get_feature_names_out()\n",
    "            )\n"
   ]
  },
  {
   "cell_type": "code",
   "execution_count": 118,
   "id": "6cfec0bf",
   "metadata": {},
   "outputs": [],
   "source": [
    "def get_index(x):\n",
    "    return df22_new[df22_new['short_name']==x].index.tolist()[0]"
   ]
  },
  {
   "cell_type": "code",
   "execution_count": 119,
   "id": "31feb2d4",
   "metadata": {},
   "outputs": [
    {
     "data": {
      "text/plain": [
       "2"
      ]
     },
     "execution_count": 119,
     "metadata": {},
     "output_type": "execute_result"
    }
   ],
   "source": [
    "get_index('Cristiano Ronaldo')"
   ]
  },
  {
   "cell_type": "code",
   "execution_count": 120,
   "id": "22962830",
   "metadata": {},
   "outputs": [
    {
     "data": {
      "text/html": [
       "<div>\n",
       "<style scoped>\n",
       "    .dataframe tbody tr th:only-of-type {\n",
       "        vertical-align: middle;\n",
       "    }\n",
       "\n",
       "    .dataframe tbody tr th {\n",
       "        vertical-align: top;\n",
       "    }\n",
       "\n",
       "    .dataframe thead th {\n",
       "        text-align: right;\n",
       "    }\n",
       "</style>\n",
       "<table border=\"1\" class=\"dataframe\">\n",
       "  <thead>\n",
       "    <tr style=\"text-align: right;\">\n",
       "      <th></th>\n",
       "      <th>pipeline__overall</th>\n",
       "      <th>pipeline__potential</th>\n",
       "      <th>pipeline__age</th>\n",
       "      <th>pipeline__league_level</th>\n",
       "      <th>pipeline__skill_moves</th>\n",
       "      <th>pipeline__international_reputation</th>\n",
       "      <th>pipeline__pace</th>\n",
       "      <th>pipeline__shooting</th>\n",
       "      <th>pipeline__passing</th>\n",
       "      <th>pipeline__dribbling</th>\n",
       "      <th>...</th>\n",
       "      <th>onehotencoder__prefered_pos_GK</th>\n",
       "      <th>onehotencoder__prefered_pos_LB</th>\n",
       "      <th>onehotencoder__prefered_pos_LM</th>\n",
       "      <th>onehotencoder__prefered_pos_LW</th>\n",
       "      <th>onehotencoder__prefered_pos_LWB</th>\n",
       "      <th>onehotencoder__prefered_pos_RB</th>\n",
       "      <th>onehotencoder__prefered_pos_RM</th>\n",
       "      <th>onehotencoder__prefered_pos_RW</th>\n",
       "      <th>onehotencoder__prefered_pos_RWB</th>\n",
       "      <th>onehotencoder__prefered_pos_ST</th>\n",
       "    </tr>\n",
       "  </thead>\n",
       "  <tbody>\n",
       "    <tr>\n",
       "      <th>0</th>\n",
       "      <td>3.957501</td>\n",
       "      <td>3.60178</td>\n",
       "      <td>1.851089</td>\n",
       "      <td>-0.4746</td>\n",
       "      <td>2.146241</td>\n",
       "      <td>10.525295</td>\n",
       "      <td>1.628331</td>\n",
       "      <td>2.992852</td>\n",
       "      <td>3.548135</td>\n",
       "      <td>3.564477</td>\n",
       "      <td>...</td>\n",
       "      <td>0.0</td>\n",
       "      <td>0.0</td>\n",
       "      <td>0.0</td>\n",
       "      <td>0.0</td>\n",
       "      <td>0.0</td>\n",
       "      <td>0.0</td>\n",
       "      <td>0.0</td>\n",
       "      <td>1.0</td>\n",
       "      <td>0.0</td>\n",
       "      <td>0.0</td>\n",
       "    </tr>\n",
       "    <tr>\n",
       "      <th>1</th>\n",
       "      <td>3.812154</td>\n",
       "      <td>3.43747</td>\n",
       "      <td>1.429869</td>\n",
       "      <td>-0.4746</td>\n",
       "      <td>2.146241</td>\n",
       "      <td>10.525295</td>\n",
       "      <td>0.949332</td>\n",
       "      <td>2.992852</td>\n",
       "      <td>2.284233</td>\n",
       "      <td>2.575529</td>\n",
       "      <td>...</td>\n",
       "      <td>0.0</td>\n",
       "      <td>0.0</td>\n",
       "      <td>0.0</td>\n",
       "      <td>0.0</td>\n",
       "      <td>0.0</td>\n",
       "      <td>0.0</td>\n",
       "      <td>0.0</td>\n",
       "      <td>0.0</td>\n",
       "      <td>0.0</td>\n",
       "      <td>1.0</td>\n",
       "    </tr>\n",
       "    <tr>\n",
       "      <th>2</th>\n",
       "      <td>3.666806</td>\n",
       "      <td>3.27316</td>\n",
       "      <td>2.272309</td>\n",
       "      <td>-0.4746</td>\n",
       "      <td>3.448937</td>\n",
       "      <td>10.525295</td>\n",
       "      <td>1.822331</td>\n",
       "      <td>3.143798</td>\n",
       "      <td>2.389558</td>\n",
       "      <td>2.795295</td>\n",
       "      <td>...</td>\n",
       "      <td>0.0</td>\n",
       "      <td>0.0</td>\n",
       "      <td>0.0</td>\n",
       "      <td>0.0</td>\n",
       "      <td>0.0</td>\n",
       "      <td>0.0</td>\n",
       "      <td>0.0</td>\n",
       "      <td>0.0</td>\n",
       "      <td>0.0</td>\n",
       "      <td>1.0</td>\n",
       "    </tr>\n",
       "    <tr>\n",
       "      <th>3</th>\n",
       "      <td>3.666806</td>\n",
       "      <td>3.27316</td>\n",
       "      <td>0.798039</td>\n",
       "      <td>-0.4746</td>\n",
       "      <td>3.448937</td>\n",
       "      <td>10.525295</td>\n",
       "      <td>2.210331</td>\n",
       "      <td>2.313597</td>\n",
       "      <td>3.021509</td>\n",
       "      <td>3.454594</td>\n",
       "      <td>...</td>\n",
       "      <td>0.0</td>\n",
       "      <td>0.0</td>\n",
       "      <td>0.0</td>\n",
       "      <td>1.0</td>\n",
       "      <td>0.0</td>\n",
       "      <td>0.0</td>\n",
       "      <td>0.0</td>\n",
       "      <td>0.0</td>\n",
       "      <td>0.0</td>\n",
       "      <td>0.0</td>\n",
       "    </tr>\n",
       "    <tr>\n",
       "      <th>4</th>\n",
       "      <td>3.666806</td>\n",
       "      <td>3.27316</td>\n",
       "      <td>1.008649</td>\n",
       "      <td>-0.4746</td>\n",
       "      <td>2.146241</td>\n",
       "      <td>7.830520</td>\n",
       "      <td>0.755332</td>\n",
       "      <td>2.540015</td>\n",
       "      <td>3.758786</td>\n",
       "      <td>2.795295</td>\n",
       "      <td>...</td>\n",
       "      <td>0.0</td>\n",
       "      <td>0.0</td>\n",
       "      <td>0.0</td>\n",
       "      <td>0.0</td>\n",
       "      <td>0.0</td>\n",
       "      <td>0.0</td>\n",
       "      <td>0.0</td>\n",
       "      <td>0.0</td>\n",
       "      <td>0.0</td>\n",
       "      <td>0.0</td>\n",
       "    </tr>\n",
       "  </tbody>\n",
       "</table>\n",
       "<p>5 rows × 62 columns</p>\n",
       "</div>"
      ],
      "text/plain": [
       "   pipeline__overall  pipeline__potential  pipeline__age  \\\n",
       "0           3.957501              3.60178       1.851089   \n",
       "1           3.812154              3.43747       1.429869   \n",
       "2           3.666806              3.27316       2.272309   \n",
       "3           3.666806              3.27316       0.798039   \n",
       "4           3.666806              3.27316       1.008649   \n",
       "\n",
       "   pipeline__league_level  pipeline__skill_moves  \\\n",
       "0                 -0.4746               2.146241   \n",
       "1                 -0.4746               2.146241   \n",
       "2                 -0.4746               3.448937   \n",
       "3                 -0.4746               3.448937   \n",
       "4                 -0.4746               2.146241   \n",
       "\n",
       "   pipeline__international_reputation  pipeline__pace  pipeline__shooting  \\\n",
       "0                           10.525295        1.628331            2.992852   \n",
       "1                           10.525295        0.949332            2.992852   \n",
       "2                           10.525295        1.822331            3.143798   \n",
       "3                           10.525295        2.210331            2.313597   \n",
       "4                            7.830520        0.755332            2.540015   \n",
       "\n",
       "   pipeline__passing  pipeline__dribbling  ...  \\\n",
       "0           3.548135             3.564477  ...   \n",
       "1           2.284233             2.575529  ...   \n",
       "2           2.389558             2.795295  ...   \n",
       "3           3.021509             3.454594  ...   \n",
       "4           3.758786             2.795295  ...   \n",
       "\n",
       "   onehotencoder__prefered_pos_GK  onehotencoder__prefered_pos_LB  \\\n",
       "0                             0.0                             0.0   \n",
       "1                             0.0                             0.0   \n",
       "2                             0.0                             0.0   \n",
       "3                             0.0                             0.0   \n",
       "4                             0.0                             0.0   \n",
       "\n",
       "   onehotencoder__prefered_pos_LM  onehotencoder__prefered_pos_LW  \\\n",
       "0                             0.0                             0.0   \n",
       "1                             0.0                             0.0   \n",
       "2                             0.0                             0.0   \n",
       "3                             0.0                             1.0   \n",
       "4                             0.0                             0.0   \n",
       "\n",
       "   onehotencoder__prefered_pos_LWB  onehotencoder__prefered_pos_RB  \\\n",
       "0                              0.0                             0.0   \n",
       "1                              0.0                             0.0   \n",
       "2                              0.0                             0.0   \n",
       "3                              0.0                             0.0   \n",
       "4                              0.0                             0.0   \n",
       "\n",
       "   onehotencoder__prefered_pos_RM  onehotencoder__prefered_pos_RW  \\\n",
       "0                             0.0                             1.0   \n",
       "1                             0.0                             0.0   \n",
       "2                             0.0                             0.0   \n",
       "3                             0.0                             0.0   \n",
       "4                             0.0                             0.0   \n",
       "\n",
       "   onehotencoder__prefered_pos_RWB  onehotencoder__prefered_pos_ST  \n",
       "0                              0.0                             0.0  \n",
       "1                              0.0                             1.0  \n",
       "2                              0.0                             1.0  \n",
       "3                              0.0                             0.0  \n",
       "4                              0.0                             0.0  \n",
       "\n",
       "[5 rows x 62 columns]"
      ]
     },
     "execution_count": 120,
     "metadata": {},
     "output_type": "execute_result"
    }
   ],
   "source": [
    "test_df.head()"
   ]
  },
  {
   "cell_type": "markdown",
   "id": "41452121",
   "metadata": {},
   "source": [
    "### Cosine Similarity"
   ]
  },
  {
   "cell_type": "markdown",
   "id": "ed73764b",
   "metadata": {},
   "source": [
    "#### Cosine Similarity Matrix "
   ]
  },
  {
   "cell_type": "code",
   "execution_count": 174,
   "id": "7de62f03",
   "metadata": {},
   "outputs": [],
   "source": [
    "from sklearn.metrics.pairwise import cosine_similarity \n",
    "similarities = cosine_similarity(test_df)"
   ]
  },
  {
   "cell_type": "markdown",
   "id": "0e83871e",
   "metadata": {},
   "source": [
    "#### Cricri "
   ]
  },
  {
   "cell_type": "code",
   "execution_count": 122,
   "id": "97d5f66a",
   "metadata": {
    "scrolled": true
   },
   "outputs": [
    {
     "name": "stdout",
     "output_type": "stream",
     "text": [
      "R. Lewandowski\n",
      "S. Agüero\n",
      "K. Benzema\n",
      "S. Mané\n",
      "A. Lacazette\n",
      "A. Griezmann\n",
      "L. Messi\n",
      "K. Mbappé\n",
      "A. Sánchez\n",
      "Alexandre Pato\n",
      "C. Immobile\n",
      "L. Suárez\n",
      "Rodrigo\n",
      "P. Aubameyang\n",
      "M. Salah\n"
     ]
    }
   ],
   "source": [
    "playerIndex = similarities[2,:].argsort()[-16:][::-1][1:]\n",
    "for i in playerIndex:\n",
    "        print(df22_new.loc[i,'short_name'])"
   ]
  },
  {
   "cell_type": "code",
   "execution_count": 166,
   "id": "5cfd7a0c",
   "metadata": {},
   "outputs": [
    {
     "name": "stdout",
     "output_type": "stream",
     "text": [
      "E. Hazard\n",
      "Neymar Jr\n",
      "M. Salah\n",
      "M. Reus\n",
      "H. Son\n",
      "A. Sánchez\n",
      "C. Vela\n",
      "K. Coman\n",
      "Á. Di María\n",
      "K. Benzema\n"
     ]
    }
   ],
   "source": [
    "index = get_index('L. Messi')\n",
    "playerIndex = similarities[index,:].argsort()[-11:][::-1][1:]\n",
    "for i in playerIndex:\n",
    "        print(df22_new.loc[i,'short_name'])"
   ]
  },
  {
   "cell_type": "code",
   "execution_count": 144,
   "id": "62ee698b",
   "metadata": {},
   "outputs": [],
   "source": [
    "def normalize(array):\n",
    "    return np.array([round(num, 2) for num in (array - min(array))*100/(max(array)-min(array))])"
   ]
  },
  {
   "cell_type": "code",
   "execution_count": 180,
   "id": "72da8813",
   "metadata": {},
   "outputs": [],
   "source": [
    "norm_simili= normalize(similarities[index,:])"
   ]
  },
  {
   "cell_type": "code",
   "execution_count": 179,
   "id": "15bc1207",
   "metadata": {},
   "outputs": [
    {
     "data": {
      "text/plain": [
       "array([0.97480236, 0.96869053, 0.96535517, 0.963597  , 0.96356528,\n",
       "       0.96308683, 0.96255531, 0.96085239, 0.95864721, 0.95754507])"
      ]
     },
     "execution_count": 179,
     "metadata": {},
     "output_type": "execute_result"
    }
   ],
   "source": [
    "np.sort(similarities[index,:])[-11:][::-1][1:]"
   ]
  },
  {
   "cell_type": "code",
   "execution_count": 181,
   "id": "cda04998",
   "metadata": {},
   "outputs": [
    {
     "data": {
      "text/plain": [
       "array([98.56, 98.21, 98.01, 97.91, 97.91, 97.88, 97.85, 97.76, 97.63,\n",
       "       97.57])"
      ]
     },
     "execution_count": 181,
     "metadata": {},
     "output_type": "execute_result"
    }
   ],
   "source": [
    "np.sort(norm_simili)[-11:][::-1][1:]"
   ]
  },
  {
   "cell_type": "code",
   "execution_count": 184,
   "id": "1e3cab39",
   "metadata": {},
   "outputs": [
    {
     "data": {
      "text/plain": [
       "{75: 98.56,\n",
       " 3: 98.21,\n",
       " 17: 98.01,\n",
       " 79: 97.91,\n",
       " 13: 97.91,\n",
       " 405: 97.88,\n",
       " 141: 97.85,\n",
       " 64: 97.76,\n",
       " 33: 97.63,\n",
       " 11: 97.57}"
      ]
     },
     "execution_count": 184,
     "metadata": {},
     "output_type": "execute_result"
    }
   ],
   "source": [
    "dict(zip(similarities[index,:].argsort()[-11:][::-1][1:],\n",
    "    np.sort(norm_simili)[-11:][::-1][1:]))"
   ]
  },
  {
   "cell_type": "code",
   "execution_count": 178,
   "id": "32563d5c",
   "metadata": {},
   "outputs": [
    {
     "data": {
      "text/plain": [
       "array([ 75,   3,  17,  79,  13, 405, 141,  64,  33,  11])"
      ]
     },
     "execution_count": 178,
     "metadata": {},
     "output_type": "execute_result"
    }
   ],
   "source": [
    "# Do not keep the first value as its the player similitude\n",
    "similarities[index,:].argsort()[-11:][::-1][1:]"
   ]
  },
  {
   "cell_type": "code",
   "execution_count": 211,
   "id": "773f365c",
   "metadata": {},
   "outputs": [],
   "source": [
    "def cosine_recommendation(player):\n",
    "    index = get_index(player)\n",
    "    norm_sim_array= np.sort(normalize(similarities[index,:]))[-11:][::-1][1:]\n",
    "    index_matrix = similarities[index,:].argsort()[-11:][::-1][1:]\n",
    "    return {'index': index_matrix,'score':norm_sim_array}"
   ]
  },
  {
   "cell_type": "code",
   "execution_count": 151,
   "id": "361c93df",
   "metadata": {},
   "outputs": [
    {
     "data": {
      "text/plain": [
       "'Neymar Jr'"
      ]
     },
     "execution_count": 151,
     "metadata": {},
     "output_type": "execute_result"
    }
   ],
   "source": [
    "df22_new.iloc[3]['short_name']"
   ]
  },
  {
   "cell_type": "code",
   "execution_count": 214,
   "id": "86817804",
   "metadata": {},
   "outputs": [
    {
     "data": {
      "text/html": [
       "<div>\n",
       "<style scoped>\n",
       "    .dataframe tbody tr th:only-of-type {\n",
       "        vertical-align: middle;\n",
       "    }\n",
       "\n",
       "    .dataframe tbody tr th {\n",
       "        vertical-align: top;\n",
       "    }\n",
       "\n",
       "    .dataframe thead th {\n",
       "        text-align: right;\n",
       "    }\n",
       "</style>\n",
       "<table border=\"1\" class=\"dataframe\">\n",
       "  <thead>\n",
       "    <tr style=\"text-align: right;\">\n",
       "      <th></th>\n",
       "      <th>index</th>\n",
       "      <th>score</th>\n",
       "    </tr>\n",
       "  </thead>\n",
       "  <tbody>\n",
       "    <tr>\n",
       "      <th>0</th>\n",
       "      <td>6</td>\n",
       "      <td>97.27</td>\n",
       "    </tr>\n",
       "    <tr>\n",
       "      <th>1</th>\n",
       "      <td>344</td>\n",
       "      <td>97.00</td>\n",
       "    </tr>\n",
       "    <tr>\n",
       "      <th>2</th>\n",
       "      <td>41</td>\n",
       "      <td>96.95</td>\n",
       "    </tr>\n",
       "    <tr>\n",
       "      <th>3</th>\n",
       "      <td>182</td>\n",
       "      <td>96.93</td>\n",
       "    </tr>\n",
       "    <tr>\n",
       "      <th>4</th>\n",
       "      <td>17</td>\n",
       "      <td>96.81</td>\n",
       "    </tr>\n",
       "    <tr>\n",
       "      <th>5</th>\n",
       "      <td>64</td>\n",
       "      <td>96.75</td>\n",
       "    </tr>\n",
       "    <tr>\n",
       "      <th>6</th>\n",
       "      <td>429</td>\n",
       "      <td>96.73</td>\n",
       "    </tr>\n",
       "    <tr>\n",
       "      <th>7</th>\n",
       "      <td>132</td>\n",
       "      <td>96.63</td>\n",
       "    </tr>\n",
       "    <tr>\n",
       "      <th>8</th>\n",
       "      <td>342</td>\n",
       "      <td>96.60</td>\n",
       "    </tr>\n",
       "    <tr>\n",
       "      <th>9</th>\n",
       "      <td>11</td>\n",
       "      <td>96.56</td>\n",
       "    </tr>\n",
       "  </tbody>\n",
       "</table>\n",
       "</div>"
      ],
      "text/plain": [
       "   index  score\n",
       "0      6  97.27\n",
       "1    344  97.00\n",
       "2     41  96.95\n",
       "3    182  96.93\n",
       "4     17  96.81\n",
       "5     64  96.75\n",
       "6    429  96.73\n",
       "7    132  96.63\n",
       "8    342  96.60\n",
       "9     11  96.56"
      ]
     },
     "execution_count": 214,
     "metadata": {},
     "output_type": "execute_result"
    }
   ],
   "source": [
    "pd.DataFrame(cosine_recommendation('K. Havertz'))"
   ]
  },
  {
   "cell_type": "code",
   "execution_count": 215,
   "id": "bbf34fbb",
   "metadata": {},
   "outputs": [],
   "source": [
    "# def cosine_recommendation(df,player):\n",
    "#     index = get_index(df,player)\n",
    "#     similarities = get_similarity_dataframe(df)\n",
    "#     norm_sim_array= np.sort(normalize(similarities[index,:]))[-11:][::-1][1:]\n",
    "#     index_matrix = similarities[index,:].argsort()[-11:][::-1][1:]\n",
    "#     dict_simili = {'index': index_matrix,'score':norm_sim_array}\n",
    "#     reco_df = pd.DataFrame(dict_simili)\n",
    "#     reco_df['Name'] = df.iloc[reco_df.index]['short_name']\n",
    "#     return reco_df"
   ]
  },
  {
   "cell_type": "code",
   "execution_count": 9,
   "id": "13b90e0f",
   "metadata": {},
   "outputs": [],
   "source": [
    "res = si.cosine_recommendation('K. Havertz')"
   ]
  },
  {
   "cell_type": "code",
   "execution_count": 13,
   "id": "c89d9742",
   "metadata": {},
   "outputs": [
    {
     "data": {
      "text/plain": [
       "{'index_player': {0: 6,\n",
       "  1: 344,\n",
       "  2: 41,\n",
       "  3: 182,\n",
       "  4: 17,\n",
       "  5: 64,\n",
       "  6: 429,\n",
       "  7: 132,\n",
       "  8: 342,\n",
       "  9: 11},\n",
       " 'score': {0: 97.27,\n",
       "  1: 97.0,\n",
       "  2: 96.95,\n",
       "  3: 96.93,\n",
       "  4: 96.81,\n",
       "  5: 96.75,\n",
       "  6: 96.73,\n",
       "  7: 96.63,\n",
       "  8: 96.6,\n",
       "  9: 96.56},\n",
       " 'sofifa_id': {0: 231747,\n",
       "  1: 212194,\n",
       "  2: 211110,\n",
       "  3: 220834,\n",
       "  4: 209331,\n",
       "  5: 213345,\n",
       "  6: 202166,\n",
       "  7: 222492,\n",
       "  8: 211300,\n",
       "  9: 165153}}"
      ]
     },
     "execution_count": 13,
     "metadata": {},
     "output_type": "execute_result"
    }
   ],
   "source": [
    "res.reset_index().to_dict()"
   ]
  },
  {
   "cell_type": "code",
   "execution_count": 204,
   "id": "826c6b99",
   "metadata": {
    "scrolled": false
   },
   "outputs": [
    {
     "name": "stdout",
     "output_type": "stream",
     "text": [
      "K. Mbappé 97.27\n",
      "J. Brandt 97.0\n",
      "P. Dybala 96.95\n",
      "Marco Asensio 96.93\n",
      "M. Salah 96.81\n",
      "K. Coman 96.75\n",
      "J. Draxler 96.73\n",
      "L. Sané 96.63\n",
      "A. Martial 96.6\n",
      "K. Benzema 96.56\n"
     ]
    }
   ],
   "source": [
    "for i,v in cosine_recommendation('K. Havertz').items():\n",
    "    print(df22_new.iloc[i]['short_name'], v)"
   ]
  },
  {
   "cell_type": "markdown",
   "id": "8e06ada5",
   "metadata": {},
   "source": [
    "### KNN Similarity"
   ]
  },
  {
   "cell_type": "code",
   "execution_count": 185,
   "id": "5cef1b47",
   "metadata": {},
   "outputs": [],
   "source": [
    "from sklearn.neighbors import NearestNeighbors\n",
    "\n",
    "reco = NearestNeighbors(n_neighbors=11, algorithm='ball_tree').fit(test_df)\n",
    "\n"
   ]
  },
  {
   "cell_type": "code",
   "execution_count": 140,
   "id": "e7418184",
   "metadata": {
    "collapsed": true
   },
   "outputs": [
    {
     "data": {
      "text/plain": [
       "(array([[0.        , 4.37251756, 5.09786212, ..., 5.76909196, 5.92727728,\n",
       "         5.94435066],\n",
       "        [0.        , 2.81167229, 3.64997796, ..., 4.96830537, 5.0442159 ,\n",
       "         5.13351665],\n",
       "        [0.        , 3.64997796, 4.99744547, ..., 5.31557724, 5.35417191,\n",
       "         5.43989973],\n",
       "        ...,\n",
       "        [0.        , 1.5152964 , 1.59202776, ..., 2.19327266, 2.22910393,\n",
       "         2.23736362],\n",
       "        [0.        , 1.97220919, 2.22265254, ..., 2.91015225, 2.91222025,\n",
       "         2.93074848],\n",
       "        [0.        , 2.77200417, 2.79294138, ..., 3.01583612, 3.04754987,\n",
       "         3.07467065]]),\n",
       " array([[    0,     3,     2, ...,     1,    83,    79],\n",
       "        [    1,    23,     2, ...,    83,    17,    25],\n",
       "        [    2,     1,    11, ...,     3,    97,    83],\n",
       "        ...,\n",
       "        [19236, 19158, 19226, ..., 19207, 19208, 19234],\n",
       "        [19237, 19041, 19056, ..., 19014, 18923, 18801],\n",
       "        [19238, 19110, 19217, ..., 18852, 18490, 18991]]))"
      ]
     },
     "execution_count": 140,
     "metadata": {},
     "output_type": "execute_result"
    }
   ],
   "source": [
    "reco.kneighbors(test_df)"
   ]
  },
  {
   "cell_type": "code",
   "execution_count": 186,
   "id": "7e60a9c1",
   "metadata": {},
   "outputs": [],
   "source": [
    "players_recommended_index = reco.kneighbors(test_df)[1]"
   ]
  },
  {
   "cell_type": "code",
   "execution_count": 187,
   "id": "32d2c16a",
   "metadata": {},
   "outputs": [],
   "source": [
    "players_recommended_scores = reco.kneighbors(test_df)[0]"
   ]
  },
  {
   "cell_type": "code",
   "execution_count": 201,
   "id": "713832c3",
   "metadata": {},
   "outputs": [
    {
     "data": {
      "text/plain": [
       "array([4.37251756, 5.09786212, 5.31253871, 5.40636048, 5.57693262,\n",
       "       5.737519  , 5.74582279, 5.76909196, 5.92727728, 5.94435066])"
      ]
     },
     "execution_count": 201,
     "metadata": {},
     "output_type": "execute_result"
    }
   ],
   "source": [
    "players_recommended_scores[index][1:]\n"
   ]
  },
  {
   "cell_type": "code",
   "execution_count": 142,
   "id": "9bba61dc",
   "metadata": {
    "scrolled": true
   },
   "outputs": [
    {
     "name": "stdout",
     "output_type": "stream",
     "text": [
      "Here are 10 players similar to K.Mbappe :\n",
      "\n",
      "Neymar Jr\n",
      "Cristiano Ronaldo\n",
      "M. Salah\n",
      "E. Hazard\n",
      "H. Son\n",
      "K. Benzema\n",
      "Á. Di María\n",
      "R. Lewandowski\n",
      "A. Griezmann\n",
      "M. Reus\n"
     ]
    }
   ],
   "source": [
    "print(f'Here are 10 players similar to K.Mbappe :' '\\n')\n",
    "for i in players_recommended[index][1:]:\n",
    "    print(df22_new.iloc[i]['short_name'])"
   ]
  },
  {
   "cell_type": "code",
   "execution_count": null,
   "id": "e064b45a",
   "metadata": {},
   "outputs": [],
   "source": []
  }
 ],
 "metadata": {
  "kernelspec": {
   "display_name": "Python 3 (ipykernel)",
   "language": "python",
   "name": "python3"
  },
  "language_info": {
   "codemirror_mode": {
    "name": "ipython",
    "version": 3
   },
   "file_extension": ".py",
   "mimetype": "text/x-python",
   "name": "python",
   "nbconvert_exporter": "python",
   "pygments_lexer": "ipython3",
   "version": "3.8.12"
  },
  "toc": {
   "base_numbering": 1,
   "nav_menu": {},
   "number_sections": true,
   "sideBar": true,
   "skip_h1_title": false,
   "title_cell": "Table of Contents",
   "title_sidebar": "Contents",
   "toc_cell": false,
   "toc_position": {},
   "toc_section_display": true,
   "toc_window_display": true
  }
 },
 "nbformat": 4,
 "nbformat_minor": 5
}
