{
 "cells": [
  {
   "cell_type": "markdown",
   "id": "368a0864",
   "metadata": {},
   "source": [
    "## Filter our dataframe with numerical features only "
   ]
  },
  {
   "cell_type": "markdown",
   "id": "7213a5a3",
   "metadata": {},
   "source": [
    "### Libraries"
   ]
  },
  {
   "cell_type": "code",
   "execution_count": 3,
   "id": "fa3c06bb",
   "metadata": {},
   "outputs": [],
   "source": [
    "%matplotlib inline\n",
    "\n",
    "import numpy as np\n",
    "import pandas as pd\n",
    "import matplotlib.pyplot as plt\n",
    "import seaborn as sns\n",
    "\n",
    "sns.set_theme()\n",
    "\n",
    "from sklearn import set_config; set_config(display='diagram')\n",
    "from sklearn.pipeline import make_pipeline\n",
    "from sklearn.pipeline import make_union\n",
    "from sklearn.compose import make_column_transformer, make_column_selector,ColumnTransformer\n",
    "from sklearn.pipeline import FeatureUnion\n",
    "from sklearn.preprocessing import FunctionTransformer\n",
    "from sklearn.preprocessing import OneHotEncoder,StandardScaler,MinMaxScaler,RobustScaler\n",
    "from sklearn.impute import SimpleImputer\n",
    "from sklearn.pipeline import Pipeline\n",
    "from sklearn.linear_model import LinearRegression, Lasso\n",
    "from sklearn.model_selection import train_test_split, cross_validate\n",
    "from functools import reduce\n"
   ]
  },
  {
   "cell_type": "markdown",
   "id": "32da5d77",
   "metadata": {},
   "source": [
    "### Load Data"
   ]
  },
  {
   "cell_type": "code",
   "execution_count": null,
   "id": "83fc0d00",
   "metadata": {},
   "outputs": [],
   "source": []
  },
  {
   "cell_type": "markdown",
   "id": "7643252d",
   "metadata": {},
   "source": [
    "## Scale this numerical dataframe"
   ]
  },
  {
   "cell_type": "markdown",
   "id": "26805fe4",
   "metadata": {},
   "source": [
    "## Create a method that return the index of a given player from the name"
   ]
  },
  {
   "cell_type": "markdown",
   "id": "f7dbc27a",
   "metadata": {},
   "source": [
    "## Create another method that computes the cosine_similarity matrix"
   ]
  },
  {
   "cell_type": "markdown",
   "id": "93f5b4b3",
   "metadata": {},
   "source": [
    "## Combine the previous two methods in one method"
   ]
  },
  {
   "cell_type": "markdown",
   "id": "3cd521ba",
   "metadata": {},
   "source": [
    "- cosine_recommendation(name) so that :\n",
    "- get index of the player name\n",
    "- call the cosine matrix\n",
    "- extract the similarities of our index"
   ]
  },
  {
   "cell_type": "markdown",
   "id": "eb588439",
   "metadata": {},
   "source": [
    "## Work from there to extract the similar player "
   ]
  },
  {
   "cell_type": "code",
   "execution_count": null,
   "id": "d0110a49",
   "metadata": {},
   "outputs": [],
   "source": []
  }
 ],
 "metadata": {
  "kernelspec": {
   "display_name": "Python 3 (ipykernel)",
   "language": "python",
   "name": "python3"
  },
  "language_info": {
   "codemirror_mode": {
    "name": "ipython",
    "version": 3
   },
   "file_extension": ".py",
   "mimetype": "text/x-python",
   "name": "python",
   "nbconvert_exporter": "python",
   "pygments_lexer": "ipython3",
   "version": "3.8.12"
  },
  "toc": {
   "base_numbering": 1,
   "nav_menu": {},
   "number_sections": true,
   "sideBar": true,
   "skip_h1_title": false,
   "title_cell": "Table of Contents",
   "title_sidebar": "Contents",
   "toc_cell": false,
   "toc_position": {
    "height": "calc(100% - 180px)",
    "left": "10px",
    "top": "150px",
    "width": "165px"
   },
   "toc_section_display": true,
   "toc_window_display": true
  }
 },
 "nbformat": 4,
 "nbformat_minor": 5
}
